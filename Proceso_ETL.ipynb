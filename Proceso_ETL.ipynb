{
 "cells": [
  {
   "cell_type": "code",
   "execution_count": 1,
   "metadata": {},
   "outputs": [
    {
     "data": {
      "text/plain": [
       "polars.config.Config"
      ]
     },
     "execution_count": 1,
     "metadata": {},
     "output_type": "execute_result"
    }
   ],
   "source": [
    "import polars as pl\n",
    "from polars import Config\n",
    "Config.set_fmt_str_lengths(100)"
   ]
  },
  {
   "cell_type": "markdown",
   "metadata": {},
   "source": [
    "### Leyendo un archivo sin encabezado\n",
    "#### Funciones empiezan con minusculas (date) y tipo de datos con mayuscula (Date)"
   ]
  },
  {
   "cell_type": "code",
   "execution_count": 2,
   "metadata": {},
   "outputs": [
    {
     "data": {
      "text/html": [
       "<div><style>\n",
       ".dataframe > thead > tr,\n",
       ".dataframe > tbody > tr {\n",
       "  text-align: right;\n",
       "  white-space: pre-wrap;\n",
       "}\n",
       "</style>\n",
       "<small>shape: (5, 4)</small><table border=\"1\" class=\"dataframe\"><thead><tr><th>Numero Ticket</th><th>Estado</th><th>Fecha Creacion</th><th>Clasificacion</th></tr><tr><td>str</td><td>str</td><td>date</td><td>i64</td></tr></thead><tbody><tr><td>&quot;WO0000004122687&quot;</td><td>&quot;Cerrado&quot;</td><td>2022-06-01</td><td>3</td></tr><tr><td>&quot;WO0000004122649&quot;</td><td>&quot;Cerrado&quot;</td><td>2022-06-01</td><td>3</td></tr><tr><td>&quot;WO0000004122502&quot;</td><td>&quot;Cerrado&quot;</td><td>2022-06-01</td><td>3</td></tr><tr><td>&quot;WO0000004122513&quot;</td><td>&quot;Cerrado&quot;</td><td>2022-06-01</td><td>3</td></tr><tr><td>&quot;WO0000004122741&quot;</td><td>&quot;Cerrado&quot;</td><td>2022-06-01</td><td>3</td></tr></tbody></table></div>"
      ],
      "text/plain": [
       "shape: (5, 4)\n",
       "┌─────────────────┬─────────┬────────────────┬───────────────┐\n",
       "│ Numero Ticket   ┆ Estado  ┆ Fecha Creacion ┆ Clasificacion │\n",
       "│ ---             ┆ ---     ┆ ---            ┆ ---           │\n",
       "│ str             ┆ str     ┆ date           ┆ i64           │\n",
       "╞═════════════════╪═════════╪════════════════╪═══════════════╡\n",
       "│ WO0000004122687 ┆ Cerrado ┆ 2022-06-01     ┆ 3             │\n",
       "│ WO0000004122649 ┆ Cerrado ┆ 2022-06-01     ┆ 3             │\n",
       "│ WO0000004122502 ┆ Cerrado ┆ 2022-06-01     ┆ 3             │\n",
       "│ WO0000004122513 ┆ Cerrado ┆ 2022-06-01     ┆ 3             │\n",
       "│ WO0000004122741 ┆ Cerrado ┆ 2022-06-01     ┆ 3             │\n",
       "└─────────────────┴─────────┴────────────────┴───────────────┘"
      ]
     },
     "execution_count": 2,
     "metadata": {},
     "output_type": "execute_result"
    }
   ],
   "source": [
    "#./ es para subir (entrar) a la carpeta Tickets\n",
    "#has_header: definir si tiene encabezado\n",
    "#schema: definimos los nombres de columnas y su tipo de dato\n",
    "se1 = pl.read_csv(\n",
    "    source='./Tickets/SinEncabezado.txt',\n",
    "    has_header=False,\n",
    "    separator=';',\n",
    "    schema={\n",
    "        \"Numero Ticket\": pl.Utf8,\n",
    "        \"Estado\": pl.Utf8,\n",
    "        \"Fecha Creacion\": pl.Date,\n",
    "        \"Clasificacion\": pl.Int64,\n",
    "    }\n",
    ")\n",
    "se1.head()"
   ]
  },
  {
   "cell_type": "code",
   "execution_count": 3,
   "metadata": {},
   "outputs": [
    {
     "data": {
      "text/html": [
       "<div><style>\n",
       ".dataframe > thead > tr,\n",
       ".dataframe > tbody > tr {\n",
       "  text-align: right;\n",
       "  white-space: pre-wrap;\n",
       "}\n",
       "</style>\n",
       "<small>shape: (5, 4)</small><table border=\"1\" class=\"dataframe\"><thead><tr><th>Numero Ticket</th><th>Estado</th><th>Fecha Creacion</th><th>Clasificacion</th></tr><tr><td>str</td><td>i64</td><td>date</td><td>i64</td></tr></thead><tbody><tr><td>&quot;WO0000004122687&quot;</td><td>null</td><td>2022-06-01</td><td>3</td></tr><tr><td>&quot;WO0000004122649&quot;</td><td>null</td><td>2022-06-01</td><td>3</td></tr><tr><td>&quot;WO0000004122502&quot;</td><td>null</td><td>2022-06-01</td><td>3</td></tr><tr><td>&quot;WO0000004122513&quot;</td><td>null</td><td>2022-06-01</td><td>3</td></tr><tr><td>&quot;WO0000004122741&quot;</td><td>null</td><td>2022-06-01</td><td>3</td></tr></tbody></table></div>"
      ],
      "text/plain": [
       "shape: (5, 4)\n",
       "┌─────────────────┬────────┬────────────────┬───────────────┐\n",
       "│ Numero Ticket   ┆ Estado ┆ Fecha Creacion ┆ Clasificacion │\n",
       "│ ---             ┆ ---    ┆ ---            ┆ ---           │\n",
       "│ str             ┆ i64    ┆ date           ┆ i64           │\n",
       "╞═════════════════╪════════╪════════════════╪═══════════════╡\n",
       "│ WO0000004122687 ┆ null   ┆ 2022-06-01     ┆ 3             │\n",
       "│ WO0000004122649 ┆ null   ┆ 2022-06-01     ┆ 3             │\n",
       "│ WO0000004122502 ┆ null   ┆ 2022-06-01     ┆ 3             │\n",
       "│ WO0000004122513 ┆ null   ┆ 2022-06-01     ┆ 3             │\n",
       "│ WO0000004122741 ┆ null   ┆ 2022-06-01     ┆ 3             │\n",
       "└─────────────────┴────────┴────────────────┴───────────────┘"
      ]
     },
     "execution_count": 3,
     "metadata": {},
     "output_type": "execute_result"
    }
   ],
   "source": [
    "#el mismo ejercicio de arriba, solo que a poner int a un campo texto sale error (campo Estado), pero colocando ignore_errors=True, saltamos ese error, y se pone null\n",
    "se1 = pl.read_csv(\n",
    "    source='./Tickets/SinEncabezado.txt',\n",
    "    has_header=False,\n",
    "    separator=';',\n",
    "    schema={\n",
    "        \"Numero Ticket\": pl.Utf8,\n",
    "        \"Estado\": pl.Int64,\n",
    "        \"Fecha Creacion\": pl.Date,\n",
    "        \"Clasificacion\": pl.Int64,\n",
    "    },\n",
    "    ignore_errors=True\n",
    ")\n",
    "se1.head()"
   ]
  },
  {
   "cell_type": "code",
   "execution_count": 4,
   "metadata": {},
   "outputs": [
    {
     "data": {
      "text/html": [
       "<div><style>\n",
       ".dataframe > thead > tr,\n",
       ".dataframe > tbody > tr {\n",
       "  text-align: right;\n",
       "  white-space: pre-wrap;\n",
       "}\n",
       "</style>\n",
       "<small>shape: (5, 4)</small><table border=\"1\" class=\"dataframe\"><thead><tr><th>column_1</th><th>column_2</th><th>column_3</th><th>column_4</th></tr><tr><td>str</td><td>str</td><td>str</td><td>i64</td></tr></thead><tbody><tr><td>&quot;WO0000004122687&quot;</td><td>&quot;Cerrado&quot;</td><td>&quot;1/06/2022&quot;</td><td>3</td></tr><tr><td>&quot;WO0000004122649&quot;</td><td>&quot;Cerrado&quot;</td><td>&quot;1/06/2022&quot;</td><td>3</td></tr><tr><td>&quot;WO0000004122502&quot;</td><td>&quot;Cerrado&quot;</td><td>&quot;1/06/2022&quot;</td><td>3</td></tr><tr><td>&quot;WO0000004122513&quot;</td><td>&quot;Cerrado&quot;</td><td>&quot;1/06/2022&quot;</td><td>3</td></tr><tr><td>&quot;WO0000004122741&quot;</td><td>&quot;Cerrado&quot;</td><td>&quot;1/06/2022&quot;</td><td>3</td></tr></tbody></table></div>"
      ],
      "text/plain": [
       "shape: (5, 4)\n",
       "┌─────────────────┬──────────┬───────────┬──────────┐\n",
       "│ column_1        ┆ column_2 ┆ column_3  ┆ column_4 │\n",
       "│ ---             ┆ ---      ┆ ---       ┆ ---      │\n",
       "│ str             ┆ str      ┆ str       ┆ i64      │\n",
       "╞═════════════════╪══════════╪═══════════╪══════════╡\n",
       "│ WO0000004122687 ┆ Cerrado  ┆ 1/06/2022 ┆ 3        │\n",
       "│ WO0000004122649 ┆ Cerrado  ┆ 1/06/2022 ┆ 3        │\n",
       "│ WO0000004122502 ┆ Cerrado  ┆ 1/06/2022 ┆ 3        │\n",
       "│ WO0000004122513 ┆ Cerrado  ┆ 1/06/2022 ┆ 3        │\n",
       "│ WO0000004122741 ┆ Cerrado  ┆ 1/06/2022 ┆ 3        │\n",
       "└─────────────────┴──────────┴───────────┴──────────┘"
      ]
     },
     "execution_count": 4,
     "metadata": {},
     "output_type": "execute_result"
    }
   ],
   "source": [
    "se1 = pl.read_csv(\n",
    "    source='./Tickets/SinEncabezado.txt',\n",
    "    has_header=False,\n",
    "    separator=';'   \n",
    ")\n",
    "se1.head()"
   ]
  },
  {
   "cell_type": "code",
   "execution_count": 5,
   "metadata": {},
   "outputs": [],
   "source": [
    "# Renombrando columnas\n",
    "se1 = se1.rename({\n",
    "    'column_1': 'Numero Ticket', 'column_2': 'Estado', 'column_3': 'Fecha Creacion', 'column_4': 'Clasificacion'\n",
    "})"
   ]
  },
  {
   "cell_type": "code",
   "execution_count": 6,
   "metadata": {},
   "outputs": [
    {
     "data": {
      "text/html": [
       "<div><style>\n",
       ".dataframe > thead > tr,\n",
       ".dataframe > tbody > tr {\n",
       "  text-align: right;\n",
       "  white-space: pre-wrap;\n",
       "}\n",
       "</style>\n",
       "<small>shape: (5, 4)</small><table border=\"1\" class=\"dataframe\"><thead><tr><th>Numero Ticket</th><th>Estado</th><th>Fecha Creacion</th><th>Clasificacion</th></tr><tr><td>str</td><td>str</td><td>str</td><td>i64</td></tr></thead><tbody><tr><td>&quot;WO0000004122687&quot;</td><td>&quot;Cerrado&quot;</td><td>&quot;1/06/2022&quot;</td><td>3</td></tr><tr><td>&quot;WO0000004122649&quot;</td><td>&quot;Cerrado&quot;</td><td>&quot;1/06/2022&quot;</td><td>3</td></tr><tr><td>&quot;WO0000004122502&quot;</td><td>&quot;Cerrado&quot;</td><td>&quot;1/06/2022&quot;</td><td>3</td></tr><tr><td>&quot;WO0000004122513&quot;</td><td>&quot;Cerrado&quot;</td><td>&quot;1/06/2022&quot;</td><td>3</td></tr><tr><td>&quot;WO0000004122741&quot;</td><td>&quot;Cerrado&quot;</td><td>&quot;1/06/2022&quot;</td><td>3</td></tr></tbody></table></div>"
      ],
      "text/plain": [
       "shape: (5, 4)\n",
       "┌─────────────────┬─────────┬────────────────┬───────────────┐\n",
       "│ Numero Ticket   ┆ Estado  ┆ Fecha Creacion ┆ Clasificacion │\n",
       "│ ---             ┆ ---     ┆ ---            ┆ ---           │\n",
       "│ str             ┆ str     ┆ str            ┆ i64           │\n",
       "╞═════════════════╪═════════╪════════════════╪═══════════════╡\n",
       "│ WO0000004122687 ┆ Cerrado ┆ 1/06/2022      ┆ 3             │\n",
       "│ WO0000004122649 ┆ Cerrado ┆ 1/06/2022      ┆ 3             │\n",
       "│ WO0000004122502 ┆ Cerrado ┆ 1/06/2022      ┆ 3             │\n",
       "│ WO0000004122513 ┆ Cerrado ┆ 1/06/2022      ┆ 3             │\n",
       "│ WO0000004122741 ┆ Cerrado ┆ 1/06/2022      ┆ 3             │\n",
       "└─────────────────┴─────────┴────────────────┴───────────────┘"
      ]
     },
     "execution_count": 6,
     "metadata": {},
     "output_type": "execute_result"
    }
   ],
   "source": [
    "se1.head()"
   ]
  },
  {
   "cell_type": "code",
   "execution_count": 7,
   "metadata": {},
   "outputs": [
    {
     "data": {
      "text/html": [
       "<div><style>\n",
       ".dataframe > thead > tr,\n",
       ".dataframe > tbody > tr {\n",
       "  text-align: right;\n",
       "  white-space: pre-wrap;\n",
       "}\n",
       "</style>\n",
       "<small>shape: (5, 4)</small><table border=\"1\" class=\"dataframe\"><thead><tr><th>Numero Ticket</th><th>Estado</th><th>Fecha Creacion</th><th>Clasificacion</th></tr><tr><td>str</td><td>str</td><td>date</td><td>i64</td></tr></thead><tbody><tr><td>&quot;WO0000004122687&quot;</td><td>&quot;Cerrado&quot;</td><td>2022-06-01</td><td>3</td></tr><tr><td>&quot;WO0000004122649&quot;</td><td>&quot;Cerrado&quot;</td><td>2022-06-01</td><td>3</td></tr><tr><td>&quot;WO0000004122502&quot;</td><td>&quot;Cerrado&quot;</td><td>2022-06-01</td><td>3</td></tr><tr><td>&quot;WO0000004122513&quot;</td><td>&quot;Cerrado&quot;</td><td>2022-06-01</td><td>3</td></tr><tr><td>&quot;WO0000004122741&quot;</td><td>&quot;Cerrado&quot;</td><td>2022-06-01</td><td>3</td></tr></tbody></table></div>"
      ],
      "text/plain": [
       "shape: (5, 4)\n",
       "┌─────────────────┬─────────┬────────────────┬───────────────┐\n",
       "│ Numero Ticket   ┆ Estado  ┆ Fecha Creacion ┆ Clasificacion │\n",
       "│ ---             ┆ ---     ┆ ---            ┆ ---           │\n",
       "│ str             ┆ str     ┆ date           ┆ i64           │\n",
       "╞═════════════════╪═════════╪════════════════╪═══════════════╡\n",
       "│ WO0000004122687 ┆ Cerrado ┆ 2022-06-01     ┆ 3             │\n",
       "│ WO0000004122649 ┆ Cerrado ┆ 2022-06-01     ┆ 3             │\n",
       "│ WO0000004122502 ┆ Cerrado ┆ 2022-06-01     ┆ 3             │\n",
       "│ WO0000004122513 ┆ Cerrado ┆ 2022-06-01     ┆ 3             │\n",
       "│ WO0000004122741 ┆ Cerrado ┆ 2022-06-01     ┆ 3             │\n",
       "└─────────────────┴─────────┴────────────────┴───────────────┘"
      ]
     },
     "execution_count": 7,
     "metadata": {},
     "output_type": "execute_result"
    }
   ],
   "source": [
    "# Cambiar el tipo de datos de las columnas fechas - el formato es de como está la columna\n",
    "se1 = se1.with_columns(\n",
    "    pl.col('Fecha Creacion').str.to_date('%d/%m/%Y')\n",
    ")\n",
    "se1.head()"
   ]
  },
  {
   "cell_type": "markdown",
   "metadata": {},
   "source": [
    "### Lectura Tickets Historico"
   ]
  },
  {
   "cell_type": "code",
   "execution_count": 8,
   "metadata": {},
   "outputs": [
    {
     "data": {
      "text/html": [
       "<div><style>\n",
       ".dataframe > thead > tr,\n",
       ".dataframe > tbody > tr {\n",
       "  text-align: right;\n",
       "  white-space: pre-wrap;\n",
       "}\n",
       "</style>\n",
       "<small>shape: (5, 7)</small><table border=\"1\" class=\"dataframe\"><thead><tr><th>Numero Ticket</th><th>Ubicacion</th><th>Service Desk</th><th>Estado</th><th>Fecha Creacion</th><th>Fecha Termino</th><th>Fecha Cierre</th></tr><tr><td>str</td><td>str</td><td>str</td><td>str</td><td>date</td><td>date</td><td>date</td></tr></thead><tbody><tr><td>&quot;WO0000004122687&quot;</td><td>&quot;AREQUIPA - 215000&quot;</td><td>&quot;Zona Norte&quot;</td><td>&quot;Cerrado&quot;</td><td>2022-06-01</td><td>2022-06-14</td><td>2022-06-14</td></tr><tr><td>&quot;WO0000004122649&quot;</td><td>&quot;METRO AV. WIESSE - 191106&quot;</td><td>&quot;Zona Centro&quot;</td><td>&quot;Cerrado&quot;</td><td>2022-06-01</td><td>2022-06-17</td><td>2022-06-17</td></tr><tr><td>&quot;WO0000004122502&quot;</td><td>&quot;NICOLAS AYLLON - 191027&quot;</td><td>&quot;Zona Centro&quot;</td><td>&quot;Cerrado&quot;</td><td>2022-06-01</td><td>2022-06-08</td><td>2022-06-08</td></tr><tr><td>&quot;WO0000004122513&quot;</td><td>&quot;JAUREGUI - 405005&quot;</td><td>&quot;Zona Norte&quot;</td><td>&quot;Cerrado&quot;</td><td>2022-06-01</td><td>2022-06-18</td><td>2022-06-18</td></tr><tr><td>&quot;WO0000004122741&quot;</td><td>&quot;CANTO GRANDE - 191096&quot;</td><td>&quot;Zona Centro&quot;</td><td>&quot;Cerrado&quot;</td><td>2022-06-01</td><td>2022-06-08</td><td>2022-06-08</td></tr></tbody></table></div>"
      ],
      "text/plain": [
       "shape: (5, 7)\n",
       "┌──────────────┬──────────────┬──────────────┬─────────┬──────────────┬──────────────┬─────────────┐\n",
       "│ Numero       ┆ Ubicacion    ┆ Service Desk ┆ Estado  ┆ Fecha        ┆ Fecha        ┆ Fecha       │\n",
       "│ Ticket       ┆ ---          ┆ ---          ┆ ---     ┆ Creacion     ┆ Termino      ┆ Cierre      │\n",
       "│ ---          ┆ str          ┆ str          ┆ str     ┆ ---          ┆ ---          ┆ ---         │\n",
       "│ str          ┆              ┆              ┆         ┆ date         ┆ date         ┆ date        │\n",
       "╞══════════════╪══════════════╪══════════════╪═════════╪══════════════╪══════════════╪═════════════╡\n",
       "│ WO0000004122 ┆ AREQUIPA -   ┆ Zona Norte   ┆ Cerrado ┆ 2022-06-01   ┆ 2022-06-14   ┆ 2022-06-14  │\n",
       "│ 687          ┆ 215000       ┆              ┆         ┆              ┆              ┆             │\n",
       "│ WO0000004122 ┆ METRO AV.    ┆ Zona Centro  ┆ Cerrado ┆ 2022-06-01   ┆ 2022-06-17   ┆ 2022-06-17  │\n",
       "│ 649          ┆ WIESSE -     ┆              ┆         ┆              ┆              ┆             │\n",
       "│              ┆ 191106       ┆              ┆         ┆              ┆              ┆             │\n",
       "│ WO0000004122 ┆ NICOLAS      ┆ Zona Centro  ┆ Cerrado ┆ 2022-06-01   ┆ 2022-06-08   ┆ 2022-06-08  │\n",
       "│ 502          ┆ AYLLON -     ┆              ┆         ┆              ┆              ┆             │\n",
       "│              ┆ 191027       ┆              ┆         ┆              ┆              ┆             │\n",
       "│ WO0000004122 ┆ JAUREGUI -   ┆ Zona Norte   ┆ Cerrado ┆ 2022-06-01   ┆ 2022-06-18   ┆ 2022-06-18  │\n",
       "│ 513          ┆ 405005       ┆              ┆         ┆              ┆              ┆             │\n",
       "│ WO0000004122 ┆ CANTO GRANDE ┆ Zona Centro  ┆ Cerrado ┆ 2022-06-01   ┆ 2022-06-08   ┆ 2022-06-08  │\n",
       "│ 741          ┆ - 191096     ┆              ┆         ┆              ┆              ┆             │\n",
       "└──────────────┴──────────────┴──────────────┴─────────┴──────────────┴──────────────┴─────────────┘"
      ]
     },
     "execution_count": 8,
     "metadata": {},
     "output_type": "execute_result"
    }
   ],
   "source": [
    "# Propiedad columns defino solo las columnas que necesito\n",
    "# Propiedad try_parse_dates=True intenta parsear las columnas fecha (tipo de dato fecha)\n",
    "# Propiedad ignore_errors=True ignora los errores y les pone null\n",
    "ce1 = pl.read_csv(\n",
    "    source='./Tickets/Tickets Historico.txt',    \n",
    "    separator=';',\n",
    "    columns=['Numero Ticket', 'Ubicacion', 'Service Desk', 'Estado','Fecha Creacion','Fecha Termino', 'Fecha Cierre'],\n",
    "    try_parse_dates=True\n",
    "    #ignore_errors=True\n",
    ")\n",
    "ce1.head()"
   ]
  },
  {
   "cell_type": "code",
   "execution_count": 9,
   "metadata": {},
   "outputs": [
    {
     "data": {
      "text/html": [
       "<div><style>\n",
       ".dataframe > thead > tr,\n",
       ".dataframe > tbody > tr {\n",
       "  text-align: right;\n",
       "  white-space: pre-wrap;\n",
       "}\n",
       "</style>\n",
       "<small>shape: (5, 7)</small><table border=\"1\" class=\"dataframe\"><thead><tr><th>TicketID</th><th>Ubicacion</th><th>Service Desk</th><th>Estado</th><th>Fecha Creacion</th><th>Fecha Termino</th><th>Fecha Cierre</th></tr><tr><td>str</td><td>str</td><td>str</td><td>str</td><td>date</td><td>date</td><td>date</td></tr></thead><tbody><tr><td>&quot;WO0000004122687&quot;</td><td>&quot;AREQUIPA - 215000&quot;</td><td>&quot;Zona Norte&quot;</td><td>&quot;Cerrado&quot;</td><td>2022-06-01</td><td>2022-06-14</td><td>2022-06-14</td></tr><tr><td>&quot;WO0000004122649&quot;</td><td>&quot;METRO AV. WIESSE - 191106&quot;</td><td>&quot;Zona Centro&quot;</td><td>&quot;Cerrado&quot;</td><td>2022-06-01</td><td>2022-06-17</td><td>2022-06-17</td></tr><tr><td>&quot;WO0000004122502&quot;</td><td>&quot;NICOLAS AYLLON - 191027&quot;</td><td>&quot;Zona Centro&quot;</td><td>&quot;Cerrado&quot;</td><td>2022-06-01</td><td>2022-06-08</td><td>2022-06-08</td></tr><tr><td>&quot;WO0000004122513&quot;</td><td>&quot;JAUREGUI - 405005&quot;</td><td>&quot;Zona Norte&quot;</td><td>&quot;Cerrado&quot;</td><td>2022-06-01</td><td>2022-06-18</td><td>2022-06-18</td></tr><tr><td>&quot;WO0000004122741&quot;</td><td>&quot;CANTO GRANDE - 191096&quot;</td><td>&quot;Zona Centro&quot;</td><td>&quot;Cerrado&quot;</td><td>2022-06-01</td><td>2022-06-08</td><td>2022-06-08</td></tr></tbody></table></div>"
      ],
      "text/plain": [
       "shape: (5, 7)\n",
       "┌──────────────┬──────────────┬──────────────┬─────────┬──────────────┬──────────────┬─────────────┐\n",
       "│ TicketID     ┆ Ubicacion    ┆ Service Desk ┆ Estado  ┆ Fecha        ┆ Fecha        ┆ Fecha       │\n",
       "│ ---          ┆ ---          ┆ ---          ┆ ---     ┆ Creacion     ┆ Termino      ┆ Cierre      │\n",
       "│ str          ┆ str          ┆ str          ┆ str     ┆ ---          ┆ ---          ┆ ---         │\n",
       "│              ┆              ┆              ┆         ┆ date         ┆ date         ┆ date        │\n",
       "╞══════════════╪══════════════╪══════════════╪═════════╪══════════════╪══════════════╪═════════════╡\n",
       "│ WO0000004122 ┆ AREQUIPA -   ┆ Zona Norte   ┆ Cerrado ┆ 2022-06-01   ┆ 2022-06-14   ┆ 2022-06-14  │\n",
       "│ 687          ┆ 215000       ┆              ┆         ┆              ┆              ┆             │\n",
       "│ WO0000004122 ┆ METRO AV.    ┆ Zona Centro  ┆ Cerrado ┆ 2022-06-01   ┆ 2022-06-17   ┆ 2022-06-17  │\n",
       "│ 649          ┆ WIESSE -     ┆              ┆         ┆              ┆              ┆             │\n",
       "│              ┆ 191106       ┆              ┆         ┆              ┆              ┆             │\n",
       "│ WO0000004122 ┆ NICOLAS      ┆ Zona Centro  ┆ Cerrado ┆ 2022-06-01   ┆ 2022-06-08   ┆ 2022-06-08  │\n",
       "│ 502          ┆ AYLLON -     ┆              ┆         ┆              ┆              ┆             │\n",
       "│              ┆ 191027       ┆              ┆         ┆              ┆              ┆             │\n",
       "│ WO0000004122 ┆ JAUREGUI -   ┆ Zona Norte   ┆ Cerrado ┆ 2022-06-01   ┆ 2022-06-18   ┆ 2022-06-18  │\n",
       "│ 513          ┆ 405005       ┆              ┆         ┆              ┆              ┆             │\n",
       "│ WO0000004122 ┆ CANTO GRANDE ┆ Zona Centro  ┆ Cerrado ┆ 2022-06-01   ┆ 2022-06-08   ┆ 2022-06-08  │\n",
       "│ 741          ┆ - 191096     ┆              ┆         ┆              ┆              ┆             │\n",
       "└──────────────┴──────────────┴──────────────┴─────────┴──────────────┴──────────────┴─────────────┘"
      ]
     },
     "execution_count": 9,
     "metadata": {},
     "output_type": "execute_result"
    }
   ],
   "source": [
    "# Renombrar columnas\n",
    "Historico = pl.read_csv(\n",
    "    source='./Tickets/Tickets Historico.txt',    \n",
    "    separator=';',\n",
    "    columns=['Numero Ticket', 'Ubicacion', 'Service Desk', 'Estado','Fecha Creacion','Fecha Termino', 'Fecha Cierre'],\n",
    "    try_parse_dates=True    \n",
    "    #ignore_errors=True\n",
    ").rename({'Numero Ticket': 'TicketID'})\n",
    "Historico.head()"
   ]
  },
  {
   "cell_type": "markdown",
   "metadata": {},
   "source": [
    "#### Lectura de Tickets Actuales"
   ]
  },
  {
   "cell_type": "code",
   "execution_count": 10,
   "metadata": {},
   "outputs": [
    {
     "data": {
      "text/html": [
       "<div><style>\n",
       ".dataframe > thead > tr,\n",
       ".dataframe > tbody > tr {\n",
       "  text-align: right;\n",
       "  white-space: pre-wrap;\n",
       "}\n",
       "</style>\n",
       "<small>shape: (5, 7)</small><table border=\"1\" class=\"dataframe\"><thead><tr><th>Numero Ticket</th><th>Ubicacion</th><th>Service Desk</th><th>Estado</th><th>Fecha Creacion</th><th>Fecha Termino</th><th>Fecha Cierre</th></tr><tr><td>str</td><td>str</td><td>str</td><td>str</td><td>date</td><td>date</td><td>date</td></tr></thead><tbody><tr><td>&quot;WO0000004853311&quot;</td><td>&quot;TUPAC AMARU - 191038&quot;</td><td>&quot;Zona Centro&quot;</td><td>&quot;Cerrado&quot;</td><td>2023-01-02</td><td>2023-01-10</td><td>2023-01-13</td></tr><tr><td>&quot;WO0000004852942&quot;</td><td>&quot;SAN JUAN DE LURIGANCHO - 191017&quot;</td><td>&quot;Zona Centro&quot;</td><td>&quot;Cerrado&quot;</td><td>2023-01-02</td><td>2023-01-02</td><td>2023-01-05</td></tr><tr><td>&quot;WO0000004852621&quot;</td><td>&quot;MARIANO MELGAR - 215014&quot;</td><td>&quot;Zona Norte&quot;</td><td>&quot;Cerrado&quot;</td><td>2023-01-02</td><td>2023-01-06</td><td>2023-01-09</td></tr><tr><td>&quot;SA0000004853328&quot;</td><td>&quot;ANDAHUAYLAS - 205000&quot;</td><td>&quot;Zona Norte&quot;</td><td>&quot;Cerrado&quot;</td><td>2023-01-02</td><td>2023-01-07</td><td>2023-01-10</td></tr><tr><td>&quot;SA0000004853160&quot;</td><td>&quot;COLLIQUE - 191065&quot;</td><td>&quot;Zona Centro&quot;</td><td>&quot;Cerrado&quot;</td><td>2023-01-02</td><td>2023-01-04</td><td>2023-01-07</td></tr></tbody></table></div>"
      ],
      "text/plain": [
       "shape: (5, 7)\n",
       "┌──────────────┬──────────────┬──────────────┬─────────┬──────────────┬──────────────┬─────────────┐\n",
       "│ Numero       ┆ Ubicacion    ┆ Service Desk ┆ Estado  ┆ Fecha        ┆ Fecha        ┆ Fecha       │\n",
       "│ Ticket       ┆ ---          ┆ ---          ┆ ---     ┆ Creacion     ┆ Termino      ┆ Cierre      │\n",
       "│ ---          ┆ str          ┆ str          ┆ str     ┆ ---          ┆ ---          ┆ ---         │\n",
       "│ str          ┆              ┆              ┆         ┆ date         ┆ date         ┆ date        │\n",
       "╞══════════════╪══════════════╪══════════════╪═════════╪══════════════╪══════════════╪═════════════╡\n",
       "│ WO0000004853 ┆ TUPAC AMARU  ┆ Zona Centro  ┆ Cerrado ┆ 2023-01-02   ┆ 2023-01-10   ┆ 2023-01-13  │\n",
       "│ 311          ┆ - 191038     ┆              ┆         ┆              ┆              ┆             │\n",
       "│ WO0000004852 ┆ SAN JUAN DE  ┆ Zona Centro  ┆ Cerrado ┆ 2023-01-02   ┆ 2023-01-02   ┆ 2023-01-05  │\n",
       "│ 942          ┆ LURIGANCHO - ┆              ┆         ┆              ┆              ┆             │\n",
       "│              ┆ 191017       ┆              ┆         ┆              ┆              ┆             │\n",
       "│ WO0000004852 ┆ MARIANO      ┆ Zona Norte   ┆ Cerrado ┆ 2023-01-02   ┆ 2023-01-06   ┆ 2023-01-09  │\n",
       "│ 621          ┆ MELGAR -     ┆              ┆         ┆              ┆              ┆             │\n",
       "│              ┆ 215014       ┆              ┆         ┆              ┆              ┆             │\n",
       "│ SA0000004853 ┆ ANDAHUAYLAS  ┆ Zona Norte   ┆ Cerrado ┆ 2023-01-02   ┆ 2023-01-07   ┆ 2023-01-10  │\n",
       "│ 328          ┆ - 205000     ┆              ┆         ┆              ┆              ┆             │\n",
       "│ SA0000004853 ┆ COLLIQUE -   ┆ Zona Centro  ┆ Cerrado ┆ 2023-01-02   ┆ 2023-01-04   ┆ 2023-01-07  │\n",
       "│ 160          ┆ 191065       ┆              ┆         ┆              ┆              ┆             │\n",
       "└──────────────┴──────────────┴──────────────┴─────────┴──────────────┴──────────────┴─────────────┘"
      ]
     },
     "execution_count": 10,
     "metadata": {},
     "output_type": "execute_result"
    }
   ],
   "source": [
    "# parseamos las columnas fecha\n",
    "Actuales = pl.read_csv(\n",
    "    source='./Tickets/Tickets Actual.csv',    \n",
    "    separator='|',\n",
    "    columns=['Numero Ticket', 'Ubicacion', 'Service Desk', 'Estado','Fecha Creacion','Fecha Termino', 'Fecha Cierre'],\n",
    "    try_parse_dates=True  \n",
    "    #ignore_errors=True\n",
    ")\n",
    "Actuales.head()"
   ]
  },
  {
   "cell_type": "code",
   "execution_count": 11,
   "metadata": {},
   "outputs": [
    {
     "data": {
      "text/html": [
       "<div><style>\n",
       ".dataframe > thead > tr,\n",
       ".dataframe > tbody > tr {\n",
       "  text-align: right;\n",
       "  white-space: pre-wrap;\n",
       "}\n",
       "</style>\n",
       "<small>shape: (5, 7)</small><table border=\"1\" class=\"dataframe\"><thead><tr><th>Numero Ticket</th><th>Ubicacion</th><th>Service Desk</th><th>Estado</th><th>Fecha Creacion</th><th>Fecha Termino</th><th>Fecha Cierre</th></tr><tr><td>str</td><td>str</td><td>str</td><td>str</td><td>str</td><td>str</td><td>str</td></tr></thead><tbody><tr><td>&quot;WO0000004853311&quot;</td><td>&quot;TUPAC AMARU - 191038&quot;</td><td>&quot;Zona Centro&quot;</td><td>&quot;Cerrado&quot;</td><td>&quot;2023-01-02&quot;</td><td>&quot;10/01/2023&quot;</td><td>&quot;13/01/2023&quot;</td></tr><tr><td>&quot;WO0000004852942&quot;</td><td>&quot;SAN JUAN DE LURIGANCHO - 191017&quot;</td><td>&quot;Zona Centro&quot;</td><td>&quot;Cerrado&quot;</td><td>&quot;2023-01-02&quot;</td><td>&quot;2/01/2023&quot;</td><td>&quot;5/01/2023&quot;</td></tr><tr><td>&quot;WO0000004852621&quot;</td><td>&quot;MARIANO MELGAR - 215014&quot;</td><td>&quot;Zona Norte&quot;</td><td>&quot;Cerrado&quot;</td><td>&quot;2023-01-02&quot;</td><td>&quot;6/01/2023&quot;</td><td>&quot;9/01/2023&quot;</td></tr><tr><td>&quot;SA0000004853328&quot;</td><td>&quot;ANDAHUAYLAS - 205000&quot;</td><td>&quot;Zona Norte&quot;</td><td>&quot;Cerrado&quot;</td><td>&quot;2023-01-02&quot;</td><td>&quot;7/01/2023&quot;</td><td>&quot;10/01/2023&quot;</td></tr><tr><td>&quot;SA0000004853160&quot;</td><td>&quot;COLLIQUE - 191065&quot;</td><td>&quot;Zona Centro&quot;</td><td>&quot;Cerrado&quot;</td><td>&quot;2023-01-02&quot;</td><td>&quot;4/01/2023&quot;</td><td>&quot;7/01/2023&quot;</td></tr></tbody></table></div>"
      ],
      "text/plain": [
       "shape: (5, 7)\n",
       "┌──────────────┬──────────────┬──────────────┬─────────┬──────────────┬──────────────┬─────────────┐\n",
       "│ Numero       ┆ Ubicacion    ┆ Service Desk ┆ Estado  ┆ Fecha        ┆ Fecha        ┆ Fecha       │\n",
       "│ Ticket       ┆ ---          ┆ ---          ┆ ---     ┆ Creacion     ┆ Termino      ┆ Cierre      │\n",
       "│ ---          ┆ str          ┆ str          ┆ str     ┆ ---          ┆ ---          ┆ ---         │\n",
       "│ str          ┆              ┆              ┆         ┆ str          ┆ str          ┆ str         │\n",
       "╞══════════════╪══════════════╪══════════════╪═════════╪══════════════╪══════════════╪═════════════╡\n",
       "│ WO0000004853 ┆ TUPAC AMARU  ┆ Zona Centro  ┆ Cerrado ┆ 2023-01-02   ┆ 10/01/2023   ┆ 13/01/2023  │\n",
       "│ 311          ┆ - 191038     ┆              ┆         ┆              ┆              ┆             │\n",
       "│ WO0000004852 ┆ SAN JUAN DE  ┆ Zona Centro  ┆ Cerrado ┆ 2023-01-02   ┆ 2/01/2023    ┆ 5/01/2023   │\n",
       "│ 942          ┆ LURIGANCHO - ┆              ┆         ┆              ┆              ┆             │\n",
       "│              ┆ 191017       ┆              ┆         ┆              ┆              ┆             │\n",
       "│ WO0000004852 ┆ MARIANO      ┆ Zona Norte   ┆ Cerrado ┆ 2023-01-02   ┆ 6/01/2023    ┆ 9/01/2023   │\n",
       "│ 621          ┆ MELGAR -     ┆              ┆         ┆              ┆              ┆             │\n",
       "│              ┆ 215014       ┆              ┆         ┆              ┆              ┆             │\n",
       "│ SA0000004853 ┆ ANDAHUAYLAS  ┆ Zona Norte   ┆ Cerrado ┆ 2023-01-02   ┆ 7/01/2023    ┆ 10/01/2023  │\n",
       "│ 328          ┆ - 205000     ┆              ┆         ┆              ┆              ┆             │\n",
       "│ SA0000004853 ┆ COLLIQUE -   ┆ Zona Centro  ┆ Cerrado ┆ 2023-01-02   ┆ 4/01/2023    ┆ 7/01/2023   │\n",
       "│ 160          ┆ 191065       ┆              ┆         ┆              ┆              ┆             │\n",
       "└──────────────┴──────────────┴──────────────┴─────────┴──────────────┴──────────────┴─────────────┘"
      ]
     },
     "execution_count": 11,
     "metadata": {},
     "output_type": "execute_result"
    }
   ],
   "source": [
    "# Obtenemos las columnas fecha como texto\n",
    "Actuales = pl.read_csv(\n",
    "    source='./Tickets/Tickets Actual.csv',    \n",
    "    separator='|',\n",
    "    columns=['Numero Ticket', 'Ubicacion', 'Service Desk', 'Estado','Fecha Creacion','Fecha Termino', 'Fecha Cierre']     \n",
    ")\n",
    "Actuales.head()"
   ]
  },
  {
   "cell_type": "markdown",
   "metadata": {},
   "source": [
    "- Convertir tipo fecha las columnas Fecha Creacion, Fecha Termino y Fecha Cierre\n",
    "- Renombrar la columna Numero Ticket como TicketID"
   ]
  },
  {
   "cell_type": "code",
   "execution_count": 12,
   "metadata": {},
   "outputs": [
    {
     "data": {
      "text/html": [
       "<div><style>\n",
       ".dataframe > thead > tr,\n",
       ".dataframe > tbody > tr {\n",
       "  text-align: right;\n",
       "  white-space: pre-wrap;\n",
       "}\n",
       "</style>\n",
       "<small>shape: (13_050,)</small><table border=\"1\" class=\"dataframe\"><thead><tr><th>Fecha Creacion</th></tr><tr><td>date</td></tr></thead><tbody><tr><td>2023-01-02</td></tr><tr><td>2023-01-02</td></tr><tr><td>2023-01-02</td></tr><tr><td>2023-01-02</td></tr><tr><td>2023-01-02</td></tr><tr><td>&hellip;</td></tr><tr><td>2023-10-29</td></tr><tr><td>2023-10-29</td></tr><tr><td>2023-10-29</td></tr><tr><td>2023-10-29</td></tr><tr><td>2023-10-29</td></tr></tbody></table></div>"
      ],
      "text/plain": [
       "shape: (13_050,)\n",
       "Series: 'Fecha Creacion' [date]\n",
       "[\n",
       "\t2023-01-02\n",
       "\t2023-01-02\n",
       "\t2023-01-02\n",
       "\t2023-01-02\n",
       "\t2023-01-02\n",
       "\t…\n",
       "\t2023-10-29\n",
       "\t2023-10-29\n",
       "\t2023-10-29\n",
       "\t2023-10-29\n",
       "\t2023-10-29\n",
       "]"
      ]
     },
     "execution_count": 12,
     "metadata": {},
     "output_type": "execute_result"
    }
   ],
   "source": [
    "# Opcional tipo pandas\n",
    "Actuales['Fecha Creacion'].str.to_date('%Y-%m-%d')"
   ]
  },
  {
   "cell_type": "code",
   "execution_count": 13,
   "metadata": {},
   "outputs": [
    {
     "data": {
      "text/html": [
       "<div><style>\n",
       ".dataframe > thead > tr,\n",
       ".dataframe > tbody > tr {\n",
       "  text-align: right;\n",
       "  white-space: pre-wrap;\n",
       "}\n",
       "</style>\n",
       "<small>shape: (5, 7)</small><table border=\"1\" class=\"dataframe\"><thead><tr><th>TicketID</th><th>Ubicacion</th><th>Service Desk</th><th>Estado</th><th>Fecha Creacion</th><th>Fecha Termino</th><th>Fecha Cierre</th></tr><tr><td>str</td><td>str</td><td>str</td><td>str</td><td>date</td><td>date</td><td>date</td></tr></thead><tbody><tr><td>&quot;WO0000004853311&quot;</td><td>&quot;TUPAC AMARU - 191038&quot;</td><td>&quot;Zona Centro&quot;</td><td>&quot;Cerrado&quot;</td><td>2023-01-02</td><td>2023-01-10</td><td>2023-01-13</td></tr><tr><td>&quot;WO0000004852942&quot;</td><td>&quot;SAN JUAN DE LURIGANCHO - 191017&quot;</td><td>&quot;Zona Centro&quot;</td><td>&quot;Cerrado&quot;</td><td>2023-01-02</td><td>2023-01-02</td><td>2023-01-05</td></tr><tr><td>&quot;WO0000004852621&quot;</td><td>&quot;MARIANO MELGAR - 215014&quot;</td><td>&quot;Zona Norte&quot;</td><td>&quot;Cerrado&quot;</td><td>2023-01-02</td><td>2023-01-06</td><td>2023-01-09</td></tr><tr><td>&quot;SA0000004853328&quot;</td><td>&quot;ANDAHUAYLAS - 205000&quot;</td><td>&quot;Zona Norte&quot;</td><td>&quot;Cerrado&quot;</td><td>2023-01-02</td><td>2023-01-07</td><td>2023-01-10</td></tr><tr><td>&quot;SA0000004853160&quot;</td><td>&quot;COLLIQUE - 191065&quot;</td><td>&quot;Zona Centro&quot;</td><td>&quot;Cerrado&quot;</td><td>2023-01-02</td><td>2023-01-04</td><td>2023-01-07</td></tr></tbody></table></div>"
      ],
      "text/plain": [
       "shape: (5, 7)\n",
       "┌──────────────┬──────────────┬──────────────┬─────────┬──────────────┬──────────────┬─────────────┐\n",
       "│ TicketID     ┆ Ubicacion    ┆ Service Desk ┆ Estado  ┆ Fecha        ┆ Fecha        ┆ Fecha       │\n",
       "│ ---          ┆ ---          ┆ ---          ┆ ---     ┆ Creacion     ┆ Termino      ┆ Cierre      │\n",
       "│ str          ┆ str          ┆ str          ┆ str     ┆ ---          ┆ ---          ┆ ---         │\n",
       "│              ┆              ┆              ┆         ┆ date         ┆ date         ┆ date        │\n",
       "╞══════════════╪══════════════╪══════════════╪═════════╪══════════════╪══════════════╪═════════════╡\n",
       "│ WO0000004853 ┆ TUPAC AMARU  ┆ Zona Centro  ┆ Cerrado ┆ 2023-01-02   ┆ 2023-01-10   ┆ 2023-01-13  │\n",
       "│ 311          ┆ - 191038     ┆              ┆         ┆              ┆              ┆             │\n",
       "│ WO0000004852 ┆ SAN JUAN DE  ┆ Zona Centro  ┆ Cerrado ┆ 2023-01-02   ┆ 2023-01-02   ┆ 2023-01-05  │\n",
       "│ 942          ┆ LURIGANCHO - ┆              ┆         ┆              ┆              ┆             │\n",
       "│              ┆ 191017       ┆              ┆         ┆              ┆              ┆             │\n",
       "│ WO0000004852 ┆ MARIANO      ┆ Zona Norte   ┆ Cerrado ┆ 2023-01-02   ┆ 2023-01-06   ┆ 2023-01-09  │\n",
       "│ 621          ┆ MELGAR -     ┆              ┆         ┆              ┆              ┆             │\n",
       "│              ┆ 215014       ┆              ┆         ┆              ┆              ┆             │\n",
       "│ SA0000004853 ┆ ANDAHUAYLAS  ┆ Zona Norte   ┆ Cerrado ┆ 2023-01-02   ┆ 2023-01-07   ┆ 2023-01-10  │\n",
       "│ 328          ┆ - 205000     ┆              ┆         ┆              ┆              ┆             │\n",
       "│ SA0000004853 ┆ COLLIQUE -   ┆ Zona Centro  ┆ Cerrado ┆ 2023-01-02   ┆ 2023-01-04   ┆ 2023-01-07  │\n",
       "│ 160          ┆ 191065       ┆              ┆         ┆              ┆              ┆             │\n",
       "└──────────────┴──────────────┴──────────────┴─────────┴──────────────┴──────────────┴─────────────┘"
      ]
     },
     "execution_count": 13,
     "metadata": {},
     "output_type": "execute_result"
    }
   ],
   "source": [
    "# Convirtiendo a tipo de dato str a fecha y renombrando la columna con alias\n",
    "Actuales = Actuales.select(\n",
    "    pl.col('Numero Ticket').alias('TicketID'), \n",
    "    'Ubicacion', 'Service Desk', 'Estado',\n",
    "    pl.col('Fecha Creacion').cast(pl.Date),\n",
    "    pl.col('Fecha Termino').str.to_date('%d/%m/%Y'),\n",
    "    pl.col('Fecha Cierre').str.to_date('%d/%m/%Y')\n",
    ")\n",
    "Actuales.head()"
   ]
  },
  {
   "cell_type": "markdown",
   "metadata": {},
   "source": [
    "- Filtrar aquellos Tickets que NO comiencen con WO"
   ]
  },
  {
   "cell_type": "code",
   "execution_count": 14,
   "metadata": {},
   "outputs": [
    {
     "data": {
      "text/html": [
       "<div><style>\n",
       ".dataframe > thead > tr,\n",
       ".dataframe > tbody > tr {\n",
       "  text-align: right;\n",
       "  white-space: pre-wrap;\n",
       "}\n",
       "</style>\n",
       "<small>shape: (28, 7)</small><table border=\"1\" class=\"dataframe\"><thead><tr><th>TicketID</th><th>Ubicacion</th><th>Service Desk</th><th>Estado</th><th>Fecha Creacion</th><th>Fecha Termino</th><th>Fecha Cierre</th></tr><tr><td>str</td><td>str</td><td>str</td><td>str</td><td>date</td><td>date</td><td>date</td></tr></thead><tbody><tr><td>&quot;SA0000004853328&quot;</td><td>&quot;ANDAHUAYLAS - 205000&quot;</td><td>&quot;Zona Norte&quot;</td><td>&quot;Cerrado&quot;</td><td>2023-01-02</td><td>2023-01-07</td><td>2023-01-10</td></tr><tr><td>&quot;SA0000004853160&quot;</td><td>&quot;COLLIQUE - 191065&quot;</td><td>&quot;Zona Centro&quot;</td><td>&quot;Cerrado&quot;</td><td>2023-01-02</td><td>2023-01-04</td><td>2023-01-07</td></tr><tr><td>&quot;SA0000004853158&quot;</td><td>&quot;COLLIQUE - 191065&quot;</td><td>&quot;Zona Centro&quot;</td><td>&quot;Cerrado&quot;</td><td>2023-01-02</td><td>2023-01-06</td><td>2023-01-09</td></tr><tr><td>&quot;SA0000004853157&quot;</td><td>&quot;COLLIQUE - 191065&quot;</td><td>&quot;Zona Centro&quot;</td><td>&quot;Cerrado&quot;</td><td>2023-01-02</td><td>2023-01-04</td><td>2023-01-07</td></tr><tr><td>&quot;SA0000004853156&quot;</td><td>&quot;COLLIQUE - 191065&quot;</td><td>&quot;Zona Centro&quot;</td><td>&quot;Cerrado&quot;</td><td>2023-01-02</td><td>2023-01-15</td><td>2023-01-18</td></tr><tr><td>&hellip;</td><td>&hellip;</td><td>&hellip;</td><td>&hellip;</td><td>&hellip;</td><td>&hellip;</td><td>&hellip;</td></tr><tr><td>&quot;OT0000005737139&quot;</td><td>&quot;CANTO GRANDE - 191096&quot;</td><td>&quot;Zona Centro&quot;</td><td>&quot;En curso&quot;</td><td>2023-10-29</td><td>null</td><td>null</td></tr><tr><td>&quot;OT0000005736853&quot;</td><td>&quot;NARANJAL - 191141&quot;</td><td>&quot;Zona Centro&quot;</td><td>&quot;En curso&quot;</td><td>2023-10-29</td><td>null</td><td>null</td></tr><tr><td>&quot;OT0000005736847&quot;</td><td>&quot;NARANJAL - 191141&quot;</td><td>&quot;Zona Centro&quot;</td><td>&quot;En curso&quot;</td><td>2023-10-29</td><td>null</td><td>null</td></tr><tr><td>&quot;OT0000005736845&quot;</td><td>&quot;NARANJAL - 191141&quot;</td><td>&quot;Zona Centro&quot;</td><td>&quot;En curso&quot;</td><td>2023-10-29</td><td>null</td><td>null</td></tr><tr><td>&quot;OT0000005736387&quot;</td><td>&quot;TARAPACA - 191030&quot;</td><td>&quot;Zona Centro&quot;</td><td>&quot;En curso&quot;</td><td>2023-10-29</td><td>null</td><td>null</td></tr></tbody></table></div>"
      ],
      "text/plain": [
       "shape: (28, 7)\n",
       "┌──────────────┬──────────────┬──────────────┬──────────┬──────────────┬─────────────┬─────────────┐\n",
       "│ TicketID     ┆ Ubicacion    ┆ Service Desk ┆ Estado   ┆ Fecha        ┆ Fecha       ┆ Fecha       │\n",
       "│ ---          ┆ ---          ┆ ---          ┆ ---      ┆ Creacion     ┆ Termino     ┆ Cierre      │\n",
       "│ str          ┆ str          ┆ str          ┆ str      ┆ ---          ┆ ---         ┆ ---         │\n",
       "│              ┆              ┆              ┆          ┆ date         ┆ date        ┆ date        │\n",
       "╞══════════════╪══════════════╪══════════════╪══════════╪══════════════╪═════════════╪═════════════╡\n",
       "│ SA0000004853 ┆ ANDAHUAYLAS  ┆ Zona Norte   ┆ Cerrado  ┆ 2023-01-02   ┆ 2023-01-07  ┆ 2023-01-10  │\n",
       "│ 328          ┆ - 205000     ┆              ┆          ┆              ┆             ┆             │\n",
       "│ SA0000004853 ┆ COLLIQUE -   ┆ Zona Centro  ┆ Cerrado  ┆ 2023-01-02   ┆ 2023-01-04  ┆ 2023-01-07  │\n",
       "│ 160          ┆ 191065       ┆              ┆          ┆              ┆             ┆             │\n",
       "│ SA0000004853 ┆ COLLIQUE -   ┆ Zona Centro  ┆ Cerrado  ┆ 2023-01-02   ┆ 2023-01-06  ┆ 2023-01-09  │\n",
       "│ 158          ┆ 191065       ┆              ┆          ┆              ┆             ┆             │\n",
       "│ SA0000004853 ┆ COLLIQUE -   ┆ Zona Centro  ┆ Cerrado  ┆ 2023-01-02   ┆ 2023-01-04  ┆ 2023-01-07  │\n",
       "│ 157          ┆ 191065       ┆              ┆          ┆              ┆             ┆             │\n",
       "│ SA0000004853 ┆ COLLIQUE -   ┆ Zona Centro  ┆ Cerrado  ┆ 2023-01-02   ┆ 2023-01-15  ┆ 2023-01-18  │\n",
       "│ 156          ┆ 191065       ┆              ┆          ┆              ┆             ┆             │\n",
       "│ …            ┆ …            ┆ …            ┆ …        ┆ …            ┆ …           ┆ …           │\n",
       "│ OT0000005737 ┆ CANTO GRANDE ┆ Zona Centro  ┆ En curso ┆ 2023-10-29   ┆ null        ┆ null        │\n",
       "│ 139          ┆ - 191096     ┆              ┆          ┆              ┆             ┆             │\n",
       "│ OT0000005736 ┆ NARANJAL -   ┆ Zona Centro  ┆ En curso ┆ 2023-10-29   ┆ null        ┆ null        │\n",
       "│ 853          ┆ 191141       ┆              ┆          ┆              ┆             ┆             │\n",
       "│ OT0000005736 ┆ NARANJAL -   ┆ Zona Centro  ┆ En curso ┆ 2023-10-29   ┆ null        ┆ null        │\n",
       "│ 847          ┆ 191141       ┆              ┆          ┆              ┆             ┆             │\n",
       "│ OT0000005736 ┆ NARANJAL -   ┆ Zona Centro  ┆ En curso ┆ 2023-10-29   ┆ null        ┆ null        │\n",
       "│ 845          ┆ 191141       ┆              ┆          ┆              ┆             ┆             │\n",
       "│ OT0000005736 ┆ TARAPACA -   ┆ Zona Centro  ┆ En curso ┆ 2023-10-29   ┆ null        ┆ null        │\n",
       "│ 387          ┆ 191030       ┆              ┆          ┆              ┆             ┆             │\n",
       "└──────────────┴──────────────┴──────────────┴──────────┴──────────────┴─────────────┴─────────────┘"
      ]
     },
     "execution_count": 14,
     "metadata": {},
     "output_type": "execute_result"
    }
   ],
   "source": [
    "# Se usa la virgulilla (~) - teclas alt + 126. Solo se pone al comienzo\n",
    "Actuales.filter(\n",
    "    ~pl.col('TicketID').str.starts_with('WO')\n",
    ")"
   ]
  },
  {
   "cell_type": "code",
   "execution_count": 15,
   "metadata": {},
   "outputs": [
    {
     "data": {
      "text/html": [
       "<div><style>\n",
       ".dataframe > thead > tr,\n",
       ".dataframe > tbody > tr {\n",
       "  text-align: right;\n",
       "  white-space: pre-wrap;\n",
       "}\n",
       "</style>\n",
       "<small>shape: (2, 7)</small><table border=\"1\" class=\"dataframe\"><thead><tr><th>TicketID</th><th>Ubicacion</th><th>Service Desk</th><th>Estado</th><th>Fecha Creacion</th><th>Fecha Termino</th><th>Fecha Cierre</th></tr><tr><td>str</td><td>str</td><td>str</td><td>str</td><td>date</td><td>date</td><td>date</td></tr></thead><tbody><tr><td>&quot;WO0000004122687&quot;</td><td>&quot;AREQUIPA - 215000&quot;</td><td>&quot;Zona Norte&quot;</td><td>&quot;Cerrado&quot;</td><td>2022-06-01</td><td>2022-06-14</td><td>2022-06-14</td></tr><tr><td>&quot;WO0000004122649&quot;</td><td>&quot;METRO AV. WIESSE - 191106&quot;</td><td>&quot;Zona Centro&quot;</td><td>&quot;Cerrado&quot;</td><td>2022-06-01</td><td>2022-06-17</td><td>2022-06-17</td></tr></tbody></table></div>"
      ],
      "text/plain": [
       "shape: (2, 7)\n",
       "┌──────────────┬──────────────┬──────────────┬─────────┬──────────────┬──────────────┬─────────────┐\n",
       "│ TicketID     ┆ Ubicacion    ┆ Service Desk ┆ Estado  ┆ Fecha        ┆ Fecha        ┆ Fecha       │\n",
       "│ ---          ┆ ---          ┆ ---          ┆ ---     ┆ Creacion     ┆ Termino      ┆ Cierre      │\n",
       "│ str          ┆ str          ┆ str          ┆ str     ┆ ---          ┆ ---          ┆ ---         │\n",
       "│              ┆              ┆              ┆         ┆ date         ┆ date         ┆ date        │\n",
       "╞══════════════╪══════════════╪══════════════╪═════════╪══════════════╪══════════════╪═════════════╡\n",
       "│ WO0000004122 ┆ AREQUIPA -   ┆ Zona Norte   ┆ Cerrado ┆ 2022-06-01   ┆ 2022-06-14   ┆ 2022-06-14  │\n",
       "│ 687          ┆ 215000       ┆              ┆         ┆              ┆              ┆             │\n",
       "│ WO0000004122 ┆ METRO AV.    ┆ Zona Centro  ┆ Cerrado ┆ 2022-06-01   ┆ 2022-06-17   ┆ 2022-06-17  │\n",
       "│ 649          ┆ WIESSE -     ┆              ┆         ┆              ┆              ┆             │\n",
       "│              ┆ 191106       ┆              ┆         ┆              ┆              ┆             │\n",
       "└──────────────┴──────────────┴──────────────┴─────────┴──────────────┴──────────────┴─────────────┘"
      ]
     },
     "execution_count": 15,
     "metadata": {},
     "output_type": "execute_result"
    }
   ],
   "source": [
    "Historico.head(2)"
   ]
  },
  {
   "cell_type": "code",
   "execution_count": 16,
   "metadata": {},
   "outputs": [
    {
     "data": {
      "text/plain": [
       "(9206, 7)"
      ]
     },
     "execution_count": 16,
     "metadata": {},
     "output_type": "execute_result"
    }
   ],
   "source": [
    "Historico.shape"
   ]
  },
  {
   "cell_type": "code",
   "execution_count": 17,
   "metadata": {},
   "outputs": [
    {
     "data": {
      "text/plain": [
       "(13050, 7)"
      ]
     },
     "execution_count": 17,
     "metadata": {},
     "output_type": "execute_result"
    }
   ],
   "source": [
    "Actuales.shape"
   ]
  },
  {
   "cell_type": "markdown",
   "metadata": {},
   "source": [
    "#### Uniendo 2 dataframe (Historico y Actuales)"
   ]
  },
  {
   "cell_type": "code",
   "execution_count": 18,
   "metadata": {},
   "outputs": [
    {
     "data": {
      "text/html": [
       "<div><style>\n",
       ".dataframe > thead > tr,\n",
       ".dataframe > tbody > tr {\n",
       "  text-align: right;\n",
       "  white-space: pre-wrap;\n",
       "}\n",
       "</style>\n",
       "<small>shape: (5, 7)</small><table border=\"1\" class=\"dataframe\"><thead><tr><th>TicketID</th><th>Ubicacion</th><th>Service Desk</th><th>Estado</th><th>Fecha Creacion</th><th>Fecha Termino</th><th>Fecha Cierre</th></tr><tr><td>str</td><td>str</td><td>str</td><td>str</td><td>date</td><td>date</td><td>date</td></tr></thead><tbody><tr><td>&quot;WO0000004122687&quot;</td><td>&quot;AREQUIPA - 215000&quot;</td><td>&quot;Zona Norte&quot;</td><td>&quot;Cerrado&quot;</td><td>2022-06-01</td><td>2022-06-14</td><td>2022-06-14</td></tr><tr><td>&quot;WO0000004122649&quot;</td><td>&quot;METRO AV. WIESSE - 191106&quot;</td><td>&quot;Zona Centro&quot;</td><td>&quot;Cerrado&quot;</td><td>2022-06-01</td><td>2022-06-17</td><td>2022-06-17</td></tr><tr><td>&quot;WO0000004122502&quot;</td><td>&quot;NICOLAS AYLLON - 191027&quot;</td><td>&quot;Zona Centro&quot;</td><td>&quot;Cerrado&quot;</td><td>2022-06-01</td><td>2022-06-08</td><td>2022-06-08</td></tr><tr><td>&quot;WO0000004122513&quot;</td><td>&quot;JAUREGUI - 405005&quot;</td><td>&quot;Zona Norte&quot;</td><td>&quot;Cerrado&quot;</td><td>2022-06-01</td><td>2022-06-18</td><td>2022-06-18</td></tr><tr><td>&quot;WO0000004122741&quot;</td><td>&quot;CANTO GRANDE - 191096&quot;</td><td>&quot;Zona Centro&quot;</td><td>&quot;Cerrado&quot;</td><td>2022-06-01</td><td>2022-06-08</td><td>2022-06-08</td></tr></tbody></table></div>"
      ],
      "text/plain": [
       "shape: (5, 7)\n",
       "┌──────────────┬──────────────┬──────────────┬─────────┬──────────────┬──────────────┬─────────────┐\n",
       "│ TicketID     ┆ Ubicacion    ┆ Service Desk ┆ Estado  ┆ Fecha        ┆ Fecha        ┆ Fecha       │\n",
       "│ ---          ┆ ---          ┆ ---          ┆ ---     ┆ Creacion     ┆ Termino      ┆ Cierre      │\n",
       "│ str          ┆ str          ┆ str          ┆ str     ┆ ---          ┆ ---          ┆ ---         │\n",
       "│              ┆              ┆              ┆         ┆ date         ┆ date         ┆ date        │\n",
       "╞══════════════╪══════════════╪══════════════╪═════════╪══════════════╪══════════════╪═════════════╡\n",
       "│ WO0000004122 ┆ AREQUIPA -   ┆ Zona Norte   ┆ Cerrado ┆ 2022-06-01   ┆ 2022-06-14   ┆ 2022-06-14  │\n",
       "│ 687          ┆ 215000       ┆              ┆         ┆              ┆              ┆             │\n",
       "│ WO0000004122 ┆ METRO AV.    ┆ Zona Centro  ┆ Cerrado ┆ 2022-06-01   ┆ 2022-06-17   ┆ 2022-06-17  │\n",
       "│ 649          ┆ WIESSE -     ┆              ┆         ┆              ┆              ┆             │\n",
       "│              ┆ 191106       ┆              ┆         ┆              ┆              ┆             │\n",
       "│ WO0000004122 ┆ NICOLAS      ┆ Zona Centro  ┆ Cerrado ┆ 2022-06-01   ┆ 2022-06-08   ┆ 2022-06-08  │\n",
       "│ 502          ┆ AYLLON -     ┆              ┆         ┆              ┆              ┆             │\n",
       "│              ┆ 191027       ┆              ┆         ┆              ┆              ┆             │\n",
       "│ WO0000004122 ┆ JAUREGUI -   ┆ Zona Norte   ┆ Cerrado ┆ 2022-06-01   ┆ 2022-06-18   ┆ 2022-06-18  │\n",
       "│ 513          ┆ 405005       ┆              ┆         ┆              ┆              ┆             │\n",
       "│ WO0000004122 ┆ CANTO GRANDE ┆ Zona Centro  ┆ Cerrado ┆ 2022-06-01   ┆ 2022-06-08   ┆ 2022-06-08  │\n",
       "│ 741          ┆ - 191096     ┆              ┆         ┆              ┆              ┆             │\n",
       "└──────────────┴──────────────┴──────────────┴─────────┴──────────────┴──────────────┴─────────────┘"
      ]
     },
     "execution_count": 18,
     "metadata": {},
     "output_type": "execute_result"
    }
   ],
   "source": [
    "# Unimos de forma vertical\n",
    "Tickets = pl.concat([Historico, Actuales], how='vertical')\n",
    "Tickets.head()"
   ]
  },
  {
   "cell_type": "code",
   "execution_count": 19,
   "metadata": {},
   "outputs": [
    {
     "data": {
      "text/plain": [
       "(22256, 7)"
      ]
     },
     "execution_count": 19,
     "metadata": {},
     "output_type": "execute_result"
    }
   ],
   "source": [
    "Tickets.shape"
   ]
  },
  {
   "cell_type": "markdown",
   "metadata": {},
   "source": [
    "#### Transformaciones Base Tickets"
   ]
  },
  {
   "cell_type": "markdown",
   "metadata": {},
   "source": [
    "- Filtrar aquellos Tickets que comiencen con WO"
   ]
  },
  {
   "cell_type": "code",
   "execution_count": 20,
   "metadata": {},
   "outputs": [],
   "source": [
    "Tickets =  Tickets.filter(\n",
    "    pl.col('TicketID').str.starts_with('WO')\n",
    ")"
   ]
  },
  {
   "cell_type": "code",
   "execution_count": 21,
   "metadata": {},
   "outputs": [
    {
     "data": {
      "text/plain": [
       "(22223, 7)"
      ]
     },
     "execution_count": 21,
     "metadata": {},
     "output_type": "execute_result"
    }
   ],
   "source": [
    "Tickets.shape"
   ]
  },
  {
   "cell_type": "markdown",
   "metadata": {},
   "source": [
    "- Valores Duplicados"
   ]
  },
  {
   "cell_type": "code",
   "execution_count": 22,
   "metadata": {},
   "outputs": [
    {
     "data": {
      "text/plain": [
       "(22210, 7)"
      ]
     },
     "execution_count": 22,
     "metadata": {},
     "output_type": "execute_result"
    }
   ],
   "source": [
    "#obtener Tickets unicos\n",
    "# Propiedad subset recibe el campo que sea unico\n",
    "Tickets.unique(subset='TicketID').shape"
   ]
  },
  {
   "cell_type": "code",
   "execution_count": 23,
   "metadata": {},
   "outputs": [
    {
     "data": {
      "text/html": [
       "<div><style>\n",
       ".dataframe > thead > tr,\n",
       ".dataframe > tbody > tr {\n",
       "  text-align: right;\n",
       "  white-space: pre-wrap;\n",
       "}\n",
       "</style>\n",
       "<small>shape: (26, 7)</small><table border=\"1\" class=\"dataframe\"><thead><tr><th>TicketID</th><th>Ubicacion</th><th>Service Desk</th><th>Estado</th><th>Fecha Creacion</th><th>Fecha Termino</th><th>Fecha Cierre</th></tr><tr><td>str</td><td>str</td><td>str</td><td>str</td><td>date</td><td>date</td><td>date</td></tr></thead><tbody><tr><td>&quot;WO0000004848619&quot;</td><td>&quot;ILO - 385000&quot;</td><td>&quot;Zona Norte&quot;</td><td>&quot;Cerrado&quot;</td><td>2022-12-31</td><td>2023-01-09</td><td>2023-01-12</td></tr><tr><td>&quot;WO0000004848619&quot;</td><td>&quot;ILO - 385000&quot;</td><td>&quot;Zona Norte&quot;</td><td>&quot;Cerrado&quot;</td><td>2022-12-31</td><td>2023-01-09</td><td>2023-01-12</td></tr><tr><td>&quot;WO0000004848638&quot;</td><td>&quot;VILLA SOL - 191059&quot;</td><td>&quot;Zona Centro&quot;</td><td>&quot;Cerrado&quot;</td><td>2022-12-31</td><td>2022-12-31</td><td>2023-01-03</td></tr><tr><td>&quot;WO0000004848638&quot;</td><td>&quot;VILLA SOL - 191059&quot;</td><td>&quot;Zona Centro&quot;</td><td>&quot;Cerrado&quot;</td><td>2022-12-31</td><td>2022-12-31</td><td>2023-01-03</td></tr><tr><td>&quot;WO0000004848654&quot;</td><td>&quot;MERCADO DE FRUTAS - 191064&quot;</td><td>&quot;Zona Centro&quot;</td><td>&quot;Cerrado&quot;</td><td>2022-12-31</td><td>2023-01-13</td><td>2023-01-16</td></tr><tr><td>&hellip;</td><td>&hellip;</td><td>&hellip;</td><td>&hellip;</td><td>&hellip;</td><td>&hellip;</td><td>&hellip;</td></tr><tr><td>&quot;WO0000004849721&quot;</td><td>&quot;LUREN - 380004&quot;</td><td>&quot;Zona Sur&quot;</td><td>&quot;Cerrado&quot;</td><td>2022-12-31</td><td>2023-01-02</td><td>2023-01-05</td></tr><tr><td>&quot;WO0000004849726&quot;</td><td>&quot;LUREN - 380004&quot;</td><td>&quot;Zona Sur&quot;</td><td>&quot;Cerrado&quot;</td><td>2022-12-31</td><td>2023-01-02</td><td>2023-01-05</td></tr><tr><td>&quot;WO0000004849726&quot;</td><td>&quot;LUREN - 380004&quot;</td><td>&quot;Zona Sur&quot;</td><td>&quot;Cerrado&quot;</td><td>2022-12-31</td><td>2023-01-02</td><td>2023-01-05</td></tr><tr><td>&quot;WO0000004849732&quot;</td><td>&quot;EL PINO - 191087&quot;</td><td>&quot;Zona Centro&quot;</td><td>&quot;Cerrado&quot;</td><td>2022-12-31</td><td>2023-01-06</td><td>2023-01-09</td></tr><tr><td>&quot;WO0000004849732&quot;</td><td>&quot;EL PINO - 191087&quot;</td><td>&quot;Zona Centro&quot;</td><td>&quot;Cerrado&quot;</td><td>2022-12-31</td><td>2023-01-06</td><td>2023-01-09</td></tr></tbody></table></div>"
      ],
      "text/plain": [
       "shape: (26, 7)\n",
       "┌──────────────┬──────────────┬──────────────┬─────────┬──────────────┬──────────────┬─────────────┐\n",
       "│ TicketID     ┆ Ubicacion    ┆ Service Desk ┆ Estado  ┆ Fecha        ┆ Fecha        ┆ Fecha       │\n",
       "│ ---          ┆ ---          ┆ ---          ┆ ---     ┆ Creacion     ┆ Termino      ┆ Cierre      │\n",
       "│ str          ┆ str          ┆ str          ┆ str     ┆ ---          ┆ ---          ┆ ---         │\n",
       "│              ┆              ┆              ┆         ┆ date         ┆ date         ┆ date        │\n",
       "╞══════════════╪══════════════╪══════════════╪═════════╪══════════════╪══════════════╪═════════════╡\n",
       "│ WO0000004848 ┆ ILO - 385000 ┆ Zona Norte   ┆ Cerrado ┆ 2022-12-31   ┆ 2023-01-09   ┆ 2023-01-12  │\n",
       "│ 619          ┆              ┆              ┆         ┆              ┆              ┆             │\n",
       "│ WO0000004848 ┆ ILO - 385000 ┆ Zona Norte   ┆ Cerrado ┆ 2022-12-31   ┆ 2023-01-09   ┆ 2023-01-12  │\n",
       "│ 619          ┆              ┆              ┆         ┆              ┆              ┆             │\n",
       "│ WO0000004848 ┆ VILLA SOL -  ┆ Zona Centro  ┆ Cerrado ┆ 2022-12-31   ┆ 2022-12-31   ┆ 2023-01-03  │\n",
       "│ 638          ┆ 191059       ┆              ┆         ┆              ┆              ┆             │\n",
       "│ WO0000004848 ┆ VILLA SOL -  ┆ Zona Centro  ┆ Cerrado ┆ 2022-12-31   ┆ 2022-12-31   ┆ 2023-01-03  │\n",
       "│ 638          ┆ 191059       ┆              ┆         ┆              ┆              ┆             │\n",
       "│ WO0000004848 ┆ MERCADO DE   ┆ Zona Centro  ┆ Cerrado ┆ 2022-12-31   ┆ 2023-01-13   ┆ 2023-01-16  │\n",
       "│ 654          ┆ FRUTAS -     ┆              ┆         ┆              ┆              ┆             │\n",
       "│              ┆ 191064       ┆              ┆         ┆              ┆              ┆             │\n",
       "│ …            ┆ …            ┆ …            ┆ …       ┆ …            ┆ …            ┆ …           │\n",
       "│ WO0000004849 ┆ LUREN -      ┆ Zona Sur     ┆ Cerrado ┆ 2022-12-31   ┆ 2023-01-02   ┆ 2023-01-05  │\n",
       "│ 721          ┆ 380004       ┆              ┆         ┆              ┆              ┆             │\n",
       "│ WO0000004849 ┆ LUREN -      ┆ Zona Sur     ┆ Cerrado ┆ 2022-12-31   ┆ 2023-01-02   ┆ 2023-01-05  │\n",
       "│ 726          ┆ 380004       ┆              ┆         ┆              ┆              ┆             │\n",
       "│ WO0000004849 ┆ LUREN -      ┆ Zona Sur     ┆ Cerrado ┆ 2022-12-31   ┆ 2023-01-02   ┆ 2023-01-05  │\n",
       "│ 726          ┆ 380004       ┆              ┆         ┆              ┆              ┆             │\n",
       "│ WO0000004849 ┆ EL PINO -    ┆ Zona Centro  ┆ Cerrado ┆ 2022-12-31   ┆ 2023-01-06   ┆ 2023-01-09  │\n",
       "│ 732          ┆ 191087       ┆              ┆         ┆              ┆              ┆             │\n",
       "│ WO0000004849 ┆ EL PINO -    ┆ Zona Centro  ┆ Cerrado ┆ 2022-12-31   ┆ 2023-01-06   ┆ 2023-01-09  │\n",
       "│ 732          ┆ 191087       ┆              ┆         ┆              ┆              ┆             │\n",
       "└──────────────┴──────────────┴──────────────┴─────────┴──────────────┴──────────────┴─────────────┘"
      ]
     },
     "execution_count": 23,
     "metadata": {},
     "output_type": "execute_result"
    }
   ],
   "source": [
    "#obtener los tickets repetidos\n",
    "Tickets.filter(\n",
    "    pl.col('TicketID').is_duplicated()\n",
    ").sort(by = 'TicketID')"
   ]
  },
  {
   "cell_type": "code",
   "execution_count": 24,
   "metadata": {},
   "outputs": [
    {
     "data": {
      "text/html": [
       "<div><style>\n",
       ".dataframe > thead > tr,\n",
       ".dataframe > tbody > tr {\n",
       "  text-align: right;\n",
       "  white-space: pre-wrap;\n",
       "}\n",
       "</style>\n",
       "<small>shape: (22_210, 7)</small><table border=\"1\" class=\"dataframe\"><thead><tr><th>TicketID</th><th>Ubicacion</th><th>Service Desk</th><th>Estado</th><th>Fecha Creacion</th><th>Fecha Termino</th><th>Fecha Cierre</th></tr><tr><td>str</td><td>str</td><td>str</td><td>str</td><td>date</td><td>date</td><td>date</td></tr></thead><tbody><tr><td>&quot;WO0000004122302&quot;</td><td>&quot;IMPERIAL - 255001&quot;</td><td>&quot;Zona Norte&quot;</td><td>&quot;Cerrado&quot;</td><td>2022-06-01</td><td>2022-06-10</td><td>2022-06-10</td></tr><tr><td>&quot;WO0000004122303&quot;</td><td>&quot;IMPERIAL - 255001&quot;</td><td>&quot;Zona Norte&quot;</td><td>&quot;Cerrado&quot;</td><td>2022-06-01</td><td>2022-06-17</td><td>2022-06-17</td></tr><tr><td>&quot;WO0000004122353&quot;</td><td>&quot;PLAZA UNION - 191062&quot;</td><td>&quot;Zona Centro&quot;</td><td>&quot;Cerrado&quot;</td><td>2022-06-01</td><td>2022-06-05</td><td>2022-06-05</td></tr><tr><td>&quot;WO0000004122360&quot;</td><td>&quot;AREQUIPA - 215000&quot;</td><td>&quot;Zona Norte&quot;</td><td>&quot;Cerrado&quot;</td><td>2022-06-01</td><td>2022-06-13</td><td>2022-06-13</td></tr><tr><td>&quot;WO0000004122387&quot;</td><td>&quot;PLAZA LIMA NORTE - 191058&quot;</td><td>&quot;Zona Centro&quot;</td><td>&quot;Rechazado&quot;</td><td>2022-06-01</td><td>2022-06-06</td><td>null</td></tr><tr><td>&hellip;</td><td>&hellip;</td><td>&hellip;</td><td>&hellip;</td><td>&hellip;</td><td>&hellip;</td><td>&hellip;</td></tr><tr><td>&quot;WO0000005738709&quot;</td><td>&quot;MEGA PLAZA - 191010&quot;</td><td>&quot;Zona Centro&quot;</td><td>&quot;En curso&quot;</td><td>2023-10-29</td><td>null</td><td>null</td></tr><tr><td>&quot;WO0000005738715&quot;</td><td>&quot;LUREN - 380004&quot;</td><td>&quot;Zona Sur&quot;</td><td>&quot;En curso&quot;</td><td>2023-10-29</td><td>null</td><td>null</td></tr><tr><td>&quot;WO0000005738721&quot;</td><td>&quot;PISCO - 470000&quot;</td><td>&quot;Zona Sur&quot;</td><td>&quot;En curso&quot;</td><td>2023-10-29</td><td>null</td><td>null</td></tr><tr><td>&quot;WO0000005738726&quot;</td><td>&quot;NACIONES UNIDAS - 191084&quot;</td><td>&quot;Zona Centro&quot;</td><td>&quot;En curso&quot;</td><td>2023-10-29</td><td>null</td><td>null</td></tr><tr><td>&quot;WO0000005738729&quot;</td><td>&quot;NACIONES UNIDAS - 191084&quot;</td><td>&quot;Zona Centro&quot;</td><td>&quot;En curso&quot;</td><td>2023-10-29</td><td>null</td><td>null</td></tr></tbody></table></div>"
      ],
      "text/plain": [
       "shape: (22_210, 7)\n",
       "┌──────────────┬──────────────┬──────────────┬───────────┬─────────────┬─────────────┬─────────────┐\n",
       "│ TicketID     ┆ Ubicacion    ┆ Service Desk ┆ Estado    ┆ Fecha       ┆ Fecha       ┆ Fecha       │\n",
       "│ ---          ┆ ---          ┆ ---          ┆ ---       ┆ Creacion    ┆ Termino     ┆ Cierre      │\n",
       "│ str          ┆ str          ┆ str          ┆ str       ┆ ---         ┆ ---         ┆ ---         │\n",
       "│              ┆              ┆              ┆           ┆ date        ┆ date        ┆ date        │\n",
       "╞══════════════╪══════════════╪══════════════╪═══════════╪═════════════╪═════════════╪═════════════╡\n",
       "│ WO0000004122 ┆ IMPERIAL -   ┆ Zona Norte   ┆ Cerrado   ┆ 2022-06-01  ┆ 2022-06-10  ┆ 2022-06-10  │\n",
       "│ 302          ┆ 255001       ┆              ┆           ┆             ┆             ┆             │\n",
       "│ WO0000004122 ┆ IMPERIAL -   ┆ Zona Norte   ┆ Cerrado   ┆ 2022-06-01  ┆ 2022-06-17  ┆ 2022-06-17  │\n",
       "│ 303          ┆ 255001       ┆              ┆           ┆             ┆             ┆             │\n",
       "│ WO0000004122 ┆ PLAZA UNION  ┆ Zona Centro  ┆ Cerrado   ┆ 2022-06-01  ┆ 2022-06-05  ┆ 2022-06-05  │\n",
       "│ 353          ┆ - 191062     ┆              ┆           ┆             ┆             ┆             │\n",
       "│ WO0000004122 ┆ AREQUIPA -   ┆ Zona Norte   ┆ Cerrado   ┆ 2022-06-01  ┆ 2022-06-13  ┆ 2022-06-13  │\n",
       "│ 360          ┆ 215000       ┆              ┆           ┆             ┆             ┆             │\n",
       "│ WO0000004122 ┆ PLAZA LIMA   ┆ Zona Centro  ┆ Rechazado ┆ 2022-06-01  ┆ 2022-06-06  ┆ null        │\n",
       "│ 387          ┆ NORTE -      ┆              ┆           ┆             ┆             ┆             │\n",
       "│              ┆ 191058       ┆              ┆           ┆             ┆             ┆             │\n",
       "│ …            ┆ …            ┆ …            ┆ …         ┆ …           ┆ …           ┆ …           │\n",
       "│ WO0000005738 ┆ MEGA PLAZA - ┆ Zona Centro  ┆ En curso  ┆ 2023-10-29  ┆ null        ┆ null        │\n",
       "│ 709          ┆ 191010       ┆              ┆           ┆             ┆             ┆             │\n",
       "│ WO0000005738 ┆ LUREN -      ┆ Zona Sur     ┆ En curso  ┆ 2023-10-29  ┆ null        ┆ null        │\n",
       "│ 715          ┆ 380004       ┆              ┆           ┆             ┆             ┆             │\n",
       "│ WO0000005738 ┆ PISCO -      ┆ Zona Sur     ┆ En curso  ┆ 2023-10-29  ┆ null        ┆ null        │\n",
       "│ 721          ┆ 470000       ┆              ┆           ┆             ┆             ┆             │\n",
       "│ WO0000005738 ┆ NACIONES     ┆ Zona Centro  ┆ En curso  ┆ 2023-10-29  ┆ null        ┆ null        │\n",
       "│ 726          ┆ UNIDAS -     ┆              ┆           ┆             ┆             ┆             │\n",
       "│              ┆ 191084       ┆              ┆           ┆             ┆             ┆             │\n",
       "│ WO0000005738 ┆ NACIONES     ┆ Zona Centro  ┆ En curso  ┆ 2023-10-29  ┆ null        ┆ null        │\n",
       "│ 729          ┆ UNIDAS -     ┆              ┆           ┆             ┆             ┆             │\n",
       "│              ┆ 191084       ┆              ┆           ┆             ┆             ┆             │\n",
       "└──────────────┴──────────────┴──────────────┴───────────┴─────────────┴─────────────┴─────────────┘"
      ]
     },
     "execution_count": 24,
     "metadata": {},
     "output_type": "execute_result"
    }
   ],
   "source": [
    "#obtener solo 1 registro de los valores duplicados y obtener solo el ultimo valor (en este caso fecha, se ordenó por ese campo)\n",
    "# Propiedad subset recibe el campo que sea unico\n",
    "# Propiedad keep, aqui definimos la estrategia con que valor queremos quedarnos, en este caso usamos last\n",
    "# Propiedad maintain_order=True mantiene el orden para quedarnos con el ultimo valor de los duplicados\n",
    "Tickets.sort(\n",
    "    by = ['TicketID', 'Fecha Creacion']\n",
    ").unique(\n",
    "    subset='TicketID',\n",
    "    keep='last', #aqui elige con que registro se queda (en este caso con el ultimo) - se debe mantener el orden (maintain_order=True)\n",
    "    maintain_order=True # mantener el orden, porque lo estamos haciendo en una sola linea de codigo, si igualamos el dataframe a una variable y recien ahi aplicamos unique, no seria necesario el maintain\n",
    ")"
   ]
  },
  {
   "cell_type": "code",
   "execution_count": 25,
   "metadata": {},
   "outputs": [
    {
     "data": {
      "text/html": [
       "<div><style>\n",
       ".dataframe > thead > tr,\n",
       ".dataframe > tbody > tr {\n",
       "  text-align: right;\n",
       "  white-space: pre-wrap;\n",
       "}\n",
       "</style>\n",
       "<small>shape: (5, 7)</small><table border=\"1\" class=\"dataframe\"><thead><tr><th>TicketID</th><th>Ubicacion</th><th>Service Desk</th><th>Estado</th><th>Fecha Creacion</th><th>Fecha Termino</th><th>Fecha Cierre</th></tr><tr><td>str</td><td>str</td><td>str</td><td>str</td><td>date</td><td>date</td><td>date</td></tr></thead><tbody><tr><td>&quot;WO0000004122687&quot;</td><td>&quot;AREQUIPA - 215000&quot;</td><td>&quot;Zona Norte&quot;</td><td>&quot;Cerrado&quot;</td><td>2022-06-01</td><td>2022-06-14</td><td>2022-06-14</td></tr><tr><td>&quot;WO0000004122649&quot;</td><td>&quot;METRO AV. WIESSE - 191106&quot;</td><td>&quot;Zona Centro&quot;</td><td>&quot;Cerrado&quot;</td><td>2022-06-01</td><td>2022-06-17</td><td>2022-06-17</td></tr><tr><td>&quot;WO0000004122502&quot;</td><td>&quot;NICOLAS AYLLON - 191027&quot;</td><td>&quot;Zona Centro&quot;</td><td>&quot;Cerrado&quot;</td><td>2022-06-01</td><td>2022-06-08</td><td>2022-06-08</td></tr><tr><td>&quot;WO0000004122513&quot;</td><td>&quot;JAUREGUI - 405005&quot;</td><td>&quot;Zona Norte&quot;</td><td>&quot;Cerrado&quot;</td><td>2022-06-01</td><td>2022-06-18</td><td>2022-06-18</td></tr><tr><td>&quot;WO0000004122741&quot;</td><td>&quot;CANTO GRANDE - 191096&quot;</td><td>&quot;Zona Centro&quot;</td><td>&quot;Cerrado&quot;</td><td>2022-06-01</td><td>2022-06-08</td><td>2022-06-08</td></tr></tbody></table></div>"
      ],
      "text/plain": [
       "shape: (5, 7)\n",
       "┌──────────────┬──────────────┬──────────────┬─────────┬──────────────┬──────────────┬─────────────┐\n",
       "│ TicketID     ┆ Ubicacion    ┆ Service Desk ┆ Estado  ┆ Fecha        ┆ Fecha        ┆ Fecha       │\n",
       "│ ---          ┆ ---          ┆ ---          ┆ ---     ┆ Creacion     ┆ Termino      ┆ Cierre      │\n",
       "│ str          ┆ str          ┆ str          ┆ str     ┆ ---          ┆ ---          ┆ ---         │\n",
       "│              ┆              ┆              ┆         ┆ date         ┆ date         ┆ date        │\n",
       "╞══════════════╪══════════════╪══════════════╪═════════╪══════════════╪══════════════╪═════════════╡\n",
       "│ WO0000004122 ┆ AREQUIPA -   ┆ Zona Norte   ┆ Cerrado ┆ 2022-06-01   ┆ 2022-06-14   ┆ 2022-06-14  │\n",
       "│ 687          ┆ 215000       ┆              ┆         ┆              ┆              ┆             │\n",
       "│ WO0000004122 ┆ METRO AV.    ┆ Zona Centro  ┆ Cerrado ┆ 2022-06-01   ┆ 2022-06-17   ┆ 2022-06-17  │\n",
       "│ 649          ┆ WIESSE -     ┆              ┆         ┆              ┆              ┆             │\n",
       "│              ┆ 191106       ┆              ┆         ┆              ┆              ┆             │\n",
       "│ WO0000004122 ┆ NICOLAS      ┆ Zona Centro  ┆ Cerrado ┆ 2022-06-01   ┆ 2022-06-08   ┆ 2022-06-08  │\n",
       "│ 502          ┆ AYLLON -     ┆              ┆         ┆              ┆              ┆             │\n",
       "│              ┆ 191027       ┆              ┆         ┆              ┆              ┆             │\n",
       "│ WO0000004122 ┆ JAUREGUI -   ┆ Zona Norte   ┆ Cerrado ┆ 2022-06-01   ┆ 2022-06-18   ┆ 2022-06-18  │\n",
       "│ 513          ┆ 405005       ┆              ┆         ┆              ┆              ┆             │\n",
       "│ WO0000004122 ┆ CANTO GRANDE ┆ Zona Centro  ┆ Cerrado ┆ 2022-06-01   ┆ 2022-06-08   ┆ 2022-06-08  │\n",
       "│ 741          ┆ - 191096     ┆              ┆         ┆              ┆              ┆             │\n",
       "└──────────────┴──────────────┴──────────────┴─────────┴──────────────┴──────────────┴─────────────┘"
      ]
     },
     "execution_count": 25,
     "metadata": {},
     "output_type": "execute_result"
    }
   ],
   "source": [
    "Tickets.head()"
   ]
  },
  {
   "cell_type": "code",
   "execution_count": 26,
   "metadata": {},
   "outputs": [
    {
     "data": {
      "text/html": [
       "<div><style>\n",
       ".dataframe > thead > tr,\n",
       ".dataframe > tbody > tr {\n",
       "  text-align: right;\n",
       "  white-space: pre-wrap;\n",
       "}\n",
       "</style>\n",
       "<small>shape: (22_223, 8)</small><table border=\"1\" class=\"dataframe\"><thead><tr><th>TicketID</th><th>Ubicacion</th><th>Service Desk</th><th>Estado</th><th>Fecha Creacion</th><th>Fecha Termino</th><th>Fecha Cierre</th><th>Ubicacion 2</th></tr><tr><td>str</td><td>str</td><td>str</td><td>str</td><td>date</td><td>date</td><td>date</td><td>struct[2]</td></tr></thead><tbody><tr><td>&quot;WO0000004122687&quot;</td><td>&quot;AREQUIPA - 215000&quot;</td><td>&quot;Zona Norte&quot;</td><td>&quot;Cerrado&quot;</td><td>2022-06-01</td><td>2022-06-14</td><td>2022-06-14</td><td>{&quot;AREQUIPA&quot;,&quot;215000&quot;}</td></tr><tr><td>&quot;WO0000004122649&quot;</td><td>&quot;METRO AV. WIESSE - 191106&quot;</td><td>&quot;Zona Centro&quot;</td><td>&quot;Cerrado&quot;</td><td>2022-06-01</td><td>2022-06-17</td><td>2022-06-17</td><td>{&quot;METRO AV. WIESSE&quot;,&quot;191106&quot;}</td></tr><tr><td>&quot;WO0000004122502&quot;</td><td>&quot;NICOLAS AYLLON - 191027&quot;</td><td>&quot;Zona Centro&quot;</td><td>&quot;Cerrado&quot;</td><td>2022-06-01</td><td>2022-06-08</td><td>2022-06-08</td><td>{&quot;NICOLAS AYLLON&quot;,&quot;191027&quot;}</td></tr><tr><td>&quot;WO0000004122513&quot;</td><td>&quot;JAUREGUI - 405005&quot;</td><td>&quot;Zona Norte&quot;</td><td>&quot;Cerrado&quot;</td><td>2022-06-01</td><td>2022-06-18</td><td>2022-06-18</td><td>{&quot;JAUREGUI&quot;,&quot;405005&quot;}</td></tr><tr><td>&quot;WO0000004122741&quot;</td><td>&quot;CANTO GRANDE - 191096&quot;</td><td>&quot;Zona Centro&quot;</td><td>&quot;Cerrado&quot;</td><td>2022-06-01</td><td>2022-06-08</td><td>2022-06-08</td><td>{&quot;CANTO GRANDE&quot;,&quot;191096&quot;}</td></tr><tr><td>&hellip;</td><td>&hellip;</td><td>&hellip;</td><td>&hellip;</td><td>&hellip;</td><td>&hellip;</td><td>&hellip;</td><td>&hellip;</td></tr><tr><td>&quot;WO0000005737139&quot;</td><td>&quot;CANTO GRANDE - 191096&quot;</td><td>&quot;Zona Centro&quot;</td><td>&quot;En curso&quot;</td><td>2023-10-29</td><td>null</td><td>null</td><td>{&quot;CANTO GRANDE&quot;,&quot;191096&quot;}</td></tr><tr><td>&quot;WO0000005736853&quot;</td><td>&quot;NARANJAL - 191141&quot;</td><td>&quot;Zona Centro&quot;</td><td>&quot;En curso&quot;</td><td>2023-10-29</td><td>null</td><td>null</td><td>{&quot;NARANJAL&quot;,&quot;191141&quot;}</td></tr><tr><td>&quot;WO0000005736847&quot;</td><td>&quot;NARANJAL - 191141&quot;</td><td>&quot;Zona Centro&quot;</td><td>&quot;En curso&quot;</td><td>2023-10-29</td><td>null</td><td>null</td><td>{&quot;NARANJAL&quot;,&quot;191141&quot;}</td></tr><tr><td>&quot;WO0000005736845&quot;</td><td>&quot;NARANJAL - 191141&quot;</td><td>&quot;Zona Centro&quot;</td><td>&quot;En curso&quot;</td><td>2023-10-29</td><td>null</td><td>null</td><td>{&quot;NARANJAL&quot;,&quot;191141&quot;}</td></tr><tr><td>&quot;WO0000005736387&quot;</td><td>&quot;TARAPACA - 191030&quot;</td><td>&quot;Zona Centro&quot;</td><td>&quot;En curso&quot;</td><td>2023-10-29</td><td>null</td><td>null</td><td>{&quot;TARAPACA&quot;,&quot;191030&quot;}</td></tr></tbody></table></div>"
      ],
      "text/plain": [
       "shape: (22_223, 8)\n",
       "┌────────────┬────────────┬────────────┬──────────┬────────────┬───────────┬───────────┬───────────┐\n",
       "│ TicketID   ┆ Ubicacion  ┆ Service    ┆ Estado   ┆ Fecha      ┆ Fecha     ┆ Fecha     ┆ Ubicacion │\n",
       "│ ---        ┆ ---        ┆ Desk       ┆ ---      ┆ Creacion   ┆ Termino   ┆ Cierre    ┆ 2         │\n",
       "│ str        ┆ str        ┆ ---        ┆ str      ┆ ---        ┆ ---       ┆ ---       ┆ ---       │\n",
       "│            ┆            ┆ str        ┆          ┆ date       ┆ date      ┆ date      ┆ struct[2] │\n",
       "╞════════════╪════════════╪════════════╪══════════╪════════════╪═══════════╪═══════════╪═══════════╡\n",
       "│ WO00000041 ┆ AREQUIPA - ┆ Zona Norte ┆ Cerrado  ┆ 2022-06-01 ┆ 2022-06-1 ┆ 2022-06-1 ┆ {\"AREQUIP │\n",
       "│ 22687      ┆ 215000     ┆            ┆          ┆            ┆ 4         ┆ 4         ┆ A\",\"21500 │\n",
       "│            ┆            ┆            ┆          ┆            ┆           ┆           ┆ 0\"}       │\n",
       "│ WO00000041 ┆ METRO AV.  ┆ Zona       ┆ Cerrado  ┆ 2022-06-01 ┆ 2022-06-1 ┆ 2022-06-1 ┆ {\"METRO   │\n",
       "│ 22649      ┆ WIESSE -   ┆ Centro     ┆          ┆            ┆ 7         ┆ 7         ┆ AV. WIESS │\n",
       "│            ┆ 191106     ┆            ┆          ┆            ┆           ┆           ┆ E\",\"19110 │\n",
       "│            ┆            ┆            ┆          ┆            ┆           ┆           ┆ 6\"}       │\n",
       "│ WO00000041 ┆ NICOLAS    ┆ Zona       ┆ Cerrado  ┆ 2022-06-01 ┆ 2022-06-0 ┆ 2022-06-0 ┆ {\"NICOLAS │\n",
       "│ 22502      ┆ AYLLON -   ┆ Centro     ┆          ┆            ┆ 8         ┆ 8         ┆ AYLLON\",\" │\n",
       "│            ┆ 191027     ┆            ┆          ┆            ┆           ┆           ┆ 191027\"}  │\n",
       "│ WO00000041 ┆ JAUREGUI - ┆ Zona Norte ┆ Cerrado  ┆ 2022-06-01 ┆ 2022-06-1 ┆ 2022-06-1 ┆ {\"JAUREGU │\n",
       "│ 22513      ┆ 405005     ┆            ┆          ┆            ┆ 8         ┆ 8         ┆ I\",\"40500 │\n",
       "│            ┆            ┆            ┆          ┆            ┆           ┆           ┆ 5\"}       │\n",
       "│ WO00000041 ┆ CANTO      ┆ Zona       ┆ Cerrado  ┆ 2022-06-01 ┆ 2022-06-0 ┆ 2022-06-0 ┆ {\"CANTO   │\n",
       "│ 22741      ┆ GRANDE -   ┆ Centro     ┆          ┆            ┆ 8         ┆ 8         ┆ GRANDE\",\" │\n",
       "│            ┆ 191096     ┆            ┆          ┆            ┆           ┆           ┆ 191096\"}  │\n",
       "│ …          ┆ …          ┆ …          ┆ …        ┆ …          ┆ …         ┆ …         ┆ …         │\n",
       "│ WO00000057 ┆ CANTO      ┆ Zona       ┆ En curso ┆ 2023-10-29 ┆ null      ┆ null      ┆ {\"CANTO   │\n",
       "│ 37139      ┆ GRANDE -   ┆ Centro     ┆          ┆            ┆           ┆           ┆ GRANDE\",\" │\n",
       "│            ┆ 191096     ┆            ┆          ┆            ┆           ┆           ┆ 191096\"}  │\n",
       "│ WO00000057 ┆ NARANJAL - ┆ Zona       ┆ En curso ┆ 2023-10-29 ┆ null      ┆ null      ┆ {\"NARANJA │\n",
       "│ 36853      ┆ 191141     ┆ Centro     ┆          ┆            ┆           ┆           ┆ L\",\"19114 │\n",
       "│            ┆            ┆            ┆          ┆            ┆           ┆           ┆ 1\"}       │\n",
       "│ WO00000057 ┆ NARANJAL - ┆ Zona       ┆ En curso ┆ 2023-10-29 ┆ null      ┆ null      ┆ {\"NARANJA │\n",
       "│ 36847      ┆ 191141     ┆ Centro     ┆          ┆            ┆           ┆           ┆ L\",\"19114 │\n",
       "│            ┆            ┆            ┆          ┆            ┆           ┆           ┆ 1\"}       │\n",
       "│ WO00000057 ┆ NARANJAL - ┆ Zona       ┆ En curso ┆ 2023-10-29 ┆ null      ┆ null      ┆ {\"NARANJA │\n",
       "│ 36845      ┆ 191141     ┆ Centro     ┆          ┆            ┆           ┆           ┆ L\",\"19114 │\n",
       "│            ┆            ┆            ┆          ┆            ┆           ┆           ┆ 1\"}       │\n",
       "│ WO00000057 ┆ TARAPACA - ┆ Zona       ┆ En curso ┆ 2023-10-29 ┆ null      ┆ null      ┆ {\"TARAPAC │\n",
       "│ 36387      ┆ 191030     ┆ Centro     ┆          ┆            ┆           ┆           ┆ A\",\"19103 │\n",
       "│            ┆            ┆            ┆          ┆            ┆           ┆           ┆ 0\"}       │\n",
       "└────────────┴────────────┴────────────┴──────────┴────────────┴───────────┴───────────┴───────────┘"
      ]
     },
     "execution_count": 26,
     "metadata": {},
     "output_type": "execute_result"
    }
   ],
   "source": [
    "# separando la columna Ubicacion con split - exact (se le indica cuantos delimitadores queremos convertir, el primero, el segundo)\n",
    "# tipo de dato que arroja es struct (estructura)\n",
    "Tickets.with_columns(\n",
    "    pl.col('Ubicacion').str.split_exact(' - ', 1).alias('Ubicacion 2')\n",
    ")"
   ]
  },
  {
   "cell_type": "code",
   "execution_count": 27,
   "metadata": {},
   "outputs": [
    {
     "data": {
      "text/html": [
       "<div><style>\n",
       ".dataframe > thead > tr,\n",
       ".dataframe > tbody > tr {\n",
       "  text-align: right;\n",
       "  white-space: pre-wrap;\n",
       "}\n",
       "</style>\n",
       "<small>shape: (22_223, 9)</small><table border=\"1\" class=\"dataframe\"><thead><tr><th>TicketID</th><th>Ubicacion</th><th>Service Desk</th><th>Estado</th><th>Fecha Creacion</th><th>Fecha Termino</th><th>Fecha Cierre</th><th>field_0</th><th>field_1</th></tr><tr><td>str</td><td>str</td><td>str</td><td>str</td><td>date</td><td>date</td><td>date</td><td>str</td><td>str</td></tr></thead><tbody><tr><td>&quot;WO0000004122687&quot;</td><td>&quot;AREQUIPA - 215000&quot;</td><td>&quot;Zona Norte&quot;</td><td>&quot;Cerrado&quot;</td><td>2022-06-01</td><td>2022-06-14</td><td>2022-06-14</td><td>&quot;AREQUIPA&quot;</td><td>&quot;215000&quot;</td></tr><tr><td>&quot;WO0000004122649&quot;</td><td>&quot;METRO AV. WIESSE - 191106&quot;</td><td>&quot;Zona Centro&quot;</td><td>&quot;Cerrado&quot;</td><td>2022-06-01</td><td>2022-06-17</td><td>2022-06-17</td><td>&quot;METRO AV. WIESSE&quot;</td><td>&quot;191106&quot;</td></tr><tr><td>&quot;WO0000004122502&quot;</td><td>&quot;NICOLAS AYLLON - 191027&quot;</td><td>&quot;Zona Centro&quot;</td><td>&quot;Cerrado&quot;</td><td>2022-06-01</td><td>2022-06-08</td><td>2022-06-08</td><td>&quot;NICOLAS AYLLON&quot;</td><td>&quot;191027&quot;</td></tr><tr><td>&quot;WO0000004122513&quot;</td><td>&quot;JAUREGUI - 405005&quot;</td><td>&quot;Zona Norte&quot;</td><td>&quot;Cerrado&quot;</td><td>2022-06-01</td><td>2022-06-18</td><td>2022-06-18</td><td>&quot;JAUREGUI&quot;</td><td>&quot;405005&quot;</td></tr><tr><td>&quot;WO0000004122741&quot;</td><td>&quot;CANTO GRANDE - 191096&quot;</td><td>&quot;Zona Centro&quot;</td><td>&quot;Cerrado&quot;</td><td>2022-06-01</td><td>2022-06-08</td><td>2022-06-08</td><td>&quot;CANTO GRANDE&quot;</td><td>&quot;191096&quot;</td></tr><tr><td>&hellip;</td><td>&hellip;</td><td>&hellip;</td><td>&hellip;</td><td>&hellip;</td><td>&hellip;</td><td>&hellip;</td><td>&hellip;</td><td>&hellip;</td></tr><tr><td>&quot;WO0000005737139&quot;</td><td>&quot;CANTO GRANDE - 191096&quot;</td><td>&quot;Zona Centro&quot;</td><td>&quot;En curso&quot;</td><td>2023-10-29</td><td>null</td><td>null</td><td>&quot;CANTO GRANDE&quot;</td><td>&quot;191096&quot;</td></tr><tr><td>&quot;WO0000005736853&quot;</td><td>&quot;NARANJAL - 191141&quot;</td><td>&quot;Zona Centro&quot;</td><td>&quot;En curso&quot;</td><td>2023-10-29</td><td>null</td><td>null</td><td>&quot;NARANJAL&quot;</td><td>&quot;191141&quot;</td></tr><tr><td>&quot;WO0000005736847&quot;</td><td>&quot;NARANJAL - 191141&quot;</td><td>&quot;Zona Centro&quot;</td><td>&quot;En curso&quot;</td><td>2023-10-29</td><td>null</td><td>null</td><td>&quot;NARANJAL&quot;</td><td>&quot;191141&quot;</td></tr><tr><td>&quot;WO0000005736845&quot;</td><td>&quot;NARANJAL - 191141&quot;</td><td>&quot;Zona Centro&quot;</td><td>&quot;En curso&quot;</td><td>2023-10-29</td><td>null</td><td>null</td><td>&quot;NARANJAL&quot;</td><td>&quot;191141&quot;</td></tr><tr><td>&quot;WO0000005736387&quot;</td><td>&quot;TARAPACA - 191030&quot;</td><td>&quot;Zona Centro&quot;</td><td>&quot;En curso&quot;</td><td>2023-10-29</td><td>null</td><td>null</td><td>&quot;TARAPACA&quot;</td><td>&quot;191030&quot;</td></tr></tbody></table></div>"
      ],
      "text/plain": [
       "shape: (22_223, 9)\n",
       "┌────────────┬────────────┬───────────┬──────────┬───┬───────────┬───────────┬───────────┬─────────┐\n",
       "│ TicketID   ┆ Ubicacion  ┆ Service   ┆ Estado   ┆ … ┆ Fecha     ┆ Fecha     ┆ field_0   ┆ field_1 │\n",
       "│ ---        ┆ ---        ┆ Desk      ┆ ---      ┆   ┆ Termino   ┆ Cierre    ┆ ---       ┆ ---     │\n",
       "│ str        ┆ str        ┆ ---       ┆ str      ┆   ┆ ---       ┆ ---       ┆ str       ┆ str     │\n",
       "│            ┆            ┆ str       ┆          ┆   ┆ date      ┆ date      ┆           ┆         │\n",
       "╞════════════╪════════════╪═══════════╪══════════╪═══╪═══════════╪═══════════╪═══════════╪═════════╡\n",
       "│ WO00000041 ┆ AREQUIPA - ┆ Zona      ┆ Cerrado  ┆ … ┆ 2022-06-1 ┆ 2022-06-1 ┆ AREQUIPA  ┆ 215000  │\n",
       "│ 22687      ┆ 215000     ┆ Norte     ┆          ┆   ┆ 4         ┆ 4         ┆           ┆         │\n",
       "│ WO00000041 ┆ METRO AV.  ┆ Zona      ┆ Cerrado  ┆ … ┆ 2022-06-1 ┆ 2022-06-1 ┆ METRO AV. ┆ 191106  │\n",
       "│ 22649      ┆ WIESSE -   ┆ Centro    ┆          ┆   ┆ 7         ┆ 7         ┆ WIESSE    ┆         │\n",
       "│            ┆ 191106     ┆           ┆          ┆   ┆           ┆           ┆           ┆         │\n",
       "│ WO00000041 ┆ NICOLAS    ┆ Zona      ┆ Cerrado  ┆ … ┆ 2022-06-0 ┆ 2022-06-0 ┆ NICOLAS   ┆ 191027  │\n",
       "│ 22502      ┆ AYLLON -   ┆ Centro    ┆          ┆   ┆ 8         ┆ 8         ┆ AYLLON    ┆         │\n",
       "│            ┆ 191027     ┆           ┆          ┆   ┆           ┆           ┆           ┆         │\n",
       "│ WO00000041 ┆ JAUREGUI - ┆ Zona      ┆ Cerrado  ┆ … ┆ 2022-06-1 ┆ 2022-06-1 ┆ JAUREGUI  ┆ 405005  │\n",
       "│ 22513      ┆ 405005     ┆ Norte     ┆          ┆   ┆ 8         ┆ 8         ┆           ┆         │\n",
       "│ WO00000041 ┆ CANTO      ┆ Zona      ┆ Cerrado  ┆ … ┆ 2022-06-0 ┆ 2022-06-0 ┆ CANTO     ┆ 191096  │\n",
       "│ 22741      ┆ GRANDE -   ┆ Centro    ┆          ┆   ┆ 8         ┆ 8         ┆ GRANDE    ┆         │\n",
       "│            ┆ 191096     ┆           ┆          ┆   ┆           ┆           ┆           ┆         │\n",
       "│ …          ┆ …          ┆ …         ┆ …        ┆ … ┆ …         ┆ …         ┆ …         ┆ …       │\n",
       "│ WO00000057 ┆ CANTO      ┆ Zona      ┆ En curso ┆ … ┆ null      ┆ null      ┆ CANTO     ┆ 191096  │\n",
       "│ 37139      ┆ GRANDE -   ┆ Centro    ┆          ┆   ┆           ┆           ┆ GRANDE    ┆         │\n",
       "│            ┆ 191096     ┆           ┆          ┆   ┆           ┆           ┆           ┆         │\n",
       "│ WO00000057 ┆ NARANJAL - ┆ Zona      ┆ En curso ┆ … ┆ null      ┆ null      ┆ NARANJAL  ┆ 191141  │\n",
       "│ 36853      ┆ 191141     ┆ Centro    ┆          ┆   ┆           ┆           ┆           ┆         │\n",
       "│ WO00000057 ┆ NARANJAL - ┆ Zona      ┆ En curso ┆ … ┆ null      ┆ null      ┆ NARANJAL  ┆ 191141  │\n",
       "│ 36847      ┆ 191141     ┆ Centro    ┆          ┆   ┆           ┆           ┆           ┆         │\n",
       "│ WO00000057 ┆ NARANJAL - ┆ Zona      ┆ En curso ┆ … ┆ null      ┆ null      ┆ NARANJAL  ┆ 191141  │\n",
       "│ 36845      ┆ 191141     ┆ Centro    ┆          ┆   ┆           ┆           ┆           ┆         │\n",
       "│ WO00000057 ┆ TARAPACA - ┆ Zona      ┆ En curso ┆ … ┆ null      ┆ null      ┆ TARAPACA  ┆ 191030  │\n",
       "│ 36387      ┆ 191030     ┆ Centro    ┆          ┆   ┆           ┆           ┆           ┆         │\n",
       "└────────────┴────────────┴───────────┴──────────┴───┴───────────┴───────────┴───────────┴─────────┘"
      ]
     },
     "execution_count": 27,
     "metadata": {},
     "output_type": "execute_result"
    }
   ],
   "source": [
    "# separando la columna Ubicacion con split - exact (se le indica cuantos delimitadores queremos convertir, el primero, el segundo)\n",
    "# tipo de dato que arroja es struct (estructura)\n",
    "# Propiedad unnest divide la columnas, solo si son de tipo de dato estructura\n",
    "''' formato\n",
    "df.with_columns(\n",
    "    [\n",
    "        pl.col(\"x\")\n",
    "        .str.split_exact(\"_\", 1)\n",
    "        .struct.rename_fields([\"first_part\", \"second_part\"])\n",
    "        .alias(\"fields\"),\n",
    "    ]\n",
    ").unnest(\"fields\")\n",
    "'''\n",
    "Tickets.with_columns(\n",
    "    pl.col('Ubicacion').str.split_exact(' - ', 1).alias('Ubicacion 2')\n",
    ").unnest('Ubicacion 2')"
   ]
  },
  {
   "cell_type": "code",
   "execution_count": 28,
   "metadata": {},
   "outputs": [
    {
     "data": {
      "text/html": [
       "<div><style>\n",
       ".dataframe > thead > tr,\n",
       ".dataframe > tbody > tr {\n",
       "  text-align: right;\n",
       "  white-space: pre-wrap;\n",
       "}\n",
       "</style>\n",
       "<small>shape: (22_223, 9)</small><table border=\"1\" class=\"dataframe\"><thead><tr><th>TicketID</th><th>Ubicacion</th><th>Service Desk</th><th>Estado</th><th>Fecha Creacion</th><th>Fecha Termino</th><th>Fecha Cierre</th><th>Agencia</th><th>AgenciaID</th></tr><tr><td>str</td><td>str</td><td>str</td><td>str</td><td>date</td><td>date</td><td>date</td><td>str</td><td>str</td></tr></thead><tbody><tr><td>&quot;WO0000004122687&quot;</td><td>&quot;AREQUIPA - 215000&quot;</td><td>&quot;Zona Norte&quot;</td><td>&quot;Cerrado&quot;</td><td>2022-06-01</td><td>2022-06-14</td><td>2022-06-14</td><td>&quot;AREQUIPA&quot;</td><td>&quot;215000&quot;</td></tr><tr><td>&quot;WO0000004122649&quot;</td><td>&quot;METRO AV. WIESSE - 191106&quot;</td><td>&quot;Zona Centro&quot;</td><td>&quot;Cerrado&quot;</td><td>2022-06-01</td><td>2022-06-17</td><td>2022-06-17</td><td>&quot;METRO AV. WIESSE&quot;</td><td>&quot;191106&quot;</td></tr><tr><td>&quot;WO0000004122502&quot;</td><td>&quot;NICOLAS AYLLON - 191027&quot;</td><td>&quot;Zona Centro&quot;</td><td>&quot;Cerrado&quot;</td><td>2022-06-01</td><td>2022-06-08</td><td>2022-06-08</td><td>&quot;NICOLAS AYLLON&quot;</td><td>&quot;191027&quot;</td></tr><tr><td>&quot;WO0000004122513&quot;</td><td>&quot;JAUREGUI - 405005&quot;</td><td>&quot;Zona Norte&quot;</td><td>&quot;Cerrado&quot;</td><td>2022-06-01</td><td>2022-06-18</td><td>2022-06-18</td><td>&quot;JAUREGUI&quot;</td><td>&quot;405005&quot;</td></tr><tr><td>&quot;WO0000004122741&quot;</td><td>&quot;CANTO GRANDE - 191096&quot;</td><td>&quot;Zona Centro&quot;</td><td>&quot;Cerrado&quot;</td><td>2022-06-01</td><td>2022-06-08</td><td>2022-06-08</td><td>&quot;CANTO GRANDE&quot;</td><td>&quot;191096&quot;</td></tr><tr><td>&hellip;</td><td>&hellip;</td><td>&hellip;</td><td>&hellip;</td><td>&hellip;</td><td>&hellip;</td><td>&hellip;</td><td>&hellip;</td><td>&hellip;</td></tr><tr><td>&quot;WO0000005737139&quot;</td><td>&quot;CANTO GRANDE - 191096&quot;</td><td>&quot;Zona Centro&quot;</td><td>&quot;En curso&quot;</td><td>2023-10-29</td><td>null</td><td>null</td><td>&quot;CANTO GRANDE&quot;</td><td>&quot;191096&quot;</td></tr><tr><td>&quot;WO0000005736853&quot;</td><td>&quot;NARANJAL - 191141&quot;</td><td>&quot;Zona Centro&quot;</td><td>&quot;En curso&quot;</td><td>2023-10-29</td><td>null</td><td>null</td><td>&quot;NARANJAL&quot;</td><td>&quot;191141&quot;</td></tr><tr><td>&quot;WO0000005736847&quot;</td><td>&quot;NARANJAL - 191141&quot;</td><td>&quot;Zona Centro&quot;</td><td>&quot;En curso&quot;</td><td>2023-10-29</td><td>null</td><td>null</td><td>&quot;NARANJAL&quot;</td><td>&quot;191141&quot;</td></tr><tr><td>&quot;WO0000005736845&quot;</td><td>&quot;NARANJAL - 191141&quot;</td><td>&quot;Zona Centro&quot;</td><td>&quot;En curso&quot;</td><td>2023-10-29</td><td>null</td><td>null</td><td>&quot;NARANJAL&quot;</td><td>&quot;191141&quot;</td></tr><tr><td>&quot;WO0000005736387&quot;</td><td>&quot;TARAPACA - 191030&quot;</td><td>&quot;Zona Centro&quot;</td><td>&quot;En curso&quot;</td><td>2023-10-29</td><td>null</td><td>null</td><td>&quot;TARAPACA&quot;</td><td>&quot;191030&quot;</td></tr></tbody></table></div>"
      ],
      "text/plain": [
       "shape: (22_223, 9)\n",
       "┌───────────┬───────────┬───────────┬──────────┬───┬───────────┬───────────┬───────────┬───────────┐\n",
       "│ TicketID  ┆ Ubicacion ┆ Service   ┆ Estado   ┆ … ┆ Fecha     ┆ Fecha     ┆ Agencia   ┆ AgenciaID │\n",
       "│ ---       ┆ ---       ┆ Desk      ┆ ---      ┆   ┆ Termino   ┆ Cierre    ┆ ---       ┆ ---       │\n",
       "│ str       ┆ str       ┆ ---       ┆ str      ┆   ┆ ---       ┆ ---       ┆ str       ┆ str       │\n",
       "│           ┆           ┆ str       ┆          ┆   ┆ date      ┆ date      ┆           ┆           │\n",
       "╞═══════════╪═══════════╪═══════════╪══════════╪═══╪═══════════╪═══════════╪═══════════╪═══════════╡\n",
       "│ WO0000004 ┆ AREQUIPA  ┆ Zona      ┆ Cerrado  ┆ … ┆ 2022-06-1 ┆ 2022-06-1 ┆ AREQUIPA  ┆ 215000    │\n",
       "│ 122687    ┆ - 215000  ┆ Norte     ┆          ┆   ┆ 4         ┆ 4         ┆           ┆           │\n",
       "│ WO0000004 ┆ METRO AV. ┆ Zona      ┆ Cerrado  ┆ … ┆ 2022-06-1 ┆ 2022-06-1 ┆ METRO AV. ┆ 191106    │\n",
       "│ 122649    ┆ WIESSE -  ┆ Centro    ┆          ┆   ┆ 7         ┆ 7         ┆ WIESSE    ┆           │\n",
       "│           ┆ 191106    ┆           ┆          ┆   ┆           ┆           ┆           ┆           │\n",
       "│ WO0000004 ┆ NICOLAS   ┆ Zona      ┆ Cerrado  ┆ … ┆ 2022-06-0 ┆ 2022-06-0 ┆ NICOLAS   ┆ 191027    │\n",
       "│ 122502    ┆ AYLLON -  ┆ Centro    ┆          ┆   ┆ 8         ┆ 8         ┆ AYLLON    ┆           │\n",
       "│           ┆ 191027    ┆           ┆          ┆   ┆           ┆           ┆           ┆           │\n",
       "│ WO0000004 ┆ JAUREGUI  ┆ Zona      ┆ Cerrado  ┆ … ┆ 2022-06-1 ┆ 2022-06-1 ┆ JAUREGUI  ┆ 405005    │\n",
       "│ 122513    ┆ - 405005  ┆ Norte     ┆          ┆   ┆ 8         ┆ 8         ┆           ┆           │\n",
       "│ WO0000004 ┆ CANTO     ┆ Zona      ┆ Cerrado  ┆ … ┆ 2022-06-0 ┆ 2022-06-0 ┆ CANTO     ┆ 191096    │\n",
       "│ 122741    ┆ GRANDE -  ┆ Centro    ┆          ┆   ┆ 8         ┆ 8         ┆ GRANDE    ┆           │\n",
       "│           ┆ 191096    ┆           ┆          ┆   ┆           ┆           ┆           ┆           │\n",
       "│ …         ┆ …         ┆ …         ┆ …        ┆ … ┆ …         ┆ …         ┆ …         ┆ …         │\n",
       "│ WO0000005 ┆ CANTO     ┆ Zona      ┆ En curso ┆ … ┆ null      ┆ null      ┆ CANTO     ┆ 191096    │\n",
       "│ 737139    ┆ GRANDE -  ┆ Centro    ┆          ┆   ┆           ┆           ┆ GRANDE    ┆           │\n",
       "│           ┆ 191096    ┆           ┆          ┆   ┆           ┆           ┆           ┆           │\n",
       "│ WO0000005 ┆ NARANJAL  ┆ Zona      ┆ En curso ┆ … ┆ null      ┆ null      ┆ NARANJAL  ┆ 191141    │\n",
       "│ 736853    ┆ - 191141  ┆ Centro    ┆          ┆   ┆           ┆           ┆           ┆           │\n",
       "│ WO0000005 ┆ NARANJAL  ┆ Zona      ┆ En curso ┆ … ┆ null      ┆ null      ┆ NARANJAL  ┆ 191141    │\n",
       "│ 736847    ┆ - 191141  ┆ Centro    ┆          ┆   ┆           ┆           ┆           ┆           │\n",
       "│ WO0000005 ┆ NARANJAL  ┆ Zona      ┆ En curso ┆ … ┆ null      ┆ null      ┆ NARANJAL  ┆ 191141    │\n",
       "│ 736845    ┆ - 191141  ┆ Centro    ┆          ┆   ┆           ┆           ┆           ┆           │\n",
       "│ WO0000005 ┆ TARAPACA  ┆ Zona      ┆ En curso ┆ … ┆ null      ┆ null      ┆ TARAPACA  ┆ 191030    │\n",
       "│ 736387    ┆ - 191030  ┆ Centro    ┆          ┆   ┆           ┆           ┆           ┆           │\n",
       "└───────────┴───────────┴───────────┴──────────┴───┴───────────┴───────────┴───────────┴───────────┘"
      ]
     },
     "execution_count": 28,
     "metadata": {},
     "output_type": "execute_result"
    }
   ],
   "source": [
    "# separando la columna Ubicacion con split - exact (se le indica cuantos delimitadores queremos convertir, el primero, el segundo)\n",
    "# tipo de dato que arroja es struct (estructura)\n",
    "# Propiedad unnest divide la columnas, solo si son de tipo de dato estructura\n",
    "# Propiedad struct.rename_fields, renombra las columnas generadas por la propiedad unnest (field_0, field_1)\n",
    "''' formato\n",
    "df.with_columns(\n",
    "    [\n",
    "        pl.col(\"x\")\n",
    "        .str.split_exact(\"_\", 1)\n",
    "        .struct.rename_fields([\"first_part\", \"second_part\"])\n",
    "        .alias(\"fields\"),\n",
    "    ]\n",
    ").unnest(\"fields\")\n",
    "'''\n",
    "Tickets.with_columns(\n",
    "    pl.col('Ubicacion').str.split_exact(' - ', 1)\n",
    "    .struct.rename_fields(['Agencia','AgenciaID'])\n",
    "    .alias('Ubicacion 2')\n",
    ").unnest('Ubicacion 2')"
   ]
  },
  {
   "cell_type": "code",
   "execution_count": 29,
   "metadata": {},
   "outputs": [
    {
     "data": {
      "text/html": [
       "<div><style>\n",
       ".dataframe > thead > tr,\n",
       ".dataframe > tbody > tr {\n",
       "  text-align: right;\n",
       "  white-space: pre-wrap;\n",
       "}\n",
       "</style>\n",
       "<small>shape: (22_223, 9)</small><table border=\"1\" class=\"dataframe\"><thead><tr><th>TicketID</th><th>Ubicacion</th><th>Service Desk</th><th>Estado</th><th>Fecha Creacion</th><th>Fecha Termino</th><th>Fecha Cierre</th><th>Agencia</th><th>AgenciaID</th></tr><tr><td>str</td><td>str</td><td>str</td><td>str</td><td>date</td><td>date</td><td>date</td><td>str</td><td>i64</td></tr></thead><tbody><tr><td>&quot;WO0000004122687&quot;</td><td>&quot;AREQUIPA - 215000&quot;</td><td>&quot;Zona Norte&quot;</td><td>&quot;Cerrado&quot;</td><td>2022-06-01</td><td>2022-06-14</td><td>2022-06-14</td><td>&quot;AREQUIPA&quot;</td><td>215000</td></tr><tr><td>&quot;WO0000004122649&quot;</td><td>&quot;METRO AV. WIESSE - 191106&quot;</td><td>&quot;Zona Centro&quot;</td><td>&quot;Cerrado&quot;</td><td>2022-06-01</td><td>2022-06-17</td><td>2022-06-17</td><td>&quot;METRO AV. WIESSE&quot;</td><td>191106</td></tr><tr><td>&quot;WO0000004122502&quot;</td><td>&quot;NICOLAS AYLLON - 191027&quot;</td><td>&quot;Zona Centro&quot;</td><td>&quot;Cerrado&quot;</td><td>2022-06-01</td><td>2022-06-08</td><td>2022-06-08</td><td>&quot;NICOLAS AYLLON&quot;</td><td>191027</td></tr><tr><td>&quot;WO0000004122513&quot;</td><td>&quot;JAUREGUI - 405005&quot;</td><td>&quot;Zona Norte&quot;</td><td>&quot;Cerrado&quot;</td><td>2022-06-01</td><td>2022-06-18</td><td>2022-06-18</td><td>&quot;JAUREGUI&quot;</td><td>405005</td></tr><tr><td>&quot;WO0000004122741&quot;</td><td>&quot;CANTO GRANDE - 191096&quot;</td><td>&quot;Zona Centro&quot;</td><td>&quot;Cerrado&quot;</td><td>2022-06-01</td><td>2022-06-08</td><td>2022-06-08</td><td>&quot;CANTO GRANDE&quot;</td><td>191096</td></tr><tr><td>&hellip;</td><td>&hellip;</td><td>&hellip;</td><td>&hellip;</td><td>&hellip;</td><td>&hellip;</td><td>&hellip;</td><td>&hellip;</td><td>&hellip;</td></tr><tr><td>&quot;WO0000005737139&quot;</td><td>&quot;CANTO GRANDE - 191096&quot;</td><td>&quot;Zona Centro&quot;</td><td>&quot;En curso&quot;</td><td>2023-10-29</td><td>null</td><td>null</td><td>&quot;CANTO GRANDE&quot;</td><td>191096</td></tr><tr><td>&quot;WO0000005736853&quot;</td><td>&quot;NARANJAL - 191141&quot;</td><td>&quot;Zona Centro&quot;</td><td>&quot;En curso&quot;</td><td>2023-10-29</td><td>null</td><td>null</td><td>&quot;NARANJAL&quot;</td><td>191141</td></tr><tr><td>&quot;WO0000005736847&quot;</td><td>&quot;NARANJAL - 191141&quot;</td><td>&quot;Zona Centro&quot;</td><td>&quot;En curso&quot;</td><td>2023-10-29</td><td>null</td><td>null</td><td>&quot;NARANJAL&quot;</td><td>191141</td></tr><tr><td>&quot;WO0000005736845&quot;</td><td>&quot;NARANJAL - 191141&quot;</td><td>&quot;Zona Centro&quot;</td><td>&quot;En curso&quot;</td><td>2023-10-29</td><td>null</td><td>null</td><td>&quot;NARANJAL&quot;</td><td>191141</td></tr><tr><td>&quot;WO0000005736387&quot;</td><td>&quot;TARAPACA - 191030&quot;</td><td>&quot;Zona Centro&quot;</td><td>&quot;En curso&quot;</td><td>2023-10-29</td><td>null</td><td>null</td><td>&quot;TARAPACA&quot;</td><td>191030</td></tr></tbody></table></div>"
      ],
      "text/plain": [
       "shape: (22_223, 9)\n",
       "┌───────────┬───────────┬───────────┬──────────┬───┬───────────┬───────────┬───────────┬───────────┐\n",
       "│ TicketID  ┆ Ubicacion ┆ Service   ┆ Estado   ┆ … ┆ Fecha     ┆ Fecha     ┆ Agencia   ┆ AgenciaID │\n",
       "│ ---       ┆ ---       ┆ Desk      ┆ ---      ┆   ┆ Termino   ┆ Cierre    ┆ ---       ┆ ---       │\n",
       "│ str       ┆ str       ┆ ---       ┆ str      ┆   ┆ ---       ┆ ---       ┆ str       ┆ i64       │\n",
       "│           ┆           ┆ str       ┆          ┆   ┆ date      ┆ date      ┆           ┆           │\n",
       "╞═══════════╪═══════════╪═══════════╪══════════╪═══╪═══════════╪═══════════╪═══════════╪═══════════╡\n",
       "│ WO0000004 ┆ AREQUIPA  ┆ Zona      ┆ Cerrado  ┆ … ┆ 2022-06-1 ┆ 2022-06-1 ┆ AREQUIPA  ┆ 215000    │\n",
       "│ 122687    ┆ - 215000  ┆ Norte     ┆          ┆   ┆ 4         ┆ 4         ┆           ┆           │\n",
       "│ WO0000004 ┆ METRO AV. ┆ Zona      ┆ Cerrado  ┆ … ┆ 2022-06-1 ┆ 2022-06-1 ┆ METRO AV. ┆ 191106    │\n",
       "│ 122649    ┆ WIESSE -  ┆ Centro    ┆          ┆   ┆ 7         ┆ 7         ┆ WIESSE    ┆           │\n",
       "│           ┆ 191106    ┆           ┆          ┆   ┆           ┆           ┆           ┆           │\n",
       "│ WO0000004 ┆ NICOLAS   ┆ Zona      ┆ Cerrado  ┆ … ┆ 2022-06-0 ┆ 2022-06-0 ┆ NICOLAS   ┆ 191027    │\n",
       "│ 122502    ┆ AYLLON -  ┆ Centro    ┆          ┆   ┆ 8         ┆ 8         ┆ AYLLON    ┆           │\n",
       "│           ┆ 191027    ┆           ┆          ┆   ┆           ┆           ┆           ┆           │\n",
       "│ WO0000004 ┆ JAUREGUI  ┆ Zona      ┆ Cerrado  ┆ … ┆ 2022-06-1 ┆ 2022-06-1 ┆ JAUREGUI  ┆ 405005    │\n",
       "│ 122513    ┆ - 405005  ┆ Norte     ┆          ┆   ┆ 8         ┆ 8         ┆           ┆           │\n",
       "│ WO0000004 ┆ CANTO     ┆ Zona      ┆ Cerrado  ┆ … ┆ 2022-06-0 ┆ 2022-06-0 ┆ CANTO     ┆ 191096    │\n",
       "│ 122741    ┆ GRANDE -  ┆ Centro    ┆          ┆   ┆ 8         ┆ 8         ┆ GRANDE    ┆           │\n",
       "│           ┆ 191096    ┆           ┆          ┆   ┆           ┆           ┆           ┆           │\n",
       "│ …         ┆ …         ┆ …         ┆ …        ┆ … ┆ …         ┆ …         ┆ …         ┆ …         │\n",
       "│ WO0000005 ┆ CANTO     ┆ Zona      ┆ En curso ┆ … ┆ null      ┆ null      ┆ CANTO     ┆ 191096    │\n",
       "│ 737139    ┆ GRANDE -  ┆ Centro    ┆          ┆   ┆           ┆           ┆ GRANDE    ┆           │\n",
       "│           ┆ 191096    ┆           ┆          ┆   ┆           ┆           ┆           ┆           │\n",
       "│ WO0000005 ┆ NARANJAL  ┆ Zona      ┆ En curso ┆ … ┆ null      ┆ null      ┆ NARANJAL  ┆ 191141    │\n",
       "│ 736853    ┆ - 191141  ┆ Centro    ┆          ┆   ┆           ┆           ┆           ┆           │\n",
       "│ WO0000005 ┆ NARANJAL  ┆ Zona      ┆ En curso ┆ … ┆ null      ┆ null      ┆ NARANJAL  ┆ 191141    │\n",
       "│ 736847    ┆ - 191141  ┆ Centro    ┆          ┆   ┆           ┆           ┆           ┆           │\n",
       "│ WO0000005 ┆ NARANJAL  ┆ Zona      ┆ En curso ┆ … ┆ null      ┆ null      ┆ NARANJAL  ┆ 191141    │\n",
       "│ 736845    ┆ - 191141  ┆ Centro    ┆          ┆   ┆           ┆           ┆           ┆           │\n",
       "│ WO0000005 ┆ TARAPACA  ┆ Zona      ┆ En curso ┆ … ┆ null      ┆ null      ┆ TARAPACA  ┆ 191030    │\n",
       "│ 736387    ┆ - 191030  ┆ Centro    ┆          ┆   ┆           ┆           ┆           ┆           │\n",
       "└───────────┴───────────┴───────────┴──────────┴───┴───────────┴───────────┴───────────┴───────────┘"
      ]
     },
     "execution_count": 29,
     "metadata": {},
     "output_type": "execute_result"
    }
   ],
   "source": [
    "# separando la columna Ubicacion con split - exact (se le indica cuantos delimitadores queremos convertir, el primero, el segundo)\n",
    "# tipo de dato que arroja es struct (estructura)\n",
    "# Propiedad unnest divide la columnas, solo si son de tipo de dato estructura\n",
    "# Propiedad struct.rename_fields, renombra las columnas generadas por la propiedad unnest (field_0, field_1)\n",
    "# Poner la columna AgenciaID de tipo de dato Int64\n",
    "''' formato\n",
    "df.with_columns(\n",
    "    [\n",
    "        pl.col(\"x\")\n",
    "        .str.split_exact(\"_\", 1)\n",
    "        .struct.rename_fields([\"first_part\", \"second_part\"])\n",
    "        .alias(\"fields\"),\n",
    "    ]\n",
    ").unnest(\"fields\")\n",
    "'''\n",
    "Tickets.with_columns(\n",
    "    pl.col('Ubicacion').str.split_exact(' - ', 1)\n",
    "    .struct.rename_fields(['Agencia','AgenciaID'])\n",
    "    .alias('Ubicacion 2')\n",
    ").unnest('Ubicacion 2').cast({'AgenciaID': pl.Int64})"
   ]
  },
  {
   "cell_type": "code",
   "execution_count": 30,
   "metadata": {},
   "outputs": [
    {
     "data": {
      "text/html": [
       "<div><style>\n",
       ".dataframe > thead > tr,\n",
       ".dataframe > tbody > tr {\n",
       "  text-align: right;\n",
       "  white-space: pre-wrap;\n",
       "}\n",
       "</style>\n",
       "<small>shape: (5, 8)</small><table border=\"1\" class=\"dataframe\"><thead><tr><th>TicketID</th><th>Agencia</th><th>AgenciaID</th><th>Service Desk</th><th>Estado</th><th>Fecha Creacion</th><th>Fecha Termino</th><th>Fecha Cierre</th></tr><tr><td>str</td><td>str</td><td>i64</td><td>str</td><td>str</td><td>date</td><td>date</td><td>date</td></tr></thead><tbody><tr><td>&quot;WO0000004122687&quot;</td><td>&quot;AREQUIPA&quot;</td><td>215000</td><td>&quot;Zona Norte&quot;</td><td>&quot;Cerrado&quot;</td><td>2022-06-01</td><td>2022-06-14</td><td>2022-06-14</td></tr><tr><td>&quot;WO0000004122649&quot;</td><td>&quot;METRO AV. WIESSE&quot;</td><td>191106</td><td>&quot;Zona Centro&quot;</td><td>&quot;Cerrado&quot;</td><td>2022-06-01</td><td>2022-06-17</td><td>2022-06-17</td></tr><tr><td>&quot;WO0000004122502&quot;</td><td>&quot;NICOLAS AYLLON&quot;</td><td>191027</td><td>&quot;Zona Centro&quot;</td><td>&quot;Cerrado&quot;</td><td>2022-06-01</td><td>2022-06-08</td><td>2022-06-08</td></tr><tr><td>&quot;WO0000004122513&quot;</td><td>&quot;JAUREGUI&quot;</td><td>405005</td><td>&quot;Zona Norte&quot;</td><td>&quot;Cerrado&quot;</td><td>2022-06-01</td><td>2022-06-18</td><td>2022-06-18</td></tr><tr><td>&quot;WO0000004122741&quot;</td><td>&quot;CANTO GRANDE&quot;</td><td>191096</td><td>&quot;Zona Centro&quot;</td><td>&quot;Cerrado&quot;</td><td>2022-06-01</td><td>2022-06-08</td><td>2022-06-08</td></tr></tbody></table></div>"
      ],
      "text/plain": [
       "shape: (5, 8)\n",
       "┌────────────┬────────────┬───────────┬────────────┬─────────┬────────────┬────────────┬───────────┐\n",
       "│ TicketID   ┆ Agencia    ┆ AgenciaID ┆ Service    ┆ Estado  ┆ Fecha      ┆ Fecha      ┆ Fecha     │\n",
       "│ ---        ┆ ---        ┆ ---       ┆ Desk       ┆ ---     ┆ Creacion   ┆ Termino    ┆ Cierre    │\n",
       "│ str        ┆ str        ┆ i64       ┆ ---        ┆ str     ┆ ---        ┆ ---        ┆ ---       │\n",
       "│            ┆            ┆           ┆ str        ┆         ┆ date       ┆ date       ┆ date      │\n",
       "╞════════════╪════════════╪═══════════╪════════════╪═════════╪════════════╪════════════╪═══════════╡\n",
       "│ WO00000041 ┆ AREQUIPA   ┆ 215000    ┆ Zona Norte ┆ Cerrado ┆ 2022-06-01 ┆ 2022-06-14 ┆ 2022-06-1 │\n",
       "│ 22687      ┆            ┆           ┆            ┆         ┆            ┆            ┆ 4         │\n",
       "│ WO00000041 ┆ METRO AV.  ┆ 191106    ┆ Zona       ┆ Cerrado ┆ 2022-06-01 ┆ 2022-06-17 ┆ 2022-06-1 │\n",
       "│ 22649      ┆ WIESSE     ┆           ┆ Centro     ┆         ┆            ┆            ┆ 7         │\n",
       "│ WO00000041 ┆ NICOLAS    ┆ 191027    ┆ Zona       ┆ Cerrado ┆ 2022-06-01 ┆ 2022-06-08 ┆ 2022-06-0 │\n",
       "│ 22502      ┆ AYLLON     ┆           ┆ Centro     ┆         ┆            ┆            ┆ 8         │\n",
       "│ WO00000041 ┆ JAUREGUI   ┆ 405005    ┆ Zona Norte ┆ Cerrado ┆ 2022-06-01 ┆ 2022-06-18 ┆ 2022-06-1 │\n",
       "│ 22513      ┆            ┆           ┆            ┆         ┆            ┆            ┆ 8         │\n",
       "│ WO00000041 ┆ CANTO      ┆ 191096    ┆ Zona       ┆ Cerrado ┆ 2022-06-01 ┆ 2022-06-08 ┆ 2022-06-0 │\n",
       "│ 22741      ┆ GRANDE     ┆           ┆ Centro     ┆         ┆            ┆            ┆ 8         │\n",
       "└────────────┴────────────┴───────────┴────────────┴─────────┴────────────┴────────────┴───────────┘"
      ]
     },
     "execution_count": 30,
     "metadata": {},
     "output_type": "execute_result"
    }
   ],
   "source": [
    "# separando la columna Ubicacion con split - exact (se le indica cuantos delimitadores queremos convertir, el primero, el segundo)\n",
    "# tipo de dato que arroja es struct (estructura)\n",
    "# Propiedad unnest divide la columnas, solo si son de tipo de dato estructura\n",
    "# Propiedad struct.rename_fields, renombra las columnas generadas por la propiedad unnest (field_0, field_1)\n",
    "# Poner la columna AgenciaID de tipo de dato Int64\n",
    "# sobreescribimos la columna Ubicacion, la chancamos\n",
    "''' formato\n",
    "df.with_columns(\n",
    "    [\n",
    "        pl.col(\"x\")\n",
    "        .str.split_exact(\"_\", 1)\n",
    "        .struct.rename_fields([\"first_part\", \"second_part\"])\n",
    "        .alias(\"fields\"),\n",
    "    ]\n",
    ").unnest(\"fields\")\n",
    "'''\n",
    "Tickets = Tickets.with_columns(\n",
    "    pl.col('Ubicacion').str.split_exact(' - ', 1)\n",
    "    .struct.rename_fields(['Agencia','AgenciaID'])\n",
    "    .alias('Ubicacion')\n",
    ").unnest('Ubicacion').cast({'AgenciaID': pl.Int64})\n",
    "Tickets.head()"
   ]
  },
  {
   "cell_type": "markdown",
   "metadata": {},
   "source": [
    "- Crear la columna Fecha Real Fin: Si la fecha termino es nulo colocar la fecha de cierre, si no colocar la misma fecha de termino"
   ]
  },
  {
   "cell_type": "code",
   "execution_count": 31,
   "metadata": {},
   "outputs": [
    {
     "data": {
      "text/html": [
       "<div><style>\n",
       ".dataframe > thead > tr,\n",
       ".dataframe > tbody > tr {\n",
       "  text-align: right;\n",
       "  white-space: pre-wrap;\n",
       "}\n",
       "</style>\n",
       "<small>shape: (5, 9)</small><table border=\"1\" class=\"dataframe\"><thead><tr><th>TicketID</th><th>Agencia</th><th>AgenciaID</th><th>Service Desk</th><th>Estado</th><th>Fecha Creacion</th><th>Fecha Termino</th><th>Fecha Cierre</th><th>Fecha Real Fin</th></tr><tr><td>str</td><td>str</td><td>i64</td><td>str</td><td>str</td><td>date</td><td>date</td><td>date</td><td>date</td></tr></thead><tbody><tr><td>&quot;WO0000004122687&quot;</td><td>&quot;AREQUIPA&quot;</td><td>215000</td><td>&quot;Zona Norte&quot;</td><td>&quot;Cerrado&quot;</td><td>2022-06-01</td><td>2022-06-14</td><td>2022-06-14</td><td>2022-06-14</td></tr><tr><td>&quot;WO0000004122649&quot;</td><td>&quot;METRO AV. WIESSE&quot;</td><td>191106</td><td>&quot;Zona Centro&quot;</td><td>&quot;Cerrado&quot;</td><td>2022-06-01</td><td>2022-06-17</td><td>2022-06-17</td><td>2022-06-17</td></tr><tr><td>&quot;WO0000004122502&quot;</td><td>&quot;NICOLAS AYLLON&quot;</td><td>191027</td><td>&quot;Zona Centro&quot;</td><td>&quot;Cerrado&quot;</td><td>2022-06-01</td><td>2022-06-08</td><td>2022-06-08</td><td>2022-06-08</td></tr><tr><td>&quot;WO0000004122513&quot;</td><td>&quot;JAUREGUI&quot;</td><td>405005</td><td>&quot;Zona Norte&quot;</td><td>&quot;Cerrado&quot;</td><td>2022-06-01</td><td>2022-06-18</td><td>2022-06-18</td><td>2022-06-18</td></tr><tr><td>&quot;WO0000004122741&quot;</td><td>&quot;CANTO GRANDE&quot;</td><td>191096</td><td>&quot;Zona Centro&quot;</td><td>&quot;Cerrado&quot;</td><td>2022-06-01</td><td>2022-06-08</td><td>2022-06-08</td><td>2022-06-08</td></tr></tbody></table></div>"
      ],
      "text/plain": [
       "shape: (5, 9)\n",
       "┌───────────┬───────────┬───────────┬───────────┬───┬───────────┬───────────┬───────────┬──────────┐\n",
       "│ TicketID  ┆ Agencia   ┆ AgenciaID ┆ Service   ┆ … ┆ Fecha     ┆ Fecha     ┆ Fecha     ┆ Fecha    │\n",
       "│ ---       ┆ ---       ┆ ---       ┆ Desk      ┆   ┆ Creacion  ┆ Termino   ┆ Cierre    ┆ Real Fin │\n",
       "│ str       ┆ str       ┆ i64       ┆ ---       ┆   ┆ ---       ┆ ---       ┆ ---       ┆ ---      │\n",
       "│           ┆           ┆           ┆ str       ┆   ┆ date      ┆ date      ┆ date      ┆ date     │\n",
       "╞═══════════╪═══════════╪═══════════╪═══════════╪═══╪═══════════╪═══════════╪═══════════╪══════════╡\n",
       "│ WO0000004 ┆ AREQUIPA  ┆ 215000    ┆ Zona      ┆ … ┆ 2022-06-0 ┆ 2022-06-1 ┆ 2022-06-1 ┆ 2022-06- │\n",
       "│ 122687    ┆           ┆           ┆ Norte     ┆   ┆ 1         ┆ 4         ┆ 4         ┆ 14       │\n",
       "│ WO0000004 ┆ METRO AV. ┆ 191106    ┆ Zona      ┆ … ┆ 2022-06-0 ┆ 2022-06-1 ┆ 2022-06-1 ┆ 2022-06- │\n",
       "│ 122649    ┆ WIESSE    ┆           ┆ Centro    ┆   ┆ 1         ┆ 7         ┆ 7         ┆ 17       │\n",
       "│ WO0000004 ┆ NICOLAS   ┆ 191027    ┆ Zona      ┆ … ┆ 2022-06-0 ┆ 2022-06-0 ┆ 2022-06-0 ┆ 2022-06- │\n",
       "│ 122502    ┆ AYLLON    ┆           ┆ Centro    ┆   ┆ 1         ┆ 8         ┆ 8         ┆ 08       │\n",
       "│ WO0000004 ┆ JAUREGUI  ┆ 405005    ┆ Zona      ┆ … ┆ 2022-06-0 ┆ 2022-06-1 ┆ 2022-06-1 ┆ 2022-06- │\n",
       "│ 122513    ┆           ┆           ┆ Norte     ┆   ┆ 1         ┆ 8         ┆ 8         ┆ 18       │\n",
       "│ WO0000004 ┆ CANTO     ┆ 191096    ┆ Zona      ┆ … ┆ 2022-06-0 ┆ 2022-06-0 ┆ 2022-06-0 ┆ 2022-06- │\n",
       "│ 122741    ┆ GRANDE    ┆           ┆ Centro    ┆   ┆ 1         ┆ 8         ┆ 8         ┆ 08       │\n",
       "└───────────┴───────────┴───────────┴───────────┴───┴───────────┴───────────┴───────────┴──────────┘"
      ]
     },
     "execution_count": 31,
     "metadata": {},
     "output_type": "execute_result"
    }
   ],
   "source": [
    "Tickets = Tickets.with_columns(\n",
    "    pl.when(pl.col(\"Fecha Termino\").is_null()).then(pl.col('Fecha Cierre')).otherwise(pl.col(\"Fecha Termino\")).alias('Fecha Real Fin')   \n",
    ")\n",
    "Tickets.head()"
   ]
  },
  {
   "cell_type": "markdown",
   "metadata": {},
   "source": [
    "- Restar las fechas de Fecha Real Fin y Fecha Cierre, colocar la nueva columna como Dias Cierre"
   ]
  },
  {
   "cell_type": "code",
   "execution_count": 32,
   "metadata": {},
   "outputs": [
    {
     "data": {
      "text/html": [
       "<div><style>\n",
       ".dataframe > thead > tr,\n",
       ".dataframe > tbody > tr {\n",
       "  text-align: right;\n",
       "  white-space: pre-wrap;\n",
       "}\n",
       "</style>\n",
       "<small>shape: (5, 10)</small><table border=\"1\" class=\"dataframe\"><thead><tr><th>TicketID</th><th>Agencia</th><th>AgenciaID</th><th>Service Desk</th><th>Estado</th><th>Fecha Creacion</th><th>Fecha Termino</th><th>Fecha Cierre</th><th>Fecha Real Fin</th><th>Dias Cierre</th></tr><tr><td>str</td><td>str</td><td>i64</td><td>str</td><td>str</td><td>date</td><td>date</td><td>date</td><td>date</td><td>i64</td></tr></thead><tbody><tr><td>&quot;WO0000004122687&quot;</td><td>&quot;AREQUIPA&quot;</td><td>215000</td><td>&quot;Zona Norte&quot;</td><td>&quot;Cerrado&quot;</td><td>2022-06-01</td><td>2022-06-14</td><td>2022-06-14</td><td>2022-06-14</td><td>13</td></tr><tr><td>&quot;WO0000004122649&quot;</td><td>&quot;METRO AV. WIESSE&quot;</td><td>191106</td><td>&quot;Zona Centro&quot;</td><td>&quot;Cerrado&quot;</td><td>2022-06-01</td><td>2022-06-17</td><td>2022-06-17</td><td>2022-06-17</td><td>16</td></tr><tr><td>&quot;WO0000004122502&quot;</td><td>&quot;NICOLAS AYLLON&quot;</td><td>191027</td><td>&quot;Zona Centro&quot;</td><td>&quot;Cerrado&quot;</td><td>2022-06-01</td><td>2022-06-08</td><td>2022-06-08</td><td>2022-06-08</td><td>7</td></tr><tr><td>&quot;WO0000004122513&quot;</td><td>&quot;JAUREGUI&quot;</td><td>405005</td><td>&quot;Zona Norte&quot;</td><td>&quot;Cerrado&quot;</td><td>2022-06-01</td><td>2022-06-18</td><td>2022-06-18</td><td>2022-06-18</td><td>17</td></tr><tr><td>&quot;WO0000004122741&quot;</td><td>&quot;CANTO GRANDE&quot;</td><td>191096</td><td>&quot;Zona Centro&quot;</td><td>&quot;Cerrado&quot;</td><td>2022-06-01</td><td>2022-06-08</td><td>2022-06-08</td><td>2022-06-08</td><td>7</td></tr></tbody></table></div>"
      ],
      "text/plain": [
       "shape: (5, 10)\n",
       "┌───────────┬───────────┬───────────┬───────────┬───┬───────────┬───────────┬───────────┬──────────┐\n",
       "│ TicketID  ┆ Agencia   ┆ AgenciaID ┆ Service   ┆ … ┆ Fecha     ┆ Fecha     ┆ Fecha     ┆ Dias     │\n",
       "│ ---       ┆ ---       ┆ ---       ┆ Desk      ┆   ┆ Termino   ┆ Cierre    ┆ Real Fin  ┆ Cierre   │\n",
       "│ str       ┆ str       ┆ i64       ┆ ---       ┆   ┆ ---       ┆ ---       ┆ ---       ┆ ---      │\n",
       "│           ┆           ┆           ┆ str       ┆   ┆ date      ┆ date      ┆ date      ┆ i64      │\n",
       "╞═══════════╪═══════════╪═══════════╪═══════════╪═══╪═══════════╪═══════════╪═══════════╪══════════╡\n",
       "│ WO0000004 ┆ AREQUIPA  ┆ 215000    ┆ Zona      ┆ … ┆ 2022-06-1 ┆ 2022-06-1 ┆ 2022-06-1 ┆ 13       │\n",
       "│ 122687    ┆           ┆           ┆ Norte     ┆   ┆ 4         ┆ 4         ┆ 4         ┆          │\n",
       "│ WO0000004 ┆ METRO AV. ┆ 191106    ┆ Zona      ┆ … ┆ 2022-06-1 ┆ 2022-06-1 ┆ 2022-06-1 ┆ 16       │\n",
       "│ 122649    ┆ WIESSE    ┆           ┆ Centro    ┆   ┆ 7         ┆ 7         ┆ 7         ┆          │\n",
       "│ WO0000004 ┆ NICOLAS   ┆ 191027    ┆ Zona      ┆ … ┆ 2022-06-0 ┆ 2022-06-0 ┆ 2022-06-0 ┆ 7        │\n",
       "│ 122502    ┆ AYLLON    ┆           ┆ Centro    ┆   ┆ 8         ┆ 8         ┆ 8         ┆          │\n",
       "│ WO0000004 ┆ JAUREGUI  ┆ 405005    ┆ Zona      ┆ … ┆ 2022-06-1 ┆ 2022-06-1 ┆ 2022-06-1 ┆ 17       │\n",
       "│ 122513    ┆           ┆           ┆ Norte     ┆   ┆ 8         ┆ 8         ┆ 8         ┆          │\n",
       "│ WO0000004 ┆ CANTO     ┆ 191096    ┆ Zona      ┆ … ┆ 2022-06-0 ┆ 2022-06-0 ┆ 2022-06-0 ┆ 7        │\n",
       "│ 122741    ┆ GRANDE    ┆           ┆ Centro    ┆   ┆ 8         ┆ 8         ┆ 8         ┆          │\n",
       "└───────────┴───────────┴───────────┴───────────┴───┴───────────┴───────────┴───────────┴──────────┘"
      ]
     },
     "execution_count": 32,
     "metadata": {},
     "output_type": "execute_result"
    }
   ],
   "source": [
    "Tickets = Tickets.with_columns(\n",
    "    (pl.col('Fecha Real Fin') - pl.col('Fecha Creacion'))\n",
    "    .dt.total_days()\n",
    "    .alias('Dias Cierre')\n",
    ")\n",
    "Tickets.head()"
   ]
  },
  {
   "cell_type": "markdown",
   "metadata": {},
   "source": [
    "### Crear al columna Grupo Dias en base a esas reglas:\n",
    "- Si [Dias Cierre] < 3 Entonces \"0 a 3 días\"\n",
    "- Si [Dias Cierre] < 7 Entonces \"3 a 7 días\"\n",
    "- Si [Dias Cierre] < 15 Entonces \"7 a 15 días\"\n",
    "- Si [Dias Cierre] >= 15 Entonces \"+ 15 días\""
   ]
  },
  {
   "cell_type": "code",
   "execution_count": 33,
   "metadata": {},
   "outputs": [
    {
     "data": {
      "text/html": [
       "<div><style>\n",
       ".dataframe > thead > tr,\n",
       ".dataframe > tbody > tr {\n",
       "  text-align: right;\n",
       "  white-space: pre-wrap;\n",
       "}\n",
       "</style>\n",
       "<small>shape: (5, 11)</small><table border=\"1\" class=\"dataframe\"><thead><tr><th>TicketID</th><th>Agencia</th><th>AgenciaID</th><th>Service Desk</th><th>Estado</th><th>Fecha Creacion</th><th>Fecha Termino</th><th>Fecha Cierre</th><th>Fecha Real Fin</th><th>Dias Cierre</th><th>Grupo Dias</th></tr><tr><td>str</td><td>str</td><td>i64</td><td>str</td><td>str</td><td>date</td><td>date</td><td>date</td><td>date</td><td>i64</td><td>str</td></tr></thead><tbody><tr><td>&quot;WO0000004122687&quot;</td><td>&quot;AREQUIPA&quot;</td><td>215000</td><td>&quot;Zona Norte&quot;</td><td>&quot;Cerrado&quot;</td><td>2022-06-01</td><td>2022-06-14</td><td>2022-06-14</td><td>2022-06-14</td><td>13</td><td>&quot;7 a 15 dias&quot;</td></tr><tr><td>&quot;WO0000004122649&quot;</td><td>&quot;METRO AV. WIESSE&quot;</td><td>191106</td><td>&quot;Zona Centro&quot;</td><td>&quot;Cerrado&quot;</td><td>2022-06-01</td><td>2022-06-17</td><td>2022-06-17</td><td>2022-06-17</td><td>16</td><td>&quot;15 a mas&quot;</td></tr><tr><td>&quot;WO0000004122502&quot;</td><td>&quot;NICOLAS AYLLON&quot;</td><td>191027</td><td>&quot;Zona Centro&quot;</td><td>&quot;Cerrado&quot;</td><td>2022-06-01</td><td>2022-06-08</td><td>2022-06-08</td><td>2022-06-08</td><td>7</td><td>&quot;7 a 15 dias&quot;</td></tr><tr><td>&quot;WO0000004122513&quot;</td><td>&quot;JAUREGUI&quot;</td><td>405005</td><td>&quot;Zona Norte&quot;</td><td>&quot;Cerrado&quot;</td><td>2022-06-01</td><td>2022-06-18</td><td>2022-06-18</td><td>2022-06-18</td><td>17</td><td>&quot;15 a mas&quot;</td></tr><tr><td>&quot;WO0000004122741&quot;</td><td>&quot;CANTO GRANDE&quot;</td><td>191096</td><td>&quot;Zona Centro&quot;</td><td>&quot;Cerrado&quot;</td><td>2022-06-01</td><td>2022-06-08</td><td>2022-06-08</td><td>2022-06-08</td><td>7</td><td>&quot;7 a 15 dias&quot;</td></tr></tbody></table></div>"
      ],
      "text/plain": [
       "shape: (5, 11)\n",
       "┌───────────┬───────────┬───────────┬───────────┬───┬───────────┬───────────┬───────────┬──────────┐\n",
       "│ TicketID  ┆ Agencia   ┆ AgenciaID ┆ Service   ┆ … ┆ Fecha     ┆ Fecha     ┆ Dias      ┆ Grupo    │\n",
       "│ ---       ┆ ---       ┆ ---       ┆ Desk      ┆   ┆ Cierre    ┆ Real Fin  ┆ Cierre    ┆ Dias     │\n",
       "│ str       ┆ str       ┆ i64       ┆ ---       ┆   ┆ ---       ┆ ---       ┆ ---       ┆ ---      │\n",
       "│           ┆           ┆           ┆ str       ┆   ┆ date      ┆ date      ┆ i64       ┆ str      │\n",
       "╞═══════════╪═══════════╪═══════════╪═══════════╪═══╪═══════════╪═══════════╪═══════════╪══════════╡\n",
       "│ WO0000004 ┆ AREQUIPA  ┆ 215000    ┆ Zona      ┆ … ┆ 2022-06-1 ┆ 2022-06-1 ┆ 13        ┆ 7 a 15   │\n",
       "│ 122687    ┆           ┆           ┆ Norte     ┆   ┆ 4         ┆ 4         ┆           ┆ dias     │\n",
       "│ WO0000004 ┆ METRO AV. ┆ 191106    ┆ Zona      ┆ … ┆ 2022-06-1 ┆ 2022-06-1 ┆ 16        ┆ 15 a mas │\n",
       "│ 122649    ┆ WIESSE    ┆           ┆ Centro    ┆   ┆ 7         ┆ 7         ┆           ┆          │\n",
       "│ WO0000004 ┆ NICOLAS   ┆ 191027    ┆ Zona      ┆ … ┆ 2022-06-0 ┆ 2022-06-0 ┆ 7         ┆ 7 a 15   │\n",
       "│ 122502    ┆ AYLLON    ┆           ┆ Centro    ┆   ┆ 8         ┆ 8         ┆           ┆ dias     │\n",
       "│ WO0000004 ┆ JAUREGUI  ┆ 405005    ┆ Zona      ┆ … ┆ 2022-06-1 ┆ 2022-06-1 ┆ 17        ┆ 15 a mas │\n",
       "│ 122513    ┆           ┆           ┆ Norte     ┆   ┆ 8         ┆ 8         ┆           ┆          │\n",
       "│ WO0000004 ┆ CANTO     ┆ 191096    ┆ Zona      ┆ … ┆ 2022-06-0 ┆ 2022-06-0 ┆ 7         ┆ 7 a 15   │\n",
       "│ 122741    ┆ GRANDE    ┆           ┆ Centro    ┆   ┆ 8         ┆ 8         ┆           ┆ dias     │\n",
       "└───────────┴───────────┴───────────┴───────────┴───┴───────────┴───────────┴───────────┴──────────┘"
      ]
     },
     "execution_count": 33,
     "metadata": {},
     "output_type": "execute_result"
    }
   ],
   "source": [
    "# Primero revisamos los datos nulos = Tickets.filter(pl.col('Dias Cierre').is_null())\n",
    "# pl.lit permite que se agergue el valor de la columna, de lo contraria sale error (es una columna literalq eu se agrega segun las condiciones)\n",
    "Tickets =  Tickets.with_columns(\n",
    "    pl.when(pl.col('Dias Cierre').is_null()).then(None)\n",
    "    .when(pl.col('Dias Cierre') < 3).then(pl.lit('0 a 3 dias'))\n",
    "    .when(pl.col('Dias Cierre') < 7).then(pl.lit('3 a 7 dias'))\n",
    "    .when(pl.col('Dias Cierre') < 15).then(pl.lit('7 a 15 dias'))\n",
    "    .otherwise(pl.lit('15 a mas')).alias('Grupo Dias')\n",
    "    )\n",
    "Tickets.head()"
   ]
  },
  {
   "cell_type": "markdown",
   "metadata": {},
   "source": [
    "### Lectura Base Atenciones (Excel)\n",
    "- Segun el profe: Es mejor leer un archivo plano que un excel"
   ]
  },
  {
   "cell_type": "code",
   "execution_count": 34,
   "metadata": {},
   "outputs": [
    {
     "data": {
      "text/html": [
       "<div><style>\n",
       ".dataframe > thead > tr,\n",
       ".dataframe > tbody > tr {\n",
       "  text-align: right;\n",
       "  white-space: pre-wrap;\n",
       "}\n",
       "</style>\n",
       "<small>shape: (12_604, 19)</small><table border=\"1\" class=\"dataframe\"><thead><tr><th>Numero Ticket</th><th>Semana de Visita</th><th>Fecha programada</th><th>Fecha Creacion</th><th>Fecha Cierre</th><th>Estado</th><th>Agencia</th><th>Descripción del servicio</th><th>Tipo de Ticket</th><th>Fecha Aprobacion de Cotizacion</th><th>Precio Venta con IGV (con IGV)</th><th>Monto Registrado en Planilla</th><th>Fecha de Registro en Planilla</th><th>Número de SOLPED</th><th>Proveedor</th><th>Costo Atencion</th><th>Unidades</th><th>Número de OS / OC</th><th>Codigo de Conformidad</th></tr><tr><td>str</td><td>str</td><td>str</td><td>str</td><td>str</td><td>str</td><td>str</td><td>str</td><td>str</td><td>str</td><td>str</td><td>str</td><td>str</td><td>str</td><td>str</td><td>str</td><td>str</td><td>str</td><td>str</td></tr></thead><tbody><tr><td>&quot;WO0000005584689&quot;</td><td>null</td><td>null</td><td>&quot;08/09/2023&quot;</td><td>&quot;17/08/2023&quot;</td><td>&quot;Cerrado&quot;</td><td>&quot;LAS MALVINAS - 191076&quot;</td><td>&quot;Usuario Solicitante: U16620 - POOL EDGARD TORRES CORONEL\n",
       "Mi silla Giratoria GDO tiene juego en su b…</td><td>&quot;Variable&quot;</td><td>&quot;44095&quot;</td><td>&quot;10/03/1900 19:12:00&quot;</td><td>null</td><td>null</td><td>null</td><td>&quot;MR EXPRESS&quot;</td><td>null</td><td>null</td><td>null</td><td>null</td></tr><tr><td>&quot;WO0000004544943&quot;</td><td>null</td><td>null</td><td>&quot;18/10/2022&quot;</td><td>null</td><td>&quot;Rechazado&quot;</td><td>null</td><td>null</td><td>&quot;Rechazado&quot;</td><td>null</td><td>null</td><td>null</td><td>null</td><td>null</td><td>null</td><td>&quot;100&quot;</td><td>null</td><td>&quot;03678-112022&quot;</td><td>&quot;111903930&quot;</td></tr><tr><td>&quot;WO0000004545246&quot;</td><td>null</td><td>null</td><td>&quot;18/10/2022&quot;</td><td>null</td><td>&quot;Rechazado&quot;</td><td>null</td><td>null</td><td>&quot;Rechazado&quot;</td><td>null</td><td>null</td><td>null</td><td>null</td><td>null</td><td>null</td><td>&quot;100&quot;</td><td>null</td><td>&quot;02321-112022&quot;</td><td>&quot;111904103&quot;</td></tr><tr><td>&quot;WO0000004559125&quot;</td><td>null</td><td>null</td><td>&quot;24/10/2022&quot;</td><td>null</td><td>&quot;Rechazado&quot;</td><td>null</td><td>null</td><td>&quot;Rechazado&quot;</td><td>null</td><td>null</td><td>null</td><td>null</td><td>null</td><td>null</td><td>&quot;100&quot;</td><td>null</td><td>null</td><td>&quot;Pendiente de OS HABOM&quot;</td></tr><tr><td>&quot;WO0000004707477&quot;</td><td>null</td><td>null</td><td>&quot;08/11/2022&quot;</td><td>null</td><td>&quot;Rechazado&quot;</td><td>null</td><td>null</td><td>&quot;Rechazado&quot;</td><td>null</td><td>null</td><td>null</td><td>null</td><td>null</td><td>null</td><td>&quot;100&quot;</td><td>null</td><td>&quot;02918-092022&quot;</td><td>&quot;111900539&quot;</td></tr><tr><td>&hellip;</td><td>&hellip;</td><td>&hellip;</td><td>&hellip;</td><td>&hellip;</td><td>&hellip;</td><td>&hellip;</td><td>&hellip;</td><td>&hellip;</td><td>&hellip;</td><td>&hellip;</td><td>&hellip;</td><td>&hellip;</td><td>&hellip;</td><td>&hellip;</td><td>&hellip;</td><td>&hellip;</td><td>&hellip;</td><td>&hellip;</td></tr><tr><td>&quot;WO0000005737893&quot;</td><td>null</td><td>null</td><td>&quot;29/10/2023&quot;</td><td>null</td><td>&quot;En curso&quot;</td><td>&quot;MENDIOLA - 191078&quot;</td><td>&quot;Usuario Solicitante: S91411 - JOSE OCTAVIO HUAMAN ARISTA\n",
       "TECNICO ELECTRICISTA APERTURA DE TABLERO -…</td><td>&quot;Variable&quot;</td><td>null</td><td>null</td><td>null</td><td>null</td><td>null</td><td>&quot;ACCENTURE&quot;</td><td>null</td><td>null</td><td>null</td><td>null</td></tr><tr><td>&quot;WO0000005738706&quot;</td><td>null</td><td>null</td><td>&quot;29/10/2023&quot;</td><td>null</td><td>&quot;En curso&quot;</td><td>&quot;PUENTE PIEDRA - 191035&quot;</td><td>&quot;Usuario Solicitante: S00233 - CARLA FATIMA VELASQUEZ LORENZO\n",
       "Buenas tardes , estimados tenemos inco…</td><td>&quot;Variable&quot;</td><td>null</td><td>null</td><td>null</td><td>null</td><td>null</td><td>&quot;ACCENTURE&quot;</td><td>null</td><td>null</td><td>null</td><td>null</td></tr><tr><td>&quot;WO0000005738709&quot;</td><td>null</td><td>null</td><td>&quot;29/10/2023&quot;</td><td>null</td><td>&quot;En curso&quot;</td><td>&quot;MEGA PLAZA - 191010&quot;</td><td>&quot;Usuario Solicitante: U17777 - MIRIAM MARIZA CIEZA CORONADO\n",
       "extractor de aire de servicios higienico…</td><td>&quot;Variable&quot;</td><td>null</td><td>null</td><td>null</td><td>null</td><td>null</td><td>&quot;COORPORACION R&amp;M&quot;</td><td>null</td><td>null</td><td>null</td><td>null</td></tr><tr><td>&quot;WO0000005738726&quot;</td><td>null</td><td>null</td><td>&quot;29/10/2023&quot;</td><td>null</td><td>&quot;En curso&quot;</td><td>&quot;NACIONES UNIDAS - 191084&quot;</td><td>&quot;Usuario Solicitante: S83674 - KEVIN JEAN FRANCO SAENZ ZEA\n",
       "Estimados:\n",
       "\n",
       "Solicitamos la remodelación d…</td><td>&quot;Variable&quot;</td><td>null</td><td>null</td><td>null</td><td>null</td><td>null</td><td>&quot;ACCENTURE&quot;</td><td>null</td><td>null</td><td>null</td><td>null</td></tr><tr><td>&quot;WO0000005738729&quot;</td><td>null</td><td>null</td><td>&quot;29/10/2023&quot;</td><td>null</td><td>&quot;En curso&quot;</td><td>&quot;NACIONES UNIDAS - 191084&quot;</td><td>&quot;Usuario Solicitante: S83674 - KEVIN JEAN FRANCO SAENZ ZEA\n",
       "Estimados:\n",
       "\n",
       "Se solicitan la remodelación …</td><td>&quot;Variable&quot;</td><td>null</td><td>null</td><td>null</td><td>null</td><td>null</td><td>&quot;ACCENTURE&quot;</td><td>null</td><td>null</td><td>null</td><td>null</td></tr></tbody></table></div>"
      ],
      "text/plain": [
       "shape: (12_604, 19)\n",
       "┌───────────┬───────────┬───────────┬───────────┬───┬───────────┬──────────┬───────────┬───────────┐\n",
       "│ Numero    ┆ Semana de ┆ Fecha pro ┆ Fecha     ┆ … ┆ Costo     ┆ Unidades ┆ Número de ┆ Codigo de │\n",
       "│ Ticket    ┆ Visita    ┆ gramada   ┆ Creacion  ┆   ┆ Atencion  ┆ ---      ┆ OS / OC   ┆ Conformid │\n",
       "│ ---       ┆ ---       ┆ ---       ┆ ---       ┆   ┆ ---       ┆ str      ┆ ---       ┆ ad        │\n",
       "│ str       ┆ str       ┆ str       ┆ str       ┆   ┆ str       ┆          ┆ str       ┆ ---       │\n",
       "│           ┆           ┆           ┆           ┆   ┆           ┆          ┆           ┆ str       │\n",
       "╞═══════════╪═══════════╪═══════════╪═══════════╪═══╪═══════════╪══════════╪═══════════╪═══════════╡\n",
       "│ WO0000005 ┆ null      ┆ null      ┆ 08/09/202 ┆ … ┆ null      ┆ null     ┆ null      ┆ null      │\n",
       "│ 584689    ┆           ┆           ┆ 3         ┆   ┆           ┆          ┆           ┆           │\n",
       "│ WO0000004 ┆ null      ┆ null      ┆ 18/10/202 ┆ … ┆ 100       ┆ null     ┆ 03678-112 ┆ 111903930 │\n",
       "│ 544943    ┆           ┆           ┆ 2         ┆   ┆           ┆          ┆ 022       ┆           │\n",
       "│ WO0000004 ┆ null      ┆ null      ┆ 18/10/202 ┆ … ┆ 100       ┆ null     ┆ 02321-112 ┆ 111904103 │\n",
       "│ 545246    ┆           ┆           ┆ 2         ┆   ┆           ┆          ┆ 022       ┆           │\n",
       "│ WO0000004 ┆ null      ┆ null      ┆ 24/10/202 ┆ … ┆ 100       ┆ null     ┆ null      ┆ Pendiente │\n",
       "│ 559125    ┆           ┆           ┆ 2         ┆   ┆           ┆          ┆           ┆ de OS     │\n",
       "│           ┆           ┆           ┆           ┆   ┆           ┆          ┆           ┆ HABOM     │\n",
       "│ WO0000004 ┆ null      ┆ null      ┆ 08/11/202 ┆ … ┆ 100       ┆ null     ┆ 02918-092 ┆ 111900539 │\n",
       "│ 707477    ┆           ┆           ┆ 2         ┆   ┆           ┆          ┆ 022       ┆           │\n",
       "│ …         ┆ …         ┆ …         ┆ …         ┆ … ┆ …         ┆ …        ┆ …         ┆ …         │\n",
       "│ WO0000005 ┆ null      ┆ null      ┆ 29/10/202 ┆ … ┆ null      ┆ null     ┆ null      ┆ null      │\n",
       "│ 737893    ┆           ┆           ┆ 3         ┆   ┆           ┆          ┆           ┆           │\n",
       "│ WO0000005 ┆ null      ┆ null      ┆ 29/10/202 ┆ … ┆ null      ┆ null     ┆ null      ┆ null      │\n",
       "│ 738706    ┆           ┆           ┆ 3         ┆   ┆           ┆          ┆           ┆           │\n",
       "│ WO0000005 ┆ null      ┆ null      ┆ 29/10/202 ┆ … ┆ null      ┆ null     ┆ null      ┆ null      │\n",
       "│ 738709    ┆           ┆           ┆ 3         ┆   ┆           ┆          ┆           ┆           │\n",
       "│ WO0000005 ┆ null      ┆ null      ┆ 29/10/202 ┆ … ┆ null      ┆ null     ┆ null      ┆ null      │\n",
       "│ 738726    ┆           ┆           ┆ 3         ┆   ┆           ┆          ┆           ┆           │\n",
       "│ WO0000005 ┆ null      ┆ null      ┆ 29/10/202 ┆ … ┆ null      ┆ null     ┆ null      ┆ null      │\n",
       "│ 738729    ┆           ┆           ┆ 3         ┆   ┆           ┆          ┆           ┆           │\n",
       "└───────────┴───────────┴───────────┴───────────┴───┴───────────┴──────────┴───────────┴───────────┘"
      ]
     },
     "execution_count": 34,
     "metadata": {},
     "output_type": "execute_result"
    }
   ],
   "source": [
    "# La propiedad read_options es propio del CSV y como estamos usando la propiedad engine para que simule que es una csv que estamos leyendo (es mas rapido asi)\n",
    "# La propiedad infer_schema_length le ponemos 0 para que polars no infiera en la transformacion del esquema (tipo de datos)\n",
    "pl.read_excel(\n",
    "    source='./Atenciones/Atenciones Centro.xlsx',\n",
    "    sheet_name='Hoja1',\n",
    "    engine='xlsx2csv',\n",
    "    read_options={\n",
    "        'infer_schema_length': 0\n",
    "    }\n",
    ")"
   ]
  },
  {
   "cell_type": "markdown",
   "metadata": {},
   "source": [
    "# SESION 04 - CONTINUACION DE LECTURA BASE DE ATENCIONES"
   ]
  },
  {
   "cell_type": "code",
   "execution_count": 35,
   "metadata": {},
   "outputs": [
    {
     "data": {
      "text/html": [
       "<div><style>\n",
       ".dataframe > thead > tr,\n",
       ".dataframe > tbody > tr {\n",
       "  text-align: right;\n",
       "  white-space: pre-wrap;\n",
       "}\n",
       "</style>\n",
       "<small>shape: (5, 4)</small><table border=\"1\" class=\"dataframe\"><thead><tr><th>Numero Ticket</th><th>Tipo de Ticket</th><th>Proveedor</th><th>Costo Atencion</th></tr><tr><td>str</td><td>str</td><td>str</td><td>str</td></tr></thead><tbody><tr><td>&quot;WO0000005584689&quot;</td><td>&quot;Variable&quot;</td><td>&quot;MR EXPRESS&quot;</td><td>null</td></tr><tr><td>&quot;WO0000004544943&quot;</td><td>&quot;Rechazado&quot;</td><td>null</td><td>&quot;100&quot;</td></tr><tr><td>&quot;WO0000004545246&quot;</td><td>&quot;Rechazado&quot;</td><td>null</td><td>&quot;100&quot;</td></tr><tr><td>&quot;WO0000004559125&quot;</td><td>&quot;Rechazado&quot;</td><td>null</td><td>&quot;100&quot;</td></tr><tr><td>&quot;WO0000004707477&quot;</td><td>&quot;Rechazado&quot;</td><td>null</td><td>&quot;100&quot;</td></tr></tbody></table></div>"
      ],
      "text/plain": [
       "shape: (5, 4)\n",
       "┌─────────────────┬────────────────┬────────────┬────────────────┐\n",
       "│ Numero Ticket   ┆ Tipo de Ticket ┆ Proveedor  ┆ Costo Atencion │\n",
       "│ ---             ┆ ---            ┆ ---        ┆ ---            │\n",
       "│ str             ┆ str            ┆ str        ┆ str            │\n",
       "╞═════════════════╪════════════════╪════════════╪════════════════╡\n",
       "│ WO0000005584689 ┆ Variable       ┆ MR EXPRESS ┆ null           │\n",
       "│ WO0000004544943 ┆ Rechazado      ┆ null       ┆ 100            │\n",
       "│ WO0000004545246 ┆ Rechazado      ┆ null       ┆ 100            │\n",
       "│ WO0000004559125 ┆ Rechazado      ┆ null       ┆ 100            │\n",
       "│ WO0000004707477 ┆ Rechazado      ┆ null       ┆ 100            │\n",
       "└─────────────────┴────────────────┴────────────┴────────────────┘"
      ]
     },
     "execution_count": 35,
     "metadata": {},
     "output_type": "execute_result"
    }
   ],
   "source": [
    "# La propiedad read_options es propio del CSV y como estamos usando la propiedad engine para que simule que es una csv que estamos leyendo (es mas rapido asi)\n",
    "# La propiedad infer_schema_length le ponemos 0 para que polars no infiera en la transformacion del esquema (tipo de datos)\n",
    "dataAtenciones = pl.read_excel(\n",
    "    source = './Atenciones/Atenciones Centro.xlsx',\n",
    "    sheet_name = 'Hoja1',\n",
    "    engine = 'xlsx2csv',\n",
    "    read_options = {\n",
    "        'infer_schema_length':0,\n",
    "        'columns':['Numero Ticket', 'Tipo de Ticket', 'Proveedor', 'Costo Atencion']\n",
    "    }\n",
    ")\n",
    "dataAtenciones.head()"
   ]
  },
  {
   "cell_type": "markdown",
   "metadata": {},
   "source": [
    "#### Reemplazando valores en la columna Costo Atencion\n",
    "- Reemplazar las \",\" por los '.'\n",
    "- Si aparece el nombre \"COSTO CERO\" o \"SIN COSTO\", colocar el valor cero\n",
    "- Si no es ni costo cero ni sin soto, reemplazar por el valor null"
   ]
  },
  {
   "cell_type": "code",
   "execution_count": 36,
   "metadata": {},
   "outputs": [
    {
     "data": {
      "text/html": [
       "<div><style>\n",
       ".dataframe > thead > tr,\n",
       ".dataframe > tbody > tr {\n",
       "  text-align: right;\n",
       "  white-space: pre-wrap;\n",
       "}\n",
       "</style>\n",
       "<small>shape: (12_604, 2)</small><table border=\"1\" class=\"dataframe\"><thead><tr><th>Costo Atencion</th><th>Costo2</th></tr><tr><td>str</td><td>str</td></tr></thead><tbody><tr><td>null</td><td>null</td></tr><tr><td>&quot;100&quot;</td><td>&quot;100&quot;</td></tr><tr><td>&quot;100&quot;</td><td>&quot;100&quot;</td></tr><tr><td>&quot;100&quot;</td><td>&quot;100&quot;</td></tr><tr><td>&quot;100&quot;</td><td>&quot;100&quot;</td></tr><tr><td>&hellip;</td><td>&hellip;</td></tr><tr><td>null</td><td>null</td></tr><tr><td>null</td><td>null</td></tr><tr><td>null</td><td>null</td></tr><tr><td>null</td><td>null</td></tr><tr><td>null</td><td>null</td></tr></tbody></table></div>"
      ],
      "text/plain": [
       "shape: (12_604, 2)\n",
       "┌────────────────┬────────┐\n",
       "│ Costo Atencion ┆ Costo2 │\n",
       "│ ---            ┆ ---    │\n",
       "│ str            ┆ str    │\n",
       "╞════════════════╪════════╡\n",
       "│ null           ┆ null   │\n",
       "│ 100            ┆ 100    │\n",
       "│ 100            ┆ 100    │\n",
       "│ 100            ┆ 100    │\n",
       "│ 100            ┆ 100    │\n",
       "│ …              ┆ …      │\n",
       "│ null           ┆ null   │\n",
       "│ null           ┆ null   │\n",
       "│ null           ┆ null   │\n",
       "│ null           ┆ null   │\n",
       "│ null           ┆ null   │\n",
       "└────────────────┴────────┘"
      ]
     },
     "execution_count": 36,
     "metadata": {},
     "output_type": "execute_result"
    }
   ],
   "source": [
    "# Codigo preliminar 1\n",
    "dataAtenciones.select(\n",
    "    pl.col('Costo Atencion'),\n",
    "    pl.col('Costo Atencion').str.replace(',', '.').alias('Costo2')\n",
    ")"
   ]
  },
  {
   "cell_type": "code",
   "execution_count": 37,
   "metadata": {},
   "outputs": [
    {
     "data": {
      "text/html": [
       "<div><style>\n",
       ".dataframe > thead > tr,\n",
       ".dataframe > tbody > tr {\n",
       "  text-align: right;\n",
       "  white-space: pre-wrap;\n",
       "}\n",
       "</style>\n",
       "<small>shape: (1, 2)</small><table border=\"1\" class=\"dataframe\"><thead><tr><th>Costo Atencion</th><th>Costo2</th></tr><tr><td>str</td><td>str</td></tr></thead><tbody><tr><td>&quot;2249,08&quot;</td><td>&quot;2249.08&quot;</td></tr></tbody></table></div>"
      ],
      "text/plain": [
       "shape: (1, 2)\n",
       "┌────────────────┬─────────┐\n",
       "│ Costo Atencion ┆ Costo2  │\n",
       "│ ---            ┆ ---     │\n",
       "│ str            ┆ str     │\n",
       "╞════════════════╪═════════╡\n",
       "│ 2249,08        ┆ 2249.08 │\n",
       "└────────────────┴─────────┘"
      ]
     },
     "execution_count": 37,
     "metadata": {},
     "output_type": "execute_result"
    }
   ],
   "source": [
    "# Codigo preliminar 2\n",
    "dataAtenciones.filter(\n",
    "    pl.col('Costo Atencion').str.contains(',')\n",
    ").select(\n",
    "    pl.col('Costo Atencion'),\n",
    "    pl.col('Costo Atencion').str.replace(',', '.').alias('Costo2')\n",
    ")"
   ]
  },
  {
   "cell_type": "code",
   "execution_count": 38,
   "metadata": {},
   "outputs": [
    {
     "data": {
      "text/html": [
       "<div><style>\n",
       ".dataframe > thead > tr,\n",
       ".dataframe > tbody > tr {\n",
       "  text-align: right;\n",
       "  white-space: pre-wrap;\n",
       "}\n",
       "</style>\n",
       "<small>shape: (12_574, 4)</small><table border=\"1\" class=\"dataframe\"><thead><tr><th>Numero Ticket</th><th>Tipo de Ticket</th><th>Proveedor</th><th>Costo2</th></tr><tr><td>str</td><td>str</td><td>str</td><td>str</td></tr></thead><tbody><tr><td>&quot;WO0000005002238&quot;</td><td>&quot;Variable&quot;</td><td>&quot;ACCENTURE&quot;</td><td>&quot;147.5&quot;</td></tr><tr><td>&quot;WO0000004264646&quot;</td><td>&quot;Variable&quot;</td><td>&quot;CIME COMERCIAL&quot;</td><td>null</td></tr><tr><td>&quot;WO0000004297387&quot;</td><td>&quot;Flat&quot;</td><td>&quot;ACCENTURE&quot;</td><td>null</td></tr><tr><td>&quot;WO0000005154004&quot;</td><td>&quot;Flat&quot;</td><td>&quot;ACCENTURE&quot;</td><td>null</td></tr><tr><td>&quot;WO0000004519918&quot;</td><td>&quot;Flat&quot;</td><td>&quot;ACCENTURE&quot;</td><td>null</td></tr><tr><td>&hellip;</td><td>&hellip;</td><td>&hellip;</td><td>&hellip;</td></tr><tr><td>&quot;WO0000005535945&quot;</td><td>&quot;Flat&quot;</td><td>&quot;ACCENTURE&quot;</td><td>&quot;252&quot;</td></tr><tr><td>&quot;WO0000005275739&quot;</td><td>&quot;Emergencia&quot;</td><td>&quot;PUNTO CONTROL AMBIENTAL&quot;</td><td>&quot;972.32&quot;</td></tr><tr><td>&quot;WO0000004775011&quot;</td><td>&quot;Variable&quot;</td><td>&quot;ACCENTURE&quot;</td><td>null</td></tr><tr><td>&quot;WO0000004806505&quot;</td><td>&quot;Flat&quot;</td><td>&quot;ACCENTURE&quot;</td><td>null</td></tr><tr><td>&quot;WO0000005209246&quot;</td><td>&quot;Variable&quot;</td><td>&quot;J&amp;M CONTRATISTAS&quot;</td><td>&quot;251.1&quot;</td></tr></tbody></table></div>"
      ],
      "text/plain": [
       "shape: (12_574, 4)\n",
       "┌─────────────────┬────────────────┬─────────────────────────┬────────┐\n",
       "│ Numero Ticket   ┆ Tipo de Ticket ┆ Proveedor               ┆ Costo2 │\n",
       "│ ---             ┆ ---            ┆ ---                     ┆ ---    │\n",
       "│ str             ┆ str            ┆ str                     ┆ str    │\n",
       "╞═════════════════╪════════════════╪═════════════════════════╪════════╡\n",
       "│ WO0000005002238 ┆ Variable       ┆ ACCENTURE               ┆ 147.5  │\n",
       "│ WO0000004264646 ┆ Variable       ┆ CIME COMERCIAL          ┆ null   │\n",
       "│ WO0000004297387 ┆ Flat           ┆ ACCENTURE               ┆ null   │\n",
       "│ WO0000005154004 ┆ Flat           ┆ ACCENTURE               ┆ null   │\n",
       "│ WO0000004519918 ┆ Flat           ┆ ACCENTURE               ┆ null   │\n",
       "│ …               ┆ …              ┆ …                       ┆ …      │\n",
       "│ WO0000005535945 ┆ Flat           ┆ ACCENTURE               ┆ 252    │\n",
       "│ WO0000005275739 ┆ Emergencia     ┆ PUNTO CONTROL AMBIENTAL ┆ 972.32 │\n",
       "│ WO0000004775011 ┆ Variable       ┆ ACCENTURE               ┆ null   │\n",
       "│ WO0000004806505 ┆ Flat           ┆ ACCENTURE               ┆ null   │\n",
       "│ WO0000005209246 ┆ Variable       ┆ J&M CONTRATISTAS        ┆ 251.1  │\n",
       "└─────────────────┴────────────────┴─────────────────────────┴────────┘"
      ]
     },
     "execution_count": 38,
     "metadata": {},
     "output_type": "execute_result"
    }
   ],
   "source": [
    "# Codigo preliminar 3\n",
    "# Propiedad to_uppercase: asegurar que todo venga en mayuscula\n",
    "# Propiedad replace_many: reemplazar una lista de opciones con un valor\n",
    "# Propiedad strip_chars: es como un trim (izquierda y derecha)\n",
    "dataAtenciones.select(\n",
    "    pl.col(['Numero Ticket', 'Tipo de Ticket', 'Proveedor']),\n",
    "    pl.col('Costo Atencion').str.replace(',', '.')\n",
    "    .str.to_uppercase()\n",
    "    .str.strip_chars()\n",
    "    .str.replace_many(\n",
    "        [\"COSTO CERO\", \"SIN COSTO\"], \"0\"\n",
    "    ).alias(\"Costo2\")\n",
    ").unique()"
   ]
  },
  {
   "cell_type": "code",
   "execution_count": 39,
   "metadata": {},
   "outputs": [
    {
     "data": {
      "text/html": [
       "<div><style>\n",
       ".dataframe > thead > tr,\n",
       ".dataframe > tbody > tr {\n",
       "  text-align: right;\n",
       "  white-space: pre-wrap;\n",
       "}\n",
       "</style>\n",
       "<small>shape: (2, 2)</small><table border=\"1\" class=\"dataframe\"><thead><tr><th>Costo Atencion</th><th>Costo2</th></tr><tr><td>str</td><td>str</td></tr></thead><tbody><tr><td>&quot;COSTO CERO&quot;</td><td>&quot;0&quot;</td></tr><tr><td>&quot;2249,08&quot;</td><td>&quot;2249.08&quot;</td></tr></tbody></table></div>"
      ],
      "text/plain": [
       "shape: (2, 2)\n",
       "┌────────────────┬─────────┐\n",
       "│ Costo Atencion ┆ Costo2  │\n",
       "│ ---            ┆ ---     │\n",
       "│ str            ┆ str     │\n",
       "╞════════════════╪═════════╡\n",
       "│ COSTO CERO     ┆ 0       │\n",
       "│ 2249,08        ┆ 2249.08 │\n",
       "└────────────────┴─────────┘"
      ]
     },
     "execution_count": 39,
     "metadata": {},
     "output_type": "execute_result"
    }
   ],
   "source": [
    "# Codigo preliminar 4\n",
    "# Propiedad to_uppercase: asegurar que todo venga en mayuscula\n",
    "# Propiedad replace_many: reemplazar una lista de opciones con un valor\n",
    "# Propiedad strip_chars: es como un trim (izquierda y derecha)\n",
    "dataAtenciones.filter(\n",
    "    pl.col('Costo Atencion').str.contains(',') | (pl.col('Costo Atencion').is_in([\"COSTO CERO\", \"SIN COSTO\"]))\n",
    ").select(\n",
    "    pl.col('Costo Atencion'),\n",
    "    pl.col('Costo Atencion').str.replace(',', '.').str.to_uppercase().str.strip_chars().str.replace_many(\n",
    "        [\"COSTO CERO\", \"SIN COSTO\"], \"0\"\n",
    "    ).alias(\"Costo2\")\n",
    ").unique()"
   ]
  },
  {
   "cell_type": "code",
   "execution_count": 40,
   "metadata": {},
   "outputs": [
    {
     "data": {
      "text/html": [
       "<div><style>\n",
       ".dataframe > thead > tr,\n",
       ".dataframe > tbody > tr {\n",
       "  text-align: right;\n",
       "  white-space: pre-wrap;\n",
       "}\n",
       "</style>\n",
       "<small>shape: (27, 4)</small><table border=\"1\" class=\"dataframe\"><thead><tr><th>Numero Ticket</th><th>Tipo de Ticket</th><th>Proveedor</th><th>Costo Atencion</th></tr><tr><td>str</td><td>str</td><td>str</td><td>str</td></tr></thead><tbody><tr><td>&quot;WO0000005204817&quot;</td><td>&quot;Emergencia&quot;</td><td>&quot;PUNTO CONTROL AMBIENTAL&quot;</td><td>&quot;2249.08&quot;</td></tr><tr><td>&quot;WO0000004872502&quot;</td><td>&quot;Variable&quot;</td><td>&quot;PUNTO CONTROL AMBIENTAL&quot;</td><td>&quot;0&quot;</td></tr><tr><td>&quot;WO0000004896568&quot;</td><td>&quot;Variable&quot;</td><td>&quot;COORPORACION R&amp;M&quot;</td><td>&quot;0&quot;</td></tr><tr><td>&quot;WO0000004900368&quot;</td><td>&quot;Variable&quot;</td><td>&quot;COORPORACION R&amp;M&quot;</td><td>&quot;0&quot;</td></tr><tr><td>&quot;WO0000004902886&quot;</td><td>&quot;Variable&quot;</td><td>&quot;COORPORACION R&amp;M&quot;</td><td>&quot;0&quot;</td></tr><tr><td>&hellip;</td><td>&hellip;</td><td>&hellip;</td><td>&hellip;</td></tr><tr><td>&quot;WO0000005546870&quot;</td><td>&quot;Variable&quot;</td><td>&quot;JGM IMPORT&quot;</td><td>&quot;0&quot;</td></tr><tr><td>&quot;WO0000005586527&quot;</td><td>&quot;Flat&quot;</td><td>&quot;EXTINTORES G&amp;S&quot;</td><td>&quot;0&quot;</td></tr><tr><td>&quot;WO0000005683861&quot;</td><td>&quot;Variable&quot;</td><td>&quot;LIMTEK&quot;</td><td>&quot;0&quot;</td></tr><tr><td>&quot;WO0000005701771&quot;</td><td>&quot;Variable&quot;</td><td>&quot;COORPORACION R&amp;M&quot;</td><td>&quot;0&quot;</td></tr><tr><td>&quot;WO0000005716269&quot;</td><td>&quot;Variable&quot;</td><td>&quot;LIMTEK&quot;</td><td>&quot;0&quot;</td></tr></tbody></table></div>"
      ],
      "text/plain": [
       "shape: (27, 4)\n",
       "┌─────────────────┬────────────────┬─────────────────────────┬────────────────┐\n",
       "│ Numero Ticket   ┆ Tipo de Ticket ┆ Proveedor               ┆ Costo Atencion │\n",
       "│ ---             ┆ ---            ┆ ---                     ┆ ---            │\n",
       "│ str             ┆ str            ┆ str                     ┆ str            │\n",
       "╞═════════════════╪════════════════╪═════════════════════════╪════════════════╡\n",
       "│ WO0000005204817 ┆ Emergencia     ┆ PUNTO CONTROL AMBIENTAL ┆ 2249.08        │\n",
       "│ WO0000004872502 ┆ Variable       ┆ PUNTO CONTROL AMBIENTAL ┆ 0              │\n",
       "│ WO0000004896568 ┆ Variable       ┆ COORPORACION R&M        ┆ 0              │\n",
       "│ WO0000004900368 ┆ Variable       ┆ COORPORACION R&M        ┆ 0              │\n",
       "│ WO0000004902886 ┆ Variable       ┆ COORPORACION R&M        ┆ 0              │\n",
       "│ …               ┆ …              ┆ …                       ┆ …              │\n",
       "│ WO0000005546870 ┆ Variable       ┆ JGM IMPORT              ┆ 0              │\n",
       "│ WO0000005586527 ┆ Flat           ┆ EXTINTORES G&S          ┆ 0              │\n",
       "│ WO0000005683861 ┆ Variable       ┆ LIMTEK                  ┆ 0              │\n",
       "│ WO0000005701771 ┆ Variable       ┆ COORPORACION R&M        ┆ 0              │\n",
       "│ WO0000005716269 ┆ Variable       ┆ LIMTEK                  ┆ 0              │\n",
       "└─────────────────┴────────────────┴─────────────────────────┴────────────────┘"
      ]
     },
     "execution_count": 40,
     "metadata": {},
     "output_type": "execute_result"
    }
   ],
   "source": [
    "# Codigo preliminar 5\n",
    "# Propiedad to_uppercase: asegurar que todo venga en mayuscula\n",
    "# Propiedad replace_many: reemplazar una lista de opciones con un valor\n",
    "# Propiedad strip_chars: es como un trim (izquierda y derecha)\n",
    "dataAtenciones.filter(\n",
    "    pl.col('Costo Atencion').str.contains(',') | (pl.col('Costo Atencion').is_in([\"COSTO CERO\", \"SIN COSTO\"]))\n",
    ").select(\n",
    "    pl.col(['Numero Ticket', 'Tipo de Ticket', 'Proveedor']),\n",
    "    pl.col('Costo Atencion').str.replace(',', '.').str.to_uppercase().str.strip_chars().str.replace_many(\n",
    "        [\"COSTO CERO\", \"SIN COSTO\"], \"0\"\n",
    "    ).alias(\"Costo Atencion\")\n",
    ")"
   ]
  },
  {
   "cell_type": "code",
   "execution_count": 41,
   "metadata": {},
   "outputs": [
    {
     "data": {
      "text/html": [
       "<div><style>\n",
       ".dataframe > thead > tr,\n",
       ".dataframe > tbody > tr {\n",
       "  text-align: right;\n",
       "  white-space: pre-wrap;\n",
       "}\n",
       "</style>\n",
       "<small>shape: (5, 4)</small><table border=\"1\" class=\"dataframe\"><thead><tr><th>Numero Ticket</th><th>Tipo de Ticket</th><th>Proveedor</th><th>Costo Atencion</th></tr><tr><td>str</td><td>str</td><td>str</td><td>str</td></tr></thead><tbody><tr><td>&quot;WO0000005584689&quot;</td><td>&quot;Variable&quot;</td><td>&quot;MR EXPRESS&quot;</td><td>null</td></tr><tr><td>&quot;WO0000004544943&quot;</td><td>&quot;Rechazado&quot;</td><td>null</td><td>&quot;100&quot;</td></tr><tr><td>&quot;WO0000004545246&quot;</td><td>&quot;Rechazado&quot;</td><td>null</td><td>&quot;100&quot;</td></tr><tr><td>&quot;WO0000004559125&quot;</td><td>&quot;Rechazado&quot;</td><td>null</td><td>&quot;100&quot;</td></tr><tr><td>&quot;WO0000004707477&quot;</td><td>&quot;Rechazado&quot;</td><td>null</td><td>&quot;100&quot;</td></tr></tbody></table></div>"
      ],
      "text/plain": [
       "shape: (5, 4)\n",
       "┌─────────────────┬────────────────┬────────────┬────────────────┐\n",
       "│ Numero Ticket   ┆ Tipo de Ticket ┆ Proveedor  ┆ Costo Atencion │\n",
       "│ ---             ┆ ---            ┆ ---        ┆ ---            │\n",
       "│ str             ┆ str            ┆ str        ┆ str            │\n",
       "╞═════════════════╪════════════════╪════════════╪════════════════╡\n",
       "│ WO0000005584689 ┆ Variable       ┆ MR EXPRESS ┆ null           │\n",
       "│ WO0000004544943 ┆ Rechazado      ┆ null       ┆ 100            │\n",
       "│ WO0000004545246 ┆ Rechazado      ┆ null       ┆ 100            │\n",
       "│ WO0000004559125 ┆ Rechazado      ┆ null       ┆ 100            │\n",
       "│ WO0000004707477 ┆ Rechazado      ┆ null       ┆ 100            │\n",
       "└─────────────────┴────────────────┴────────────┴────────────────┘"
      ]
     },
     "execution_count": 41,
     "metadata": {},
     "output_type": "execute_result"
    }
   ],
   "source": [
    "# Preliminar 6 - Fina: Llenamos dataAtenciones con el select y conversiones\n",
    "dataAtenciones = dataAtenciones.select(\n",
    "    pl.col(['Numero Ticket', 'Tipo de Ticket', 'Proveedor']),\n",
    "    pl.col('Costo Atencion').str.replace(',', '.')\n",
    "    .str.to_uppercase()\n",
    "    .str.strip_chars()\n",
    "    .str.replace_many(\n",
    "        [\"COSTO CERO\", \"SIN COSTO\"], \"0\"\n",
    "    ).alias(\"Costo Atencion\")\n",
    ")\n",
    "dataAtenciones.head()"
   ]
  },
  {
   "cell_type": "markdown",
   "metadata": {},
   "source": [
    "#### Crear funcion personalizada para convertir el valor de Costo Atencion a decimal (usamos map_elements para llamar a una funcion)"
   ]
  },
  {
   "cell_type": "code",
   "execution_count": 42,
   "metadata": {},
   "outputs": [],
   "source": [
    "def texto_a_decimal(valor:str):\n",
    "    try:\n",
    "        return float(valor)\n",
    "    except:\n",
    "        return None"
   ]
  },
  {
   "cell_type": "code",
   "execution_count": 43,
   "metadata": {},
   "outputs": [
    {
     "name": "stderr",
     "output_type": "stream",
     "text": [
      "C:\\Users\\Dayan\\AppData\\Local\\Temp\\ipykernel_4120\\1825472670.py:3: MapWithoutReturnDtypeWarning: Calling `map_elements` without specifying `return_dtype` can lead to unpredictable results. Specify `return_dtype` to silence this warning.\n",
      "  dataAtenciones.with_columns(\n"
     ]
    },
    {
     "data": {
      "text/html": [
       "<div><style>\n",
       ".dataframe > thead > tr,\n",
       ".dataframe > tbody > tr {\n",
       "  text-align: right;\n",
       "  white-space: pre-wrap;\n",
       "}\n",
       "</style>\n",
       "<small>shape: (12_604, 5)</small><table border=\"1\" class=\"dataframe\"><thead><tr><th>Numero Ticket</th><th>Tipo de Ticket</th><th>Proveedor</th><th>Costo Atencion</th><th>Costo</th></tr><tr><td>str</td><td>str</td><td>str</td><td>str</td><td>f64</td></tr></thead><tbody><tr><td>&quot;WO0000005584689&quot;</td><td>&quot;Variable&quot;</td><td>&quot;MR EXPRESS&quot;</td><td>null</td><td>null</td></tr><tr><td>&quot;WO0000004544943&quot;</td><td>&quot;Rechazado&quot;</td><td>null</td><td>&quot;100&quot;</td><td>100.0</td></tr><tr><td>&quot;WO0000004545246&quot;</td><td>&quot;Rechazado&quot;</td><td>null</td><td>&quot;100&quot;</td><td>100.0</td></tr><tr><td>&quot;WO0000004559125&quot;</td><td>&quot;Rechazado&quot;</td><td>null</td><td>&quot;100&quot;</td><td>100.0</td></tr><tr><td>&quot;WO0000004707477&quot;</td><td>&quot;Rechazado&quot;</td><td>null</td><td>&quot;100&quot;</td><td>100.0</td></tr><tr><td>&hellip;</td><td>&hellip;</td><td>&hellip;</td><td>&hellip;</td><td>&hellip;</td></tr><tr><td>&quot;WO0000005737893&quot;</td><td>&quot;Variable&quot;</td><td>&quot;ACCENTURE&quot;</td><td>null</td><td>null</td></tr><tr><td>&quot;WO0000005738706&quot;</td><td>&quot;Variable&quot;</td><td>&quot;ACCENTURE&quot;</td><td>null</td><td>null</td></tr><tr><td>&quot;WO0000005738709&quot;</td><td>&quot;Variable&quot;</td><td>&quot;COORPORACION R&amp;M&quot;</td><td>null</td><td>null</td></tr><tr><td>&quot;WO0000005738726&quot;</td><td>&quot;Variable&quot;</td><td>&quot;ACCENTURE&quot;</td><td>null</td><td>null</td></tr><tr><td>&quot;WO0000005738729&quot;</td><td>&quot;Variable&quot;</td><td>&quot;ACCENTURE&quot;</td><td>null</td><td>null</td></tr></tbody></table></div>"
      ],
      "text/plain": [
       "shape: (12_604, 5)\n",
       "┌─────────────────┬────────────────┬──────────────────┬────────────────┬───────┐\n",
       "│ Numero Ticket   ┆ Tipo de Ticket ┆ Proveedor        ┆ Costo Atencion ┆ Costo │\n",
       "│ ---             ┆ ---            ┆ ---              ┆ ---            ┆ ---   │\n",
       "│ str             ┆ str            ┆ str              ┆ str            ┆ f64   │\n",
       "╞═════════════════╪════════════════╪══════════════════╪════════════════╪═══════╡\n",
       "│ WO0000005584689 ┆ Variable       ┆ MR EXPRESS       ┆ null           ┆ null  │\n",
       "│ WO0000004544943 ┆ Rechazado      ┆ null             ┆ 100            ┆ 100.0 │\n",
       "│ WO0000004545246 ┆ Rechazado      ┆ null             ┆ 100            ┆ 100.0 │\n",
       "│ WO0000004559125 ┆ Rechazado      ┆ null             ┆ 100            ┆ 100.0 │\n",
       "│ WO0000004707477 ┆ Rechazado      ┆ null             ┆ 100            ┆ 100.0 │\n",
       "│ …               ┆ …              ┆ …                ┆ …              ┆ …     │\n",
       "│ WO0000005737893 ┆ Variable       ┆ ACCENTURE        ┆ null           ┆ null  │\n",
       "│ WO0000005738706 ┆ Variable       ┆ ACCENTURE        ┆ null           ┆ null  │\n",
       "│ WO0000005738709 ┆ Variable       ┆ COORPORACION R&M ┆ null           ┆ null  │\n",
       "│ WO0000005738726 ┆ Variable       ┆ ACCENTURE        ┆ null           ┆ null  │\n",
       "│ WO0000005738729 ┆ Variable       ┆ ACCENTURE        ┆ null           ┆ null  │\n",
       "└─────────────────┴────────────────┴──────────────────┴────────────────┴───────┘"
      ]
     },
     "execution_count": 43,
     "metadata": {},
     "output_type": "execute_result"
    }
   ],
   "source": [
    "#convertir el valor de Costo Atencion a decimal\n",
    "# Propiedad: map_elements para aplicar una funcion a la columna (en este caso para convertir de texto a decimal)\n",
    "dataAtenciones.with_columns(\n",
    "    pl.col(\"Costo Atencion\").map_elements(texto_a_decimal).alias(\"Costo\")\n",
    ")"
   ]
  },
  {
   "cell_type": "markdown",
   "metadata": {},
   "source": [
    "#### Leer archivos que estan dentro de una carpeta. Importamos la libreria para leeer archvos dentro de una carpeta"
   ]
  },
  {
   "cell_type": "code",
   "execution_count": 44,
   "metadata": {},
   "outputs": [],
   "source": [
    "from pathlib import Path"
   ]
  },
  {
   "cell_type": "code",
   "execution_count": 45,
   "metadata": {},
   "outputs": [
    {
     "data": {
      "text/plain": [
       "WindowsPath('Atenciones')"
      ]
     },
     "execution_count": 45,
     "metadata": {},
     "output_type": "execute_result"
    }
   ],
   "source": [
    "rutaCarpeta = Path('./Atenciones/')\n",
    "rutaCarpeta"
   ]
  },
  {
   "cell_type": "code",
   "execution_count": 46,
   "metadata": {},
   "outputs": [
    {
     "data": {
      "text/plain": [
       "<generator object Path.glob at 0x00000173158AA130>"
      ]
     },
     "execution_count": 46,
     "metadata": {},
     "output_type": "execute_result"
    }
   ],
   "source": [
    "#regix o expresiones regulares (glob, etc.)\n",
    "# El *. es como un % en like\n",
    "# Un generador devuelve una lista\n",
    "rutaCarpeta.glob('*.xlsx')"
   ]
  },
  {
   "cell_type": "code",
   "execution_count": 47,
   "metadata": {},
   "outputs": [
    {
     "data": {
      "text/plain": [
       "[WindowsPath('Atenciones/Atenciones Centro.xlsx'),\n",
       " WindowsPath('Atenciones/Atenciones Norte.xlsx'),\n",
       " WindowsPath('Atenciones/Atenciones Sur.xlsx')]"
      ]
     },
     "execution_count": 47,
     "metadata": {},
     "output_type": "execute_result"
    }
   ],
   "source": [
    "# El *. es como un % en like\n",
    "list(rutaCarpeta.glob('*.xlsx'))"
   ]
  },
  {
   "cell_type": "code",
   "execution_count": 49,
   "metadata": {},
   "outputs": [
    {
     "name": "stdout",
     "output_type": "stream",
     "text": [
      "Atenciones\\Atenciones Centro.xlsx\n",
      "<class 'pathlib.WindowsPath'>\n",
      "Atenciones\\Atenciones Norte.xlsx\n",
      "<class 'pathlib.WindowsPath'>\n",
      "Atenciones\\Atenciones Sur.xlsx\n",
      "<class 'pathlib.WindowsPath'>\n"
     ]
    }
   ],
   "source": [
    "# El *. es como un % en like\n",
    "archivos = list(rutaCarpeta.glob('*.xlsx'))\n",
    "# Iterando una lista\n",
    "for archivo in archivos:\n",
    "    print(archivo)          #ruta de archivos\n",
    "    print(type(archivo))    # tipo de archivo"
   ]
  },
  {
   "cell_type": "code",
   "execution_count": 51,
   "metadata": {},
   "outputs": [
    {
     "name": "stdout",
     "output_type": "stream",
     "text": [
      "Atenciones\\Atenciones Centro.xlsx\n",
      "<class 'str'>\n",
      "Atenciones\\Atenciones Norte.xlsx\n",
      "<class 'str'>\n",
      "Atenciones\\Atenciones Sur.xlsx\n",
      "<class 'str'>\n"
     ]
    }
   ],
   "source": [
    "# Iterando una lista - convirtiendo a string la lista de archivos\n",
    "for archivo in archivos:\n",
    "    print(str(archivo))     #ruta de archivos\n",
    "    print(type(str(archivo)))    # tipo de archivo"
   ]
  },
  {
   "cell_type": "code",
   "execution_count": 52,
   "metadata": {},
   "outputs": [
    {
     "name": "stdout",
     "output_type": "stream",
     "text": [
      "Atenciones Centro.xlsx\n",
      "Atenciones Norte.xlsx\n",
      "Atenciones Sur.xlsx\n"
     ]
    }
   ],
   "source": [
    "# Iterando una lista y usando split - primera opcion\n",
    "for archivo in archivos:\n",
    "    print(str(archivo).split('\\\\')[1])   "
   ]
  },
  {
   "cell_type": "code",
   "execution_count": 53,
   "metadata": {},
   "outputs": [
    {
     "name": "stdout",
     "output_type": "stream",
     "text": [
      "Atenciones Centro.xlsx\n",
      "Atenciones Norte.xlsx\n",
      "Atenciones Sur.xlsx\n"
     ]
    }
   ],
   "source": [
    "# Iterando una lista y usando split - segunda opcion\n",
    "for archivo in archivos:\n",
    "    print(archivo.name)    "
   ]
  },
  {
   "cell_type": "code",
   "execution_count": 54,
   "metadata": {},
   "outputs": [
    {
     "name": "stdout",
     "output_type": "stream",
     "text": [
      "./Atenciones/Atenciones Centro.xlsx\n",
      "./Atenciones/Atenciones Norte.xlsx\n",
      "./Atenciones/Atenciones Sur.xlsx\n"
     ]
    }
   ],
   "source": [
    "Atenciones = pl.DataFrame() # creando un dataframe vacio\n",
    "\n",
    "for archivo in archivos:\n",
    "    file = archivo.name\n",
    "    filepath = f'./Atenciones/{file}'    \n",
    "    print(filepath)"
   ]
  },
  {
   "cell_type": "code",
   "execution_count": 55,
   "metadata": {},
   "outputs": [],
   "source": [
    "# agregamso una nueva columna\n",
    "Atenciones = pl.DataFrame()\n",
    "\n",
    "for archivo in archivos:\n",
    "    file = archivo.name                 # nombre del archivo\n",
    "    filepath = f'./Atenciones/{file}'   # ruta el archivo\n",
    "\n",
    "    data = pl.read_excel(\n",
    "    source = filepath,\n",
    "    sheet_name = 'Hoja1',\n",
    "    engine = 'xlsx2csv',        #este motor pasa el excel en memoria a un csv (para que sea mas rapido y para usar la propiedad read_options que es propio del CSV)\n",
    "    read_options = {\n",
    "        'infer_schema_length':0, #no define el tipo de datos, todos seran string, luego nosotros podemos tranmsformarlos. si le ponemos none se van escanear todos los datos (el proceso es lento)\n",
    "        'columns':['Numero Ticket', 'Tipo de Ticket', 'Proveedor', 'Costo Atencion']\n",
    "    })\n",
    "    data = data.with_columns(pl.lit(file).alias('Nombre_Archivo'))\n",
    "    #Agregar el archivo a \"Atenciones\", va uniendo\n",
    "    Atenciones = pl.concat([Atenciones, data], how='vertical')"
   ]
  },
  {
   "cell_type": "code",
   "execution_count": 56,
   "metadata": {},
   "outputs": [
    {
     "data": {
      "text/html": [
       "<div><style>\n",
       ".dataframe > thead > tr,\n",
       ".dataframe > tbody > tr {\n",
       "  text-align: right;\n",
       "  white-space: pre-wrap;\n",
       "}\n",
       "</style>\n",
       "<small>shape: (5, 5)</small><table border=\"1\" class=\"dataframe\"><thead><tr><th>Numero Ticket</th><th>Tipo de Ticket</th><th>Proveedor</th><th>Costo Atencion</th><th>Nombre_Archivo</th></tr><tr><td>str</td><td>str</td><td>str</td><td>str</td><td>str</td></tr></thead><tbody><tr><td>&quot;WO0000005584689&quot;</td><td>&quot;Variable&quot;</td><td>&quot;MR EXPRESS&quot;</td><td>null</td><td>&quot;Atenciones Centro.xlsx&quot;</td></tr><tr><td>&quot;WO0000004544943&quot;</td><td>&quot;Rechazado&quot;</td><td>null</td><td>&quot;100&quot;</td><td>&quot;Atenciones Centro.xlsx&quot;</td></tr><tr><td>&quot;WO0000004545246&quot;</td><td>&quot;Rechazado&quot;</td><td>null</td><td>&quot;100&quot;</td><td>&quot;Atenciones Centro.xlsx&quot;</td></tr><tr><td>&quot;WO0000004559125&quot;</td><td>&quot;Rechazado&quot;</td><td>null</td><td>&quot;100&quot;</td><td>&quot;Atenciones Centro.xlsx&quot;</td></tr><tr><td>&quot;WO0000004707477&quot;</td><td>&quot;Rechazado&quot;</td><td>null</td><td>&quot;100&quot;</td><td>&quot;Atenciones Centro.xlsx&quot;</td></tr></tbody></table></div>"
      ],
      "text/plain": [
       "shape: (5, 5)\n",
       "┌─────────────────┬────────────────┬────────────┬────────────────┬────────────────────────┐\n",
       "│ Numero Ticket   ┆ Tipo de Ticket ┆ Proveedor  ┆ Costo Atencion ┆ Nombre_Archivo         │\n",
       "│ ---             ┆ ---            ┆ ---        ┆ ---            ┆ ---                    │\n",
       "│ str             ┆ str            ┆ str        ┆ str            ┆ str                    │\n",
       "╞═════════════════╪════════════════╪════════════╪════════════════╪════════════════════════╡\n",
       "│ WO0000005584689 ┆ Variable       ┆ MR EXPRESS ┆ null           ┆ Atenciones Centro.xlsx │\n",
       "│ WO0000004544943 ┆ Rechazado      ┆ null       ┆ 100            ┆ Atenciones Centro.xlsx │\n",
       "│ WO0000004545246 ┆ Rechazado      ┆ null       ┆ 100            ┆ Atenciones Centro.xlsx │\n",
       "│ WO0000004559125 ┆ Rechazado      ┆ null       ┆ 100            ┆ Atenciones Centro.xlsx │\n",
       "│ WO0000004707477 ┆ Rechazado      ┆ null       ┆ 100            ┆ Atenciones Centro.xlsx │\n",
       "└─────────────────┴────────────────┴────────────┴────────────────┴────────────────────────┘"
      ]
     },
     "execution_count": 56,
     "metadata": {},
     "output_type": "execute_result"
    }
   ],
   "source": [
    "Atenciones.head()"
   ]
  },
  {
   "cell_type": "code",
   "execution_count": 57,
   "metadata": {},
   "outputs": [
    {
     "data": {
      "text/html": [
       "<div><style>\n",
       ".dataframe > thead > tr,\n",
       ".dataframe > tbody > tr {\n",
       "  text-align: right;\n",
       "  white-space: pre-wrap;\n",
       "}\n",
       "</style>\n",
       "<small>shape: (3, 5)</small><table border=\"1\" class=\"dataframe\"><thead><tr><th>Numero Ticket</th><th>Tipo de Ticket</th><th>Proveedor</th><th>Costo Atencion</th><th>Nombre_Archivo</th></tr><tr><td>str</td><td>str</td><td>str</td><td>str</td><td>str</td></tr></thead><tbody><tr><td>&quot;WO0000004122302&quot;</td><td>&quot;Flat&quot;</td><td>&quot;ACCENTURE&quot;</td><td>null</td><td>&quot;Atenciones Norte.xlsx&quot;</td></tr><tr><td>&quot;WO0000004149361&quot;</td><td>&quot;Rechazado&quot;</td><td>null</td><td>null</td><td>&quot;Atenciones Sur.xlsx&quot;</td></tr><tr><td>&quot;WO0000005584689&quot;</td><td>&quot;Variable&quot;</td><td>&quot;MR EXPRESS&quot;</td><td>null</td><td>&quot;Atenciones Centro.xlsx&quot;</td></tr></tbody></table></div>"
      ],
      "text/plain": [
       "shape: (3, 5)\n",
       "┌─────────────────┬────────────────┬────────────┬────────────────┬────────────────────────┐\n",
       "│ Numero Ticket   ┆ Tipo de Ticket ┆ Proveedor  ┆ Costo Atencion ┆ Nombre_Archivo         │\n",
       "│ ---             ┆ ---            ┆ ---        ┆ ---            ┆ ---                    │\n",
       "│ str             ┆ str            ┆ str        ┆ str            ┆ str                    │\n",
       "╞═════════════════╪════════════════╪════════════╪════════════════╪════════════════════════╡\n",
       "│ WO0000004122302 ┆ Flat           ┆ ACCENTURE  ┆ null           ┆ Atenciones Norte.xlsx  │\n",
       "│ WO0000004149361 ┆ Rechazado      ┆ null       ┆ null           ┆ Atenciones Sur.xlsx    │\n",
       "│ WO0000005584689 ┆ Variable       ┆ MR EXPRESS ┆ null           ┆ Atenciones Centro.xlsx │\n",
       "└─────────────────┴────────────────┴────────────┴────────────────┴────────────────────────┘"
      ]
     },
     "execution_count": 57,
     "metadata": {},
     "output_type": "execute_result"
    }
   ],
   "source": [
    "# Listar los diferentes nombres de archivos unidos\n",
    "Atenciones.unique(['Nombre_Archivo'])"
   ]
  },
  {
   "cell_type": "code",
   "execution_count": 59,
   "metadata": {},
   "outputs": [
    {
     "data": {
      "text/html": [
       "<div><style>\n",
       ".dataframe > thead > tr,\n",
       ".dataframe > tbody > tr {\n",
       "  text-align: right;\n",
       "  white-space: pre-wrap;\n",
       "}\n",
       "</style>\n",
       "<small>shape: (200, 5)</small><table border=\"1\" class=\"dataframe\"><thead><tr><th>Numero Ticket</th><th>Tipo de Ticket</th><th>Proveedor</th><th>Costo Atencion</th><th>Nombre_Archivo</th></tr><tr><td>str</td><td>str</td><td>str</td><td>str</td><td>str</td></tr></thead><tbody><tr><td>&quot;WO0000005584689&quot;</td><td>&quot;Variable&quot;</td><td>&quot;MR EXPRESS&quot;</td><td>null</td><td>&quot;Atenciones Centro.xlsx&quot;</td></tr><tr><td>&quot;WO0000004544943&quot;</td><td>&quot;Rechazado&quot;</td><td>null</td><td>&quot;100&quot;</td><td>&quot;Atenciones Centro.xlsx&quot;</td></tr><tr><td>&quot;WO0000004545246&quot;</td><td>&quot;Rechazado&quot;</td><td>null</td><td>&quot;100&quot;</td><td>&quot;Atenciones Centro.xlsx&quot;</td></tr><tr><td>&quot;WO0000004559125&quot;</td><td>&quot;Rechazado&quot;</td><td>null</td><td>&quot;100&quot;</td><td>&quot;Atenciones Centro.xlsx&quot;</td></tr><tr><td>&quot;WO0000004707477&quot;</td><td>&quot;Rechazado&quot;</td><td>null</td><td>&quot;100&quot;</td><td>&quot;Atenciones Centro.xlsx&quot;</td></tr><tr><td>&hellip;</td><td>&hellip;</td><td>&hellip;</td><td>&hellip;</td><td>&hellip;</td></tr><tr><td>&quot;WO0000004990083&quot;</td><td>&quot;Variable&quot;</td><td>&quot;COORPORACION R&amp;M&quot;</td><td>&quot;1160.67&quot;</td><td>&quot;Atenciones Centro.xlsx&quot;</td></tr><tr><td>&quot;WO0000004946764&quot;</td><td>&quot;Variable&quot;</td><td>&quot;COORPORACION R&amp;M&quot;</td><td>&quot;1161.71&quot;</td><td>&quot;Atenciones Centro.xlsx&quot;</td></tr><tr><td>&quot;WO0000004799562&quot;</td><td>&quot;Rechazado&quot;</td><td>null</td><td>&quot;1169&quot;</td><td>&quot;Atenciones Centro.xlsx&quot;</td></tr><tr><td>&quot;WO0000004869545&quot;</td><td>&quot;Variable&quot;</td><td>&quot;GOICOCHEA MADILEYDY&quot;</td><td>&quot;118&quot;</td><td>&quot;Atenciones Centro.xlsx&quot;</td></tr><tr><td>&quot;WO0000004938587&quot;</td><td>&quot;Variable&quot;</td><td>&quot;MR EXPRESS&quot;</td><td>&quot;118&quot;</td><td>&quot;Atenciones Centro.xlsx&quot;</td></tr></tbody></table></div>"
      ],
      "text/plain": [
       "shape: (200, 5)\n",
       "┌─────────────────┬────────────────┬─────────────────────┬────────────────┬────────────────────────┐\n",
       "│ Numero Ticket   ┆ Tipo de Ticket ┆ Proveedor           ┆ Costo Atencion ┆ Nombre_Archivo         │\n",
       "│ ---             ┆ ---            ┆ ---                 ┆ ---            ┆ ---                    │\n",
       "│ str             ┆ str            ┆ str                 ┆ str            ┆ str                    │\n",
       "╞═════════════════╪════════════════╪═════════════════════╪════════════════╪════════════════════════╡\n",
       "│ WO0000005584689 ┆ Variable       ┆ MR EXPRESS          ┆ null           ┆ Atenciones Centro.xlsx │\n",
       "│ WO0000004544943 ┆ Rechazado      ┆ null                ┆ 100            ┆ Atenciones Centro.xlsx │\n",
       "│ WO0000004545246 ┆ Rechazado      ┆ null                ┆ 100            ┆ Atenciones Centro.xlsx │\n",
       "│ WO0000004559125 ┆ Rechazado      ┆ null                ┆ 100            ┆ Atenciones Centro.xlsx │\n",
       "│ WO0000004707477 ┆ Rechazado      ┆ null                ┆ 100            ┆ Atenciones Centro.xlsx │\n",
       "│ …               ┆ …              ┆ …                   ┆ …              ┆ …                      │\n",
       "│ WO0000004990083 ┆ Variable       ┆ COORPORACION R&M    ┆ 1160.67        ┆ Atenciones Centro.xlsx │\n",
       "│ WO0000004946764 ┆ Variable       ┆ COORPORACION R&M    ┆ 1161.71        ┆ Atenciones Centro.xlsx │\n",
       "│ WO0000004799562 ┆ Rechazado      ┆ null                ┆ 1169           ┆ Atenciones Centro.xlsx │\n",
       "│ WO0000004869545 ┆ Variable       ┆ GOICOCHEA MADILEYDY ┆ 118            ┆ Atenciones Centro.xlsx │\n",
       "│ WO0000004938587 ┆ Variable       ┆ MR EXPRESS          ┆ 118            ┆ Atenciones Centro.xlsx │\n",
       "└─────────────────┴────────────────┴─────────────────────┴────────────────┴────────────────────────┘"
      ]
     },
     "execution_count": 59,
     "metadata": {},
     "output_type": "execute_result"
    }
   ],
   "source": [
    "Atenciones.head(200)"
   ]
  },
  {
   "cell_type": "markdown",
   "metadata": {},
   "source": [
    "#### Transformando la Base Atenciones"
   ]
  },
  {
   "cell_type": "code",
   "execution_count": 60,
   "metadata": {},
   "outputs": [
    {
     "data": {
      "text/html": [
       "<div><style>\n",
       ".dataframe > thead > tr,\n",
       ".dataframe > tbody > tr {\n",
       "  text-align: right;\n",
       "  white-space: pre-wrap;\n",
       "}\n",
       "</style>\n",
       "<small>shape: (5, 4)</small><table border=\"1\" class=\"dataframe\"><thead><tr><th>Numero Ticket</th><th>Tipo de Ticket</th><th>Proveedor</th><th>Costo Atencion</th></tr><tr><td>str</td><td>str</td><td>str</td><td>str</td></tr></thead><tbody><tr><td>&quot;WO0000005584689&quot;</td><td>&quot;Variable&quot;</td><td>&quot;MR EXPRESS&quot;</td><td>null</td></tr><tr><td>&quot;WO0000004544943&quot;</td><td>&quot;Rechazado&quot;</td><td>null</td><td>&quot;100&quot;</td></tr><tr><td>&quot;WO0000004545246&quot;</td><td>&quot;Rechazado&quot;</td><td>null</td><td>&quot;100&quot;</td></tr><tr><td>&quot;WO0000004559125&quot;</td><td>&quot;Rechazado&quot;</td><td>null</td><td>&quot;100&quot;</td></tr><tr><td>&quot;WO0000004707477&quot;</td><td>&quot;Rechazado&quot;</td><td>null</td><td>&quot;100&quot;</td></tr></tbody></table></div>"
      ],
      "text/plain": [
       "shape: (5, 4)\n",
       "┌─────────────────┬────────────────┬────────────┬────────────────┐\n",
       "│ Numero Ticket   ┆ Tipo de Ticket ┆ Proveedor  ┆ Costo Atencion │\n",
       "│ ---             ┆ ---            ┆ ---        ┆ ---            │\n",
       "│ str             ┆ str            ┆ str        ┆ str            │\n",
       "╞═════════════════╪════════════════╪════════════╪════════════════╡\n",
       "│ WO0000005584689 ┆ Variable       ┆ MR EXPRESS ┆ null           │\n",
       "│ WO0000004544943 ┆ Rechazado      ┆ null       ┆ 100            │\n",
       "│ WO0000004545246 ┆ Rechazado      ┆ null       ┆ 100            │\n",
       "│ WO0000004559125 ┆ Rechazado      ┆ null       ┆ 100            │\n",
       "│ WO0000004707477 ┆ Rechazado      ┆ null       ┆ 100            │\n",
       "└─────────────────┴────────────────┴────────────┴────────────────┘"
      ]
     },
     "execution_count": 60,
     "metadata": {},
     "output_type": "execute_result"
    }
   ],
   "source": [
    "#Transformando la Base Atenciones\n",
    "Atenciones = Atenciones.select(\n",
    "    pl.col(['Numero Ticket', 'Tipo de Ticket', 'Proveedor']),\n",
    "    pl.col('Costo Atencion').str.replace(',', '.')\n",
    "    .str.to_uppercase()\n",
    "    .str.strip_chars()\n",
    "    .str.replace_many(\n",
    "        [\"COSTO CERO\", \"SIN COSTO\"], \"0\"\n",
    "    ).alias(\"Costo Atencion\")\n",
    ")\n",
    "Atenciones.head()"
   ]
  },
  {
   "cell_type": "markdown",
   "metadata": {},
   "source": [
    "##### Funcion Personalizada para convertir tipo de dato de una columna"
   ]
  },
  {
   "cell_type": "code",
   "execution_count": 61,
   "metadata": {},
   "outputs": [],
   "source": [
    "def texto_a_decimal(valor:str):\n",
    "    try:\n",
    "        return float(valor)\n",
    "    except:\n",
    "        return None"
   ]
  },
  {
   "cell_type": "code",
   "execution_count": 62,
   "metadata": {},
   "outputs": [
    {
     "name": "stderr",
     "output_type": "stream",
     "text": [
      "C:\\Users\\Dayan\\AppData\\Local\\Temp\\ipykernel_4120\\2141140852.py:3: MapWithoutReturnDtypeWarning: Calling `map_elements` without specifying `return_dtype` can lead to unpredictable results. Specify `return_dtype` to silence this warning.\n",
      "  Atenciones = Atenciones.with_columns(\n"
     ]
    }
   ],
   "source": [
    "#convertir el valor de Costo Atencion a decimal\n",
    "# Propiedad: map_elements para aplicar una funcion a la columna (en este caso para convertir de texto a decimal)\n",
    "Atenciones = Atenciones.with_columns(\n",
    "    pl.col(\"Costo Atencion\").map_elements(texto_a_decimal).alias(\"Costo Atencion\")\n",
    ")"
   ]
  },
  {
   "cell_type": "code",
   "execution_count": 63,
   "metadata": {},
   "outputs": [
    {
     "data": {
      "text/html": [
       "<div><style>\n",
       ".dataframe > thead > tr,\n",
       ".dataframe > tbody > tr {\n",
       "  text-align: right;\n",
       "  white-space: pre-wrap;\n",
       "}\n",
       "</style>\n",
       "<small>shape: (5, 4)</small><table border=\"1\" class=\"dataframe\"><thead><tr><th>Numero Ticket</th><th>Tipo de Ticket</th><th>Proveedor</th><th>Costo Atencion</th></tr><tr><td>str</td><td>str</td><td>str</td><td>f64</td></tr></thead><tbody><tr><td>&quot;WO0000005584689&quot;</td><td>&quot;Variable&quot;</td><td>&quot;MR EXPRESS&quot;</td><td>null</td></tr><tr><td>&quot;WO0000004544943&quot;</td><td>&quot;Rechazado&quot;</td><td>null</td><td>100.0</td></tr><tr><td>&quot;WO0000004545246&quot;</td><td>&quot;Rechazado&quot;</td><td>null</td><td>100.0</td></tr><tr><td>&quot;WO0000004559125&quot;</td><td>&quot;Rechazado&quot;</td><td>null</td><td>100.0</td></tr><tr><td>&quot;WO0000004707477&quot;</td><td>&quot;Rechazado&quot;</td><td>null</td><td>100.0</td></tr></tbody></table></div>"
      ],
      "text/plain": [
       "shape: (5, 4)\n",
       "┌─────────────────┬────────────────┬────────────┬────────────────┐\n",
       "│ Numero Ticket   ┆ Tipo de Ticket ┆ Proveedor  ┆ Costo Atencion │\n",
       "│ ---             ┆ ---            ┆ ---        ┆ ---            │\n",
       "│ str             ┆ str            ┆ str        ┆ f64            │\n",
       "╞═════════════════╪════════════════╪════════════╪════════════════╡\n",
       "│ WO0000005584689 ┆ Variable       ┆ MR EXPRESS ┆ null           │\n",
       "│ WO0000004544943 ┆ Rechazado      ┆ null       ┆ 100.0          │\n",
       "│ WO0000004545246 ┆ Rechazado      ┆ null       ┆ 100.0          │\n",
       "│ WO0000004559125 ┆ Rechazado      ┆ null       ┆ 100.0          │\n",
       "│ WO0000004707477 ┆ Rechazado      ┆ null       ┆ 100.0          │\n",
       "└─────────────────┴────────────────┴────────────┴────────────────┘"
      ]
     },
     "execution_count": 63,
     "metadata": {},
     "output_type": "execute_result"
    }
   ],
   "source": [
    "Atenciones.head()"
   ]
  },
  {
   "cell_type": "code",
   "execution_count": 64,
   "metadata": {},
   "outputs": [
    {
     "data": {
      "text/html": [
       "<div><style>\n",
       ".dataframe > thead > tr,\n",
       ".dataframe > tbody > tr {\n",
       "  text-align: right;\n",
       "  white-space: pre-wrap;\n",
       "}\n",
       "</style>\n",
       "<small>shape: (5, 11)</small><table border=\"1\" class=\"dataframe\"><thead><tr><th>TicketID</th><th>Agencia</th><th>AgenciaID</th><th>Service Desk</th><th>Estado</th><th>Fecha Creacion</th><th>Fecha Termino</th><th>Fecha Cierre</th><th>Fecha Real Fin</th><th>Dias Cierre</th><th>Grupo Dias</th></tr><tr><td>str</td><td>str</td><td>i64</td><td>str</td><td>str</td><td>date</td><td>date</td><td>date</td><td>date</td><td>i64</td><td>str</td></tr></thead><tbody><tr><td>&quot;WO0000004122687&quot;</td><td>&quot;AREQUIPA&quot;</td><td>215000</td><td>&quot;Zona Norte&quot;</td><td>&quot;Cerrado&quot;</td><td>2022-06-01</td><td>2022-06-14</td><td>2022-06-14</td><td>2022-06-14</td><td>13</td><td>&quot;7 a 15 dias&quot;</td></tr><tr><td>&quot;WO0000004122649&quot;</td><td>&quot;METRO AV. WIESSE&quot;</td><td>191106</td><td>&quot;Zona Centro&quot;</td><td>&quot;Cerrado&quot;</td><td>2022-06-01</td><td>2022-06-17</td><td>2022-06-17</td><td>2022-06-17</td><td>16</td><td>&quot;15 a mas&quot;</td></tr><tr><td>&quot;WO0000004122502&quot;</td><td>&quot;NICOLAS AYLLON&quot;</td><td>191027</td><td>&quot;Zona Centro&quot;</td><td>&quot;Cerrado&quot;</td><td>2022-06-01</td><td>2022-06-08</td><td>2022-06-08</td><td>2022-06-08</td><td>7</td><td>&quot;7 a 15 dias&quot;</td></tr><tr><td>&quot;WO0000004122513&quot;</td><td>&quot;JAUREGUI&quot;</td><td>405005</td><td>&quot;Zona Norte&quot;</td><td>&quot;Cerrado&quot;</td><td>2022-06-01</td><td>2022-06-18</td><td>2022-06-18</td><td>2022-06-18</td><td>17</td><td>&quot;15 a mas&quot;</td></tr><tr><td>&quot;WO0000004122741&quot;</td><td>&quot;CANTO GRANDE&quot;</td><td>191096</td><td>&quot;Zona Centro&quot;</td><td>&quot;Cerrado&quot;</td><td>2022-06-01</td><td>2022-06-08</td><td>2022-06-08</td><td>2022-06-08</td><td>7</td><td>&quot;7 a 15 dias&quot;</td></tr></tbody></table></div>"
      ],
      "text/plain": [
       "shape: (5, 11)\n",
       "┌───────────┬───────────┬───────────┬───────────┬───┬───────────┬───────────┬───────────┬──────────┐\n",
       "│ TicketID  ┆ Agencia   ┆ AgenciaID ┆ Service   ┆ … ┆ Fecha     ┆ Fecha     ┆ Dias      ┆ Grupo    │\n",
       "│ ---       ┆ ---       ┆ ---       ┆ Desk      ┆   ┆ Cierre    ┆ Real Fin  ┆ Cierre    ┆ Dias     │\n",
       "│ str       ┆ str       ┆ i64       ┆ ---       ┆   ┆ ---       ┆ ---       ┆ ---       ┆ ---      │\n",
       "│           ┆           ┆           ┆ str       ┆   ┆ date      ┆ date      ┆ i64       ┆ str      │\n",
       "╞═══════════╪═══════════╪═══════════╪═══════════╪═══╪═══════════╪═══════════╪═══════════╪══════════╡\n",
       "│ WO0000004 ┆ AREQUIPA  ┆ 215000    ┆ Zona      ┆ … ┆ 2022-06-1 ┆ 2022-06-1 ┆ 13        ┆ 7 a 15   │\n",
       "│ 122687    ┆           ┆           ┆ Norte     ┆   ┆ 4         ┆ 4         ┆           ┆ dias     │\n",
       "│ WO0000004 ┆ METRO AV. ┆ 191106    ┆ Zona      ┆ … ┆ 2022-06-1 ┆ 2022-06-1 ┆ 16        ┆ 15 a mas │\n",
       "│ 122649    ┆ WIESSE    ┆           ┆ Centro    ┆   ┆ 7         ┆ 7         ┆           ┆          │\n",
       "│ WO0000004 ┆ NICOLAS   ┆ 191027    ┆ Zona      ┆ … ┆ 2022-06-0 ┆ 2022-06-0 ┆ 7         ┆ 7 a 15   │\n",
       "│ 122502    ┆ AYLLON    ┆           ┆ Centro    ┆   ┆ 8         ┆ 8         ┆           ┆ dias     │\n",
       "│ WO0000004 ┆ JAUREGUI  ┆ 405005    ┆ Zona      ┆ … ┆ 2022-06-1 ┆ 2022-06-1 ┆ 17        ┆ 15 a mas │\n",
       "│ 122513    ┆           ┆           ┆ Norte     ┆   ┆ 8         ┆ 8         ┆           ┆          │\n",
       "│ WO0000004 ┆ CANTO     ┆ 191096    ┆ Zona      ┆ … ┆ 2022-06-0 ┆ 2022-06-0 ┆ 7         ┆ 7 a 15   │\n",
       "│ 122741    ┆ GRANDE    ┆           ┆ Centro    ┆   ┆ 8         ┆ 8         ┆           ┆ dias     │\n",
       "└───────────┴───────────┴───────────┴───────────┴───┴───────────┴───────────┴───────────┴──────────┘"
      ]
     },
     "execution_count": 64,
     "metadata": {},
     "output_type": "execute_result"
    }
   ],
   "source": [
    "Tickets.head()"
   ]
  },
  {
   "cell_type": "markdown",
   "metadata": {},
   "source": [
    "##### Aplicando JOIN entre Atenciones y Ticket"
   ]
  },
  {
   "cell_type": "code",
   "execution_count": 65,
   "metadata": {},
   "outputs": [
    {
     "data": {
      "text/html": [
       "<div><style>\n",
       ".dataframe > thead > tr,\n",
       ".dataframe > tbody > tr {\n",
       "  text-align: right;\n",
       "  white-space: pre-wrap;\n",
       "}\n",
       "</style>\n",
       "<small>shape: (22_751, 14)</small><table border=\"1\" class=\"dataframe\"><thead><tr><th>TicketID</th><th>Agencia</th><th>AgenciaID</th><th>Service Desk</th><th>Estado</th><th>Fecha Creacion</th><th>Fecha Termino</th><th>Fecha Cierre</th><th>Fecha Real Fin</th><th>Dias Cierre</th><th>Grupo Dias</th><th>Tipo de Ticket</th><th>Proveedor</th><th>Costo Atencion</th></tr><tr><td>str</td><td>str</td><td>i64</td><td>str</td><td>str</td><td>date</td><td>date</td><td>date</td><td>date</td><td>i64</td><td>str</td><td>str</td><td>str</td><td>f64</td></tr></thead><tbody><tr><td>&quot;WO0000005584689&quot;</td><td>&quot;LAS MALVINAS&quot;</td><td>191076</td><td>&quot;Zona Centro&quot;</td><td>&quot;Cerrado&quot;</td><td>2023-09-08</td><td>2023-09-17</td><td>2023-09-20</td><td>2023-09-17</td><td>9</td><td>&quot;7 a 15 dias&quot;</td><td>&quot;Variable&quot;</td><td>&quot;MR EXPRESS&quot;</td><td>null</td></tr><tr><td>&quot;WO0000004544943&quot;</td><td>&quot;URB SAN FELIPE COMAS&quot;</td><td>191053</td><td>&quot;Zona Centro&quot;</td><td>&quot;Rechazado&quot;</td><td>2022-10-18</td><td>2022-10-18</td><td>null</td><td>2022-10-18</td><td>0</td><td>&quot;0 a 3 dias&quot;</td><td>&quot;Rechazado&quot;</td><td>null</td><td>100.0</td></tr><tr><td>&quot;WO0000004545246&quot;</td><td>&quot;PUENTE PIEDRA&quot;</td><td>191035</td><td>&quot;Zona Centro&quot;</td><td>&quot;Rechazado&quot;</td><td>2022-10-18</td><td>2022-10-18</td><td>null</td><td>2022-10-18</td><td>0</td><td>&quot;0 a 3 dias&quot;</td><td>&quot;Rechazado&quot;</td><td>null</td><td>100.0</td></tr><tr><td>&quot;WO0000004559125&quot;</td><td>&quot;EL PINO&quot;</td><td>191087</td><td>&quot;Zona Centro&quot;</td><td>&quot;Rechazado&quot;</td><td>2022-10-24</td><td>2022-10-25</td><td>null</td><td>2022-10-25</td><td>1</td><td>&quot;0 a 3 dias&quot;</td><td>&quot;Rechazado&quot;</td><td>null</td><td>100.0</td></tr><tr><td>&quot;WO0000004707477&quot;</td><td>&quot;LAS ALONDRAS&quot;</td><td>191044</td><td>&quot;Zona Centro&quot;</td><td>&quot;Rechazado&quot;</td><td>2022-11-08</td><td>null</td><td>null</td><td>null</td><td>null</td><td>null</td><td>&quot;Rechazado&quot;</td><td>null</td><td>100.0</td></tr><tr><td>&hellip;</td><td>&hellip;</td><td>&hellip;</td><td>&hellip;</td><td>&hellip;</td><td>&hellip;</td><td>&hellip;</td><td>&hellip;</td><td>&hellip;</td><td>&hellip;</td><td>&hellip;</td><td>&hellip;</td><td>&hellip;</td><td>&hellip;</td></tr><tr><td>&quot;WO0000005738348&quot;</td><td>&quot;LA FONTANA&quot;</td><td>193054</td><td>&quot;Zona Sur&quot;</td><td>&quot;Rechazado&quot;</td><td>2023-10-29</td><td>null</td><td>null</td><td>null</td><td>null</td><td>null</td><td>&quot;Rechazado&quot;</td><td>&quot;OTROS&quot;</td><td>null</td></tr><tr><td>&quot;WO0000005738704&quot;</td><td>&quot;IMPERIAL&quot;</td><td>255001</td><td>&quot;Zona Sur&quot;</td><td>&quot;En curso&quot;</td><td>2023-10-29</td><td>null</td><td>null</td><td>null</td><td>null</td><td>null</td><td>&quot;Variable&quot;</td><td>&quot;PROSEGUR&quot;</td><td>null</td></tr><tr><td>&quot;WO0000005738705&quot;</td><td>&quot;PISCO&quot;</td><td>470000</td><td>&quot;Zona Sur&quot;</td><td>&quot;En curso&quot;</td><td>2023-10-29</td><td>null</td><td>null</td><td>null</td><td>null</td><td>null</td><td>&quot;Variable&quot;</td><td>&quot;COORPORACION R&amp;M&quot;</td><td>null</td></tr><tr><td>&quot;WO0000005738715&quot;</td><td>&quot;LUREN&quot;</td><td>380004</td><td>&quot;Zona Sur&quot;</td><td>&quot;En curso&quot;</td><td>2023-10-29</td><td>null</td><td>null</td><td>null</td><td>null</td><td>null</td><td>&quot;Variable&quot;</td><td>&quot;PROSEGUR&quot;</td><td>null</td></tr><tr><td>&quot;WO0000005738721&quot;</td><td>&quot;PISCO&quot;</td><td>470000</td><td>&quot;Zona Sur&quot;</td><td>&quot;En curso&quot;</td><td>2023-10-29</td><td>null</td><td>null</td><td>null</td><td>null</td><td>null</td><td>&quot;Flat&quot;</td><td>&quot;ACCENTURE&quot;</td><td>null</td></tr></tbody></table></div>"
      ],
      "text/plain": [
       "shape: (22_751, 14)\n",
       "┌───────────┬───────────┬───────────┬───────────┬───┬───────────┬───────────┬───────────┬──────────┐\n",
       "│ TicketID  ┆ Agencia   ┆ AgenciaID ┆ Service   ┆ … ┆ Grupo     ┆ Tipo de   ┆ Proveedor ┆ Costo    │\n",
       "│ ---       ┆ ---       ┆ ---       ┆ Desk      ┆   ┆ Dias      ┆ Ticket    ┆ ---       ┆ Atencion │\n",
       "│ str       ┆ str       ┆ i64       ┆ ---       ┆   ┆ ---       ┆ ---       ┆ str       ┆ ---      │\n",
       "│           ┆           ┆           ┆ str       ┆   ┆ str       ┆ str       ┆           ┆ f64      │\n",
       "╞═══════════╪═══════════╪═══════════╪═══════════╪═══╪═══════════╪═══════════╪═══════════╪══════════╡\n",
       "│ WO0000005 ┆ LAS       ┆ 191076    ┆ Zona      ┆ … ┆ 7 a 15    ┆ Variable  ┆ MR        ┆ null     │\n",
       "│ 584689    ┆ MALVINAS  ┆           ┆ Centro    ┆   ┆ dias      ┆           ┆ EXPRESS   ┆          │\n",
       "│ WO0000004 ┆ URB SAN   ┆ 191053    ┆ Zona      ┆ … ┆ 0 a 3     ┆ Rechazado ┆ null      ┆ 100.0    │\n",
       "│ 544943    ┆ FELIPE    ┆           ┆ Centro    ┆   ┆ dias      ┆           ┆           ┆          │\n",
       "│           ┆ COMAS     ┆           ┆           ┆   ┆           ┆           ┆           ┆          │\n",
       "│ WO0000004 ┆ PUENTE    ┆ 191035    ┆ Zona      ┆ … ┆ 0 a 3     ┆ Rechazado ┆ null      ┆ 100.0    │\n",
       "│ 545246    ┆ PIEDRA    ┆           ┆ Centro    ┆   ┆ dias      ┆           ┆           ┆          │\n",
       "│ WO0000004 ┆ EL PINO   ┆ 191087    ┆ Zona      ┆ … ┆ 0 a 3     ┆ Rechazado ┆ null      ┆ 100.0    │\n",
       "│ 559125    ┆           ┆           ┆ Centro    ┆   ┆ dias      ┆           ┆           ┆          │\n",
       "│ WO0000004 ┆ LAS       ┆ 191044    ┆ Zona      ┆ … ┆ null      ┆ Rechazado ┆ null      ┆ 100.0    │\n",
       "│ 707477    ┆ ALONDRAS  ┆           ┆ Centro    ┆   ┆           ┆           ┆           ┆          │\n",
       "│ …         ┆ …         ┆ …         ┆ …         ┆ … ┆ …         ┆ …         ┆ …         ┆ …        │\n",
       "│ WO0000005 ┆ LA        ┆ 193054    ┆ Zona Sur  ┆ … ┆ null      ┆ Rechazado ┆ OTROS     ┆ null     │\n",
       "│ 738348    ┆ FONTANA   ┆           ┆           ┆   ┆           ┆           ┆           ┆          │\n",
       "│ WO0000005 ┆ IMPERIAL  ┆ 255001    ┆ Zona Sur  ┆ … ┆ null      ┆ Variable  ┆ PROSEGUR  ┆ null     │\n",
       "│ 738704    ┆           ┆           ┆           ┆   ┆           ┆           ┆           ┆          │\n",
       "│ WO0000005 ┆ PISCO     ┆ 470000    ┆ Zona Sur  ┆ … ┆ null      ┆ Variable  ┆ COORPORAC ┆ null     │\n",
       "│ 738705    ┆           ┆           ┆           ┆   ┆           ┆           ┆ ION R&M   ┆          │\n",
       "│ WO0000005 ┆ LUREN     ┆ 380004    ┆ Zona Sur  ┆ … ┆ null      ┆ Variable  ┆ PROSEGUR  ┆ null     │\n",
       "│ 738715    ┆           ┆           ┆           ┆   ┆           ┆           ┆           ┆          │\n",
       "│ WO0000005 ┆ PISCO     ┆ 470000    ┆ Zona Sur  ┆ … ┆ null      ┆ Flat      ┆ ACCENTURE ┆ null     │\n",
       "│ 738721    ┆           ┆           ┆           ┆   ┆           ┆           ┆           ┆          │\n",
       "└───────────┴───────────┴───────────┴───────────┴───┴───────────┴───────────┴───────────┴──────────┘"
      ]
     },
     "execution_count": 65,
     "metadata": {},
     "output_type": "execute_result"
    }
   ],
   "source": [
    "# Porpiedad other: la tabla para hacer match\n",
    "# Propiedad on: solo se usa si las columnas tienen el mismo nombre (en este caso no es asi \"TickectID\" y \"Numero Ticket\")\n",
    "# Propiedad how: puede ser inner, left, rigth\n",
    "Tickets.join(\n",
    "    other = Atenciones,\n",
    "    left_on = 'TicketID',\n",
    "    right_on = 'Numero Ticket',\n",
    "    how = 'inner'  \n",
    ")"
   ]
  },
  {
   "cell_type": "code",
   "execution_count": null,
   "metadata": {},
   "outputs": [],
   "source": [
    "# Porpiedad other: la tabla para hacer match\n",
    "# Propiedad on: solo se usa si las columnas tienen el mismo nombre (en este caso no es asi \"TickectID\" y \"Numero Ticket\")\n",
    "# Propiedad how: puede ser inner, left, rigth\n",
    "'''Tickets.join(\n",
    "    other = Atenciones,\n",
    "    left_on = 'TicketID',\n",
    "    right_on = 'Numero Ticket',\n",
    "    how = 'inner'  \n",
    ").join(\n",
    "    #si queremos usar otro join solo hacemos esto\n",
    ")'''\n"
   ]
  },
  {
   "cell_type": "markdown",
   "metadata": {},
   "source": [
    "#### Base total"
   ]
  },
  {
   "cell_type": "code",
   "execution_count": 67,
   "metadata": {},
   "outputs": [
    {
     "data": {
      "text/html": [
       "<div><style>\n",
       ".dataframe > thead > tr,\n",
       ".dataframe > tbody > tr {\n",
       "  text-align: right;\n",
       "  white-space: pre-wrap;\n",
       "}\n",
       "</style>\n",
       "<small>shape: (5, 9)</small><table border=\"1\" class=\"dataframe\"><thead><tr><th>TicketID</th><th>AgenciaID</th><th>Service Desk</th><th>Estado</th><th>Fecha Creacion</th><th>Fecha Cierre</th><th>Grupo Dias</th><th>Tipo ticket</th><th>Costo</th></tr><tr><td>str</td><td>i64</td><td>str</td><td>str</td><td>date</td><td>date</td><td>str</td><td>str</td><td>f64</td></tr></thead><tbody><tr><td>&quot;WO0000005584689&quot;</td><td>191076</td><td>&quot;Zona Centro&quot;</td><td>&quot;Cerrado&quot;</td><td>2023-09-08</td><td>2023-09-20</td><td>&quot;7 a 15 dias&quot;</td><td>&quot;Variable&quot;</td><td>null</td></tr><tr><td>&quot;WO0000004544943&quot;</td><td>191053</td><td>&quot;Zona Centro&quot;</td><td>&quot;Rechazado&quot;</td><td>2022-10-18</td><td>null</td><td>&quot;0 a 3 dias&quot;</td><td>&quot;Rechazado&quot;</td><td>100.0</td></tr><tr><td>&quot;WO0000004545246&quot;</td><td>191035</td><td>&quot;Zona Centro&quot;</td><td>&quot;Rechazado&quot;</td><td>2022-10-18</td><td>null</td><td>&quot;0 a 3 dias&quot;</td><td>&quot;Rechazado&quot;</td><td>100.0</td></tr><tr><td>&quot;WO0000004559125&quot;</td><td>191087</td><td>&quot;Zona Centro&quot;</td><td>&quot;Rechazado&quot;</td><td>2022-10-24</td><td>null</td><td>&quot;0 a 3 dias&quot;</td><td>&quot;Rechazado&quot;</td><td>100.0</td></tr><tr><td>&quot;WO0000004707477&quot;</td><td>191044</td><td>&quot;Zona Centro&quot;</td><td>&quot;Rechazado&quot;</td><td>2022-11-08</td><td>null</td><td>null</td><td>&quot;Rechazado&quot;</td><td>100.0</td></tr></tbody></table></div>"
      ],
      "text/plain": [
       "shape: (5, 9)\n",
       "┌──────────────┬───────────┬─────────┬───────────┬───┬──────────────┬────────┬─────────────┬───────┐\n",
       "│ TicketID     ┆ AgenciaID ┆ Service ┆ Estado    ┆ … ┆ Fecha Cierre ┆ Grupo  ┆ Tipo ticket ┆ Costo │\n",
       "│ ---          ┆ ---       ┆ Desk    ┆ ---       ┆   ┆ ---          ┆ Dias   ┆ ---         ┆ ---   │\n",
       "│ str          ┆ i64       ┆ ---     ┆ str       ┆   ┆ date         ┆ ---    ┆ str         ┆ f64   │\n",
       "│              ┆           ┆ str     ┆           ┆   ┆              ┆ str    ┆             ┆       │\n",
       "╞══════════════╪═══════════╪═════════╪═══════════╪═══╪══════════════╪════════╪═════════════╪═══════╡\n",
       "│ WO0000005584 ┆ 191076    ┆ Zona    ┆ Cerrado   ┆ … ┆ 2023-09-20   ┆ 7 a 15 ┆ Variable    ┆ null  │\n",
       "│ 689          ┆           ┆ Centro  ┆           ┆   ┆              ┆ dias   ┆             ┆       │\n",
       "│ WO0000004544 ┆ 191053    ┆ Zona    ┆ Rechazado ┆ … ┆ null         ┆ 0 a 3  ┆ Rechazado   ┆ 100.0 │\n",
       "│ 943          ┆           ┆ Centro  ┆           ┆   ┆              ┆ dias   ┆             ┆       │\n",
       "│ WO0000004545 ┆ 191035    ┆ Zona    ┆ Rechazado ┆ … ┆ null         ┆ 0 a 3  ┆ Rechazado   ┆ 100.0 │\n",
       "│ 246          ┆           ┆ Centro  ┆           ┆   ┆              ┆ dias   ┆             ┆       │\n",
       "│ WO0000004559 ┆ 191087    ┆ Zona    ┆ Rechazado ┆ … ┆ null         ┆ 0 a 3  ┆ Rechazado   ┆ 100.0 │\n",
       "│ 125          ┆           ┆ Centro  ┆           ┆   ┆              ┆ dias   ┆             ┆       │\n",
       "│ WO0000004707 ┆ 191044    ┆ Zona    ┆ Rechazado ┆ … ┆ null         ┆ null   ┆ Rechazado   ┆ 100.0 │\n",
       "│ 477          ┆           ┆ Centro  ┆           ┆   ┆              ┆        ┆             ┆       │\n",
       "└──────────────┴───────────┴─────────┴───────────┴───┴──────────────┴────────┴─────────────┴───────┘"
      ]
     },
     "execution_count": 67,
     "metadata": {},
     "output_type": "execute_result"
    }
   ],
   "source": [
    "# Base total\n",
    "BaseTotal = Tickets.join(\n",
    "    other = Atenciones,\n",
    "    left_on = 'TicketID',\n",
    "    right_on = 'Numero Ticket',\n",
    "    how = 'inner'    \n",
    ").select(\n",
    "    pl.col(['TicketID', 'AgenciaID', 'Service Desk', 'Estado', 'Fecha Creacion', 'Fecha Cierre', 'Grupo Dias']),\n",
    "    pl.col('Tipo de Ticket').alias('Tipo ticket'),\n",
    "    pl.col('Costo Atencion').alias('Costo'),\n",
    ")\n",
    "BaseTotal.head()"
   ]
  },
  {
   "cell_type": "markdown",
   "metadata": {},
   "source": [
    "##### Exportar la Base final a Excel (debemos instalar la libreria pip install xlswriter)"
   ]
  },
  {
   "cell_type": "code",
   "execution_count": 68,
   "metadata": {},
   "outputs": [
    {
     "data": {
      "text/plain": [
       "<xlsxwriter.workbook.Workbook at 0x1731599aff0>"
      ]
     },
     "execution_count": 68,
     "metadata": {},
     "output_type": "execute_result"
    }
   ],
   "source": [
    "# debemos instalar la libreria pip install xlswriter\n",
    "# cada vez que ejecutamos, sobreescribe el archivo, lo podemos ejecutar varias veces\n",
    "BaseTotal.write_excel(\n",
    "    workbook = 'Tickets_Atenciones.xlsx',\n",
    "    autofit = True, # las columnas auto redimensionan\n",
    "    dtype_formats = {pl.Date: \"dd/mm/yyyy\"},\n",
    "    float_precision = 2,\n",
    "    table_style = 'Table Style Medium 4'\n",
    ")"
   ]
  }
 ],
 "metadata": {
  "kernelspec": {
   "display_name": "vCursoPythonETL",
   "language": "python",
   "name": "python3"
  },
  "language_info": {
   "codemirror_mode": {
    "name": "ipython",
    "version": 3
   },
   "file_extension": ".py",
   "mimetype": "text/x-python",
   "name": "python",
   "nbconvert_exporter": "python",
   "pygments_lexer": "ipython3",
   "version": "3.12.2"
  }
 },
 "nbformat": 4,
 "nbformat_minor": 2
}
