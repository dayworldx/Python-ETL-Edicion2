{
 "cells": [
  {
   "cell_type": "code",
   "execution_count": 1,
   "metadata": {},
   "outputs": [
    {
     "data": {
      "text/plain": [
       "polars.config.Config"
      ]
     },
     "execution_count": 1,
     "metadata": {},
     "output_type": "execute_result"
    }
   ],
   "source": [
    "import polars as pl\n",
    "from polars import Config\n",
    "Config.set_fmt_str_lengths(100)"
   ]
  },
  {
   "cell_type": "markdown",
   "metadata": {},
   "source": [
    "### Leyendo un archivo sin encabezado\n",
    "#### Funciones empiezan con minusculas (date) y tipo de datos con mayuscula (Date)"
   ]
  },
  {
   "cell_type": "code",
   "execution_count": 2,
   "metadata": {},
   "outputs": [
    {
     "data": {
      "text/html": [
       "<div><style>\n",
       ".dataframe > thead > tr,\n",
       ".dataframe > tbody > tr {\n",
       "  text-align: right;\n",
       "  white-space: pre-wrap;\n",
       "}\n",
       "</style>\n",
       "<small>shape: (5, 4)</small><table border=\"1\" class=\"dataframe\"><thead><tr><th>Numero Ticket</th><th>Estado</th><th>Fecha Creacion</th><th>Clasificacion</th></tr><tr><td>str</td><td>str</td><td>date</td><td>i64</td></tr></thead><tbody><tr><td>&quot;WO0000004122687&quot;</td><td>&quot;Cerrado&quot;</td><td>2022-06-01</td><td>3</td></tr><tr><td>&quot;WO0000004122649&quot;</td><td>&quot;Cerrado&quot;</td><td>2022-06-01</td><td>3</td></tr><tr><td>&quot;WO0000004122502&quot;</td><td>&quot;Cerrado&quot;</td><td>2022-06-01</td><td>3</td></tr><tr><td>&quot;WO0000004122513&quot;</td><td>&quot;Cerrado&quot;</td><td>2022-06-01</td><td>3</td></tr><tr><td>&quot;WO0000004122741&quot;</td><td>&quot;Cerrado&quot;</td><td>2022-06-01</td><td>3</td></tr></tbody></table></div>"
      ],
      "text/plain": [
       "shape: (5, 4)\n",
       "┌─────────────────┬─────────┬────────────────┬───────────────┐\n",
       "│ Numero Ticket   ┆ Estado  ┆ Fecha Creacion ┆ Clasificacion │\n",
       "│ ---             ┆ ---     ┆ ---            ┆ ---           │\n",
       "│ str             ┆ str     ┆ date           ┆ i64           │\n",
       "╞═════════════════╪═════════╪════════════════╪═══════════════╡\n",
       "│ WO0000004122687 ┆ Cerrado ┆ 2022-06-01     ┆ 3             │\n",
       "│ WO0000004122649 ┆ Cerrado ┆ 2022-06-01     ┆ 3             │\n",
       "│ WO0000004122502 ┆ Cerrado ┆ 2022-06-01     ┆ 3             │\n",
       "│ WO0000004122513 ┆ Cerrado ┆ 2022-06-01     ┆ 3             │\n",
       "│ WO0000004122741 ┆ Cerrado ┆ 2022-06-01     ┆ 3             │\n",
       "└─────────────────┴─────────┴────────────────┴───────────────┘"
      ]
     },
     "execution_count": 2,
     "metadata": {},
     "output_type": "execute_result"
    }
   ],
   "source": [
    "#./ es para subir (entrar) a la carpeta Tickets\n",
    "#has_header: definir si tiene encabezado\n",
    "#schema: definimos los nombres de columnas y su tipo de dato\n",
    "se1 = pl.read_csv(\n",
    "    source='./Tickets/SinEncabezado.txt',\n",
    "    has_header=False,\n",
    "    separator=';',\n",
    "    schema={\n",
    "        \"Numero Ticket\": pl.Utf8,\n",
    "        \"Estado\": pl.Utf8,\n",
    "        \"Fecha Creacion\": pl.Date,\n",
    "        \"Clasificacion\": pl.Int64,\n",
    "    }\n",
    ")\n",
    "se1.head()"
   ]
  },
  {
   "cell_type": "code",
   "execution_count": 3,
   "metadata": {},
   "outputs": [
    {
     "data": {
      "text/html": [
       "<div><style>\n",
       ".dataframe > thead > tr,\n",
       ".dataframe > tbody > tr {\n",
       "  text-align: right;\n",
       "  white-space: pre-wrap;\n",
       "}\n",
       "</style>\n",
       "<small>shape: (5, 4)</small><table border=\"1\" class=\"dataframe\"><thead><tr><th>Numero Ticket</th><th>Estado</th><th>Fecha Creacion</th><th>Clasificacion</th></tr><tr><td>str</td><td>i64</td><td>date</td><td>i64</td></tr></thead><tbody><tr><td>&quot;WO0000004122687&quot;</td><td>null</td><td>2022-06-01</td><td>3</td></tr><tr><td>&quot;WO0000004122649&quot;</td><td>null</td><td>2022-06-01</td><td>3</td></tr><tr><td>&quot;WO0000004122502&quot;</td><td>null</td><td>2022-06-01</td><td>3</td></tr><tr><td>&quot;WO0000004122513&quot;</td><td>null</td><td>2022-06-01</td><td>3</td></tr><tr><td>&quot;WO0000004122741&quot;</td><td>null</td><td>2022-06-01</td><td>3</td></tr></tbody></table></div>"
      ],
      "text/plain": [
       "shape: (5, 4)\n",
       "┌─────────────────┬────────┬────────────────┬───────────────┐\n",
       "│ Numero Ticket   ┆ Estado ┆ Fecha Creacion ┆ Clasificacion │\n",
       "│ ---             ┆ ---    ┆ ---            ┆ ---           │\n",
       "│ str             ┆ i64    ┆ date           ┆ i64           │\n",
       "╞═════════════════╪════════╪════════════════╪═══════════════╡\n",
       "│ WO0000004122687 ┆ null   ┆ 2022-06-01     ┆ 3             │\n",
       "│ WO0000004122649 ┆ null   ┆ 2022-06-01     ┆ 3             │\n",
       "│ WO0000004122502 ┆ null   ┆ 2022-06-01     ┆ 3             │\n",
       "│ WO0000004122513 ┆ null   ┆ 2022-06-01     ┆ 3             │\n",
       "│ WO0000004122741 ┆ null   ┆ 2022-06-01     ┆ 3             │\n",
       "└─────────────────┴────────┴────────────────┴───────────────┘"
      ]
     },
     "execution_count": 3,
     "metadata": {},
     "output_type": "execute_result"
    }
   ],
   "source": [
    "#el mismo ejercicio de arriba, solo que a poner int a un campo texto sale error (campo Estado), pero colocando ignore_errors=True, saltamos ese error, y se pone null\n",
    "se1 = pl.read_csv(\n",
    "    source='./Tickets/SinEncabezado.txt',\n",
    "    has_header=False,\n",
    "    separator=';',\n",
    "    schema={\n",
    "        \"Numero Ticket\": pl.Utf8,\n",
    "        \"Estado\": pl.Int64,\n",
    "        \"Fecha Creacion\": pl.Date,\n",
    "        \"Clasificacion\": pl.Int64,\n",
    "    },\n",
    "    ignore_errors=True\n",
    ")\n",
    "se1.head()"
   ]
  },
  {
   "cell_type": "code",
   "execution_count": 28,
   "metadata": {},
   "outputs": [
    {
     "data": {
      "text/html": [
       "<div><style>\n",
       ".dataframe > thead > tr,\n",
       ".dataframe > tbody > tr {\n",
       "  text-align: right;\n",
       "  white-space: pre-wrap;\n",
       "}\n",
       "</style>\n",
       "<small>shape: (5, 4)</small><table border=\"1\" class=\"dataframe\"><thead><tr><th>column_1</th><th>column_2</th><th>column_3</th><th>column_4</th></tr><tr><td>str</td><td>str</td><td>str</td><td>i64</td></tr></thead><tbody><tr><td>&quot;WO0000004122687&quot;</td><td>&quot;Cerrado&quot;</td><td>&quot;1/06/2022&quot;</td><td>3</td></tr><tr><td>&quot;WO0000004122649&quot;</td><td>&quot;Cerrado&quot;</td><td>&quot;1/06/2022&quot;</td><td>3</td></tr><tr><td>&quot;WO0000004122502&quot;</td><td>&quot;Cerrado&quot;</td><td>&quot;1/06/2022&quot;</td><td>3</td></tr><tr><td>&quot;WO0000004122513&quot;</td><td>&quot;Cerrado&quot;</td><td>&quot;1/06/2022&quot;</td><td>3</td></tr><tr><td>&quot;WO0000004122741&quot;</td><td>&quot;Cerrado&quot;</td><td>&quot;1/06/2022&quot;</td><td>3</td></tr></tbody></table></div>"
      ],
      "text/plain": [
       "shape: (5, 4)\n",
       "┌─────────────────┬──────────┬───────────┬──────────┐\n",
       "│ column_1        ┆ column_2 ┆ column_3  ┆ column_4 │\n",
       "│ ---             ┆ ---      ┆ ---       ┆ ---      │\n",
       "│ str             ┆ str      ┆ str       ┆ i64      │\n",
       "╞═════════════════╪══════════╪═══════════╪══════════╡\n",
       "│ WO0000004122687 ┆ Cerrado  ┆ 1/06/2022 ┆ 3        │\n",
       "│ WO0000004122649 ┆ Cerrado  ┆ 1/06/2022 ┆ 3        │\n",
       "│ WO0000004122502 ┆ Cerrado  ┆ 1/06/2022 ┆ 3        │\n",
       "│ WO0000004122513 ┆ Cerrado  ┆ 1/06/2022 ┆ 3        │\n",
       "│ WO0000004122741 ┆ Cerrado  ┆ 1/06/2022 ┆ 3        │\n",
       "└─────────────────┴──────────┴───────────┴──────────┘"
      ]
     },
     "execution_count": 28,
     "metadata": {},
     "output_type": "execute_result"
    }
   ],
   "source": [
    "se1 = pl.read_csv(\n",
    "    source='./Tickets/SinEncabezado.txt',\n",
    "    has_header=False,\n",
    "    separator=';'   \n",
    ")\n",
    "se1.head()"
   ]
  },
  {
   "cell_type": "code",
   "execution_count": 29,
   "metadata": {},
   "outputs": [],
   "source": [
    "# Renombrando columnas\n",
    "se1 = se1.rename({\n",
    "    'column_1': 'Numero Ticket', 'column_2': 'Estado', 'column_3': 'Fecha Creacion', 'column_4': 'Clasificacion'\n",
    "})"
   ]
  },
  {
   "cell_type": "code",
   "execution_count": 30,
   "metadata": {},
   "outputs": [
    {
     "data": {
      "text/html": [
       "<div><style>\n",
       ".dataframe > thead > tr,\n",
       ".dataframe > tbody > tr {\n",
       "  text-align: right;\n",
       "  white-space: pre-wrap;\n",
       "}\n",
       "</style>\n",
       "<small>shape: (5, 4)</small><table border=\"1\" class=\"dataframe\"><thead><tr><th>Numero Ticket</th><th>Estado</th><th>Fecha Creacion</th><th>Clasificacion</th></tr><tr><td>str</td><td>str</td><td>str</td><td>i64</td></tr></thead><tbody><tr><td>&quot;WO0000004122687&quot;</td><td>&quot;Cerrado&quot;</td><td>&quot;1/06/2022&quot;</td><td>3</td></tr><tr><td>&quot;WO0000004122649&quot;</td><td>&quot;Cerrado&quot;</td><td>&quot;1/06/2022&quot;</td><td>3</td></tr><tr><td>&quot;WO0000004122502&quot;</td><td>&quot;Cerrado&quot;</td><td>&quot;1/06/2022&quot;</td><td>3</td></tr><tr><td>&quot;WO0000004122513&quot;</td><td>&quot;Cerrado&quot;</td><td>&quot;1/06/2022&quot;</td><td>3</td></tr><tr><td>&quot;WO0000004122741&quot;</td><td>&quot;Cerrado&quot;</td><td>&quot;1/06/2022&quot;</td><td>3</td></tr></tbody></table></div>"
      ],
      "text/plain": [
       "shape: (5, 4)\n",
       "┌─────────────────┬─────────┬────────────────┬───────────────┐\n",
       "│ Numero Ticket   ┆ Estado  ┆ Fecha Creacion ┆ Clasificacion │\n",
       "│ ---             ┆ ---     ┆ ---            ┆ ---           │\n",
       "│ str             ┆ str     ┆ str            ┆ i64           │\n",
       "╞═════════════════╪═════════╪════════════════╪═══════════════╡\n",
       "│ WO0000004122687 ┆ Cerrado ┆ 1/06/2022      ┆ 3             │\n",
       "│ WO0000004122649 ┆ Cerrado ┆ 1/06/2022      ┆ 3             │\n",
       "│ WO0000004122502 ┆ Cerrado ┆ 1/06/2022      ┆ 3             │\n",
       "│ WO0000004122513 ┆ Cerrado ┆ 1/06/2022      ┆ 3             │\n",
       "│ WO0000004122741 ┆ Cerrado ┆ 1/06/2022      ┆ 3             │\n",
       "└─────────────────┴─────────┴────────────────┴───────────────┘"
      ]
     },
     "execution_count": 30,
     "metadata": {},
     "output_type": "execute_result"
    }
   ],
   "source": [
    "se1.head()"
   ]
  },
  {
   "cell_type": "code",
   "execution_count": 31,
   "metadata": {},
   "outputs": [
    {
     "data": {
      "text/html": [
       "<div><style>\n",
       ".dataframe > thead > tr,\n",
       ".dataframe > tbody > tr {\n",
       "  text-align: right;\n",
       "  white-space: pre-wrap;\n",
       "}\n",
       "</style>\n",
       "<small>shape: (5, 4)</small><table border=\"1\" class=\"dataframe\"><thead><tr><th>Numero Ticket</th><th>Estado</th><th>Fecha Creacion</th><th>Clasificacion</th></tr><tr><td>str</td><td>str</td><td>date</td><td>i64</td></tr></thead><tbody><tr><td>&quot;WO0000004122687&quot;</td><td>&quot;Cerrado&quot;</td><td>2022-06-01</td><td>3</td></tr><tr><td>&quot;WO0000004122649&quot;</td><td>&quot;Cerrado&quot;</td><td>2022-06-01</td><td>3</td></tr><tr><td>&quot;WO0000004122502&quot;</td><td>&quot;Cerrado&quot;</td><td>2022-06-01</td><td>3</td></tr><tr><td>&quot;WO0000004122513&quot;</td><td>&quot;Cerrado&quot;</td><td>2022-06-01</td><td>3</td></tr><tr><td>&quot;WO0000004122741&quot;</td><td>&quot;Cerrado&quot;</td><td>2022-06-01</td><td>3</td></tr></tbody></table></div>"
      ],
      "text/plain": [
       "shape: (5, 4)\n",
       "┌─────────────────┬─────────┬────────────────┬───────────────┐\n",
       "│ Numero Ticket   ┆ Estado  ┆ Fecha Creacion ┆ Clasificacion │\n",
       "│ ---             ┆ ---     ┆ ---            ┆ ---           │\n",
       "│ str             ┆ str     ┆ date           ┆ i64           │\n",
       "╞═════════════════╪═════════╪════════════════╪═══════════════╡\n",
       "│ WO0000004122687 ┆ Cerrado ┆ 2022-06-01     ┆ 3             │\n",
       "│ WO0000004122649 ┆ Cerrado ┆ 2022-06-01     ┆ 3             │\n",
       "│ WO0000004122502 ┆ Cerrado ┆ 2022-06-01     ┆ 3             │\n",
       "│ WO0000004122513 ┆ Cerrado ┆ 2022-06-01     ┆ 3             │\n",
       "│ WO0000004122741 ┆ Cerrado ┆ 2022-06-01     ┆ 3             │\n",
       "└─────────────────┴─────────┴────────────────┴───────────────┘"
      ]
     },
     "execution_count": 31,
     "metadata": {},
     "output_type": "execute_result"
    }
   ],
   "source": [
    "# Cambiar el tipo de datos de las columnas fechas - el formato es de como está la columna\n",
    "se1 = se1.with_columns(\n",
    "    pl.col('Fecha Creacion').str.to_date('%d/%m/%Y')\n",
    ")\n",
    "se1.head()"
   ]
  },
  {
   "cell_type": "code",
   "execution_count": null,
   "metadata": {},
   "outputs": [],
   "source": []
  }
 ],
 "metadata": {
  "kernelspec": {
   "display_name": "vCursoPythonETL",
   "language": "python",
   "name": "python3"
  },
  "language_info": {
   "codemirror_mode": {
    "name": "ipython",
    "version": 3
   },
   "file_extension": ".py",
   "mimetype": "text/x-python",
   "name": "python",
   "nbconvert_exporter": "python",
   "pygments_lexer": "ipython3",
   "version": "3.12.2"
  }
 },
 "nbformat": 4,
 "nbformat_minor": 2
}
